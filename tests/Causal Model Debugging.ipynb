{
 "cells": [
  {
   "cell_type": "code",
   "execution_count": 1,
   "id": "f3463975-07a3-4299-8eb7-0f56601c34f1",
   "metadata": {},
   "outputs": [],
   "source": [
    "from lightning import Fabric\n",
    "import numpy as np\n",
    "from sklearn.linear_model import SGDRegressor\n",
    "import torch\n",
    "import torch.nn as nn\n",
    "import torch.nn.functional as F\n",
    "import torch.optim as optim\n",
    "from torch.utils.data import DataLoader\n",
    "\n",
    "from causalpruner.sgd_pruner import ParamDataset\n",
    "\n",
    "torch.set_float32_matmul_precision('medium')"
   ]
  },
  {
   "cell_type": "code",
   "execution_count": 2,
   "id": "7ef8473d-cad4-46c6-b567-2d8ba6507373",
   "metadata": {},
   "outputs": [],
   "source": [
    "fb = Fabric()\n",
    "fb.launch()"
   ]
  },
  {
   "cell_type": "code",
   "execution_count": 132,
   "id": "b34ab6fa-cd01-4831-aba1-802766898399",
   "metadata": {},
   "outputs": [],
   "source": [
    "ds = ParamDataset(\"./checkpoints/lenet_cifar10_causalpruner_10_10_1_0_0.9/weights/3/\",\n",
    "                  \"./checkpoints/lenet_cifar10_causalpruner_10_10_1_0_0.9/loss/3/\")\n",
    "# dl = DataLoader(ds, batch_size=16)\n",
    "dl = DataLoader(ds, batch_size=len(ds))\n",
    "dl = fb.setup_dataloaders(dl)"
   ]
  },
  {
   "cell_type": "code",
   "execution_count": 141,
   "id": "be3451e8-2282-47bd-a91c-ee45e2ed1c82",
   "metadata": {},
   "outputs": [
    {
     "data": {
      "text/plain": [
       "tensor(0.)"
      ]
     },
     "execution_count": 141,
     "metadata": {},
     "output_type": "execute_result"
    }
   ],
   "source": [
    "torch.min(ds.weights_zstats.std)"
   ]
  },
  {
   "cell_type": "code",
   "execution_count": 133,
   "id": "2ed28622-4dae-4d4e-838d-8fbf9ce905a6",
   "metadata": {},
   "outputs": [],
   "source": [
    "X, Y = next(iter(dl))"
   ]
  },
  {
   "cell_type": "code",
   "execution_count": 134,
   "id": "650d8c31-03af-42b0-bcdf-9e55f0c698b6",
   "metadata": {},
   "outputs": [
    {
     "name": "stdout",
     "output_type": "stream",
     "text": [
      "inf; 0.0\n",
      "3.746915340423584; 0.002070333808660507\n"
     ]
    }
   ],
   "source": [
    "X_abs = torch.abs(X)\n",
    "Y_abs = torch.abs(Y)\n",
    "\n",
    "print(f\"{torch.max(X_abs)}; {torch.min(X_abs)}\")\n",
    "print(f\"{torch.max(Y_abs)}; {torch.min(Y_abs)}\")"
   ]
  },
  {
   "cell_type": "code",
   "execution_count": 127,
   "id": "35b28eac-792f-457d-9792-4dcd25833d63",
   "metadata": {},
   "outputs": [],
   "source": [
    "X = X.cpu().numpy()\n",
    "Y = np.ravel(Y.cpu().numpy())"
   ]
  },
  {
   "cell_type": "code",
   "execution_count": 136,
   "id": "891bcdb5-b048-4e9a-9fcd-600a792d70db",
   "metadata": {},
   "outputs": [],
   "source": [
    "num_params = 11164352"
   ]
  },
  {
   "cell_type": "code",
   "execution_count": 131,
   "id": "25280e2c-c236-45cb-9544-8ef3035fa3c6",
   "metadata": {},
   "outputs": [],
   "source": [
    "X_mean = np.mean(X, axis=0)\n",
    "X_std = np.std(X, axis=0)\n",
    "Y_mean = np.mean(Y)\n",
    "Y_std = np.std(Y)"
   ]
  },
  {
   "cell_type": "code",
   "execution_count": 141,
   "id": "b3beb94e-7f39-431e-98ba-2b0b01261096",
   "metadata": {},
   "outputs": [],
   "source": [
    "X_new = (X - X_mean) / (X_std * np.sqrt(num_params))\n",
    "Y_new = (Y - Y_mean) / Y_std"
   ]
  },
  {
   "cell_type": "code",
   "execution_count": 142,
   "id": "a15b22a0-f896-4619-a0a4-f037a44f8249",
   "metadata": {},
   "outputs": [
    {
     "data": {
      "text/plain": [
       "array([[-1.76475340e-04, -1.92373816e-04, -1.90137129e-04, ...,\n",
       "        -1.16685937e-04, -8.89538424e-05, -5.31744736e-05],\n",
       "       [ 2.47291522e-03,  2.06345273e-03,  1.89813389e-03, ...,\n",
       "         2.65809125e-04, -1.76036017e-04, -2.04287557e-04],\n",
       "       [ 2.48669367e-05, -1.22674937e-05, -4.20605511e-06, ...,\n",
       "        -2.06190918e-04, -1.79182854e-04, -2.04287557e-04],\n",
       "       ...,\n",
       "       [-5.61698434e-05, -1.09705215e-04, -6.37451376e-05, ...,\n",
       "         2.94695463e-04,  2.26653065e-04, -1.38175586e-04],\n",
       "       [-1.73442604e-04, -1.93236803e-04, -1.98398237e-04, ...,\n",
       "         2.39037636e-05, -1.56191833e-04, -1.06890453e-04],\n",
       "       [ 1.54735264e-03,  1.69958174e-03,  1.92982843e-03, ...,\n",
       "         2.94695463e-04,  2.58459506e-04, -1.26369865e-04]], dtype=float32)"
      ]
     },
     "execution_count": 142,
     "metadata": {},
     "output_type": "execute_result"
    }
   ],
   "source": [
    "X_new"
   ]
  },
  {
   "cell_type": "code",
   "execution_count": 143,
   "id": "270f1104-9fa3-4730-aebe-daff289355b0",
   "metadata": {},
   "outputs": [],
   "source": [
    "trainer = SGDRegressor(loss=\"squared_error\", penalty=\"l1\", alpha=1e-3, fit_intercept=False, shuffle=True, verbose=True)"
   ]
  },
  {
   "cell_type": "code",
   "execution_count": 144,
   "id": "9d03ae54-202d-4e1a-8ac7-d3ed967014b3",
   "metadata": {},
   "outputs": [
    {
     "name": "stdout",
     "output_type": "stream",
     "text": [
      "-- Epoch 1\n",
      "Norm: 0.00, NNZs: 0, Bias: 0.000000, T: 196, Avg. loss: 0.000072\n",
      "Total training time: 12.59 seconds.\n",
      "-- Epoch 2\n",
      "Norm: 0.00, NNZs: 0, Bias: 0.000000, T: 392, Avg. loss: 0.000072\n",
      "Total training time: 25.11 seconds.\n",
      "-- Epoch 3\n",
      "Norm: 0.00, NNZs: 0, Bias: 0.000000, T: 588, Avg. loss: 0.000072\n",
      "Total training time: 37.59 seconds.\n",
      "-- Epoch 4\n",
      "Norm: 0.00, NNZs: 0, Bias: 0.000000, T: 784, Avg. loss: 0.000072\n",
      "Total training time: 50.08 seconds.\n",
      "-- Epoch 5\n",
      "Norm: 0.00, NNZs: 0, Bias: 0.000000, T: 980, Avg. loss: 0.000072\n",
      "Total training time: 62.61 seconds.\n",
      "-- Epoch 6\n",
      "Norm: 0.00, NNZs: 0, Bias: 0.000000, T: 1176, Avg. loss: 0.000072\n",
      "Total training time: 75.10 seconds.\n",
      "Convergence after 6 epochs took 75.11 seconds\n",
      "6\n"
     ]
    }
   ],
   "source": [
    "trainer.fit(X_new, Y)\n",
    "print(trainer.n_iter_)"
   ]
  },
  {
   "cell_type": "code",
   "execution_count": 95,
   "id": "2da6859b-b99a-48d5-af3d-745e22b985ea",
   "metadata": {},
   "outputs": [
    {
     "data": {
      "text/plain": [
       "array([0., 0., 0., ..., 0., 0., 0.])"
      ]
     },
     "execution_count": 95,
     "metadata": {},
     "output_type": "execute_result"
    }
   ],
   "source": [
    "trainer.coef_"
   ]
  },
  {
   "cell_type": "code",
   "execution_count": 105,
   "id": "f83c4c64-a59b-41cc-a82e-00171d51ed1d",
   "metadata": {},
   "outputs": [],
   "source": [
    "dl = DataLoader(ds, batch_size=16, shuffle=True)\n",
    "dl = fb.setup_dataloaders(dl)"
   ]
  },
  {
   "cell_type": "code",
   "execution_count": 106,
   "id": "209835e0-1747-4e48-b8c2-39e85d624f09",
   "metadata": {},
   "outputs": [],
   "source": [
    "num_params = ds.weights_zstats.num_params\n",
    "l1_regularization_coeff = 0\n",
    "lr = 1e-3"
   ]
  },
  {
   "cell_type": "code",
   "execution_count": 107,
   "id": "30f06c27-7b3f-4d3f-8633-b55bac36e6a3",
   "metadata": {},
   "outputs": [
    {
     "name": "stdout",
     "output_type": "stream",
     "text": [
      "0.0; 0.0\n"
     ]
    }
   ],
   "source": [
    "model = nn.Linear(num_params, 1, bias=False)\n",
    "nn.init.zeros_(model.weight)\n",
    "abs_weight = torch.abs(model.weight)\n",
    "print(f\"{torch.max(abs_weight)}; {torch.min(abs_weight)}\")\n",
    "optimizer = optim.SGD(model.parameters(), lr=lr)\n",
    "model, optimizer = fb.setup(model, optimizer)"
   ]
  },
  {
   "cell_type": "code",
   "execution_count": 108,
   "id": "57e91c2e-4a73-4482-b22d-ee35abfae557",
   "metadata": {},
   "outputs": [
    {
     "data": {
      "text/plain": [
       "ZStats(num_params=656500, mean=tensor([2.1518e-09, 0.0000e+00, 0.0000e+00,  ..., 0.0000e+00, 3.2475e-11,\n",
       "        1.3201e-12]), std=tensor([3.5973e-09, 0.0000e+00, 0.0000e+00,  ..., 0.0000e+00, 4.5777e-11,\n",
       "        2.0609e-12]))"
      ]
     },
     "execution_count": 108,
     "metadata": {},
     "output_type": "execute_result"
    }
   ],
   "source": [
    "ds.weights_zstats"
   ]
  },
  {
   "cell_type": "code",
   "execution_count": 109,
   "id": "024930b1-ff46-4e46-bbff-2d441f322bc0",
   "metadata": {},
   "outputs": [
    {
     "data": {
      "text/plain": [
       "ZStats(num_params=1, mean=tensor(-0.0111), std=tensor(0.0030))"
      ]
     },
     "execution_count": 109,
     "metadata": {},
     "output_type": "execute_result"
    }
   ],
   "source": [
    "ds.loss_zstats"
   ]
  },
  {
   "cell_type": "code",
   "execution_count": 110,
   "id": "7e12afd5-e60e-4d67-8c0e-7d72fa60fcc6",
   "metadata": {},
   "outputs": [],
   "source": [
    "# dl = DataLoader(ds, batch_size=len(ds))\n",
    "# dl = fb.setup_dataloaders(dl)\n",
    "# X, Y = next(iter(dl))\n",
    "# X = X.to('cuda')\n",
    "# Y = Y.to('cuda')"
   ]
  },
  {
   "cell_type": "code",
   "execution_count": 111,
   "id": "ca056edd-3aae-484d-86ff-1a120311f378",
   "metadata": {},
   "outputs": [],
   "source": [
    "# torch.min(X[torch.isfinite(X)])"
   ]
  },
  {
   "cell_type": "code",
   "execution_count": 112,
   "id": "fb32bbaf-df2e-49ab-93eb-33f2189f4dd0",
   "metadata": {},
   "outputs": [],
   "source": [
    "# X1 = X[0]\n",
    "# Y1 = model.weight[0]\n",
    "\n",
    "# total = 0\n",
    "# for x, y in zip(X1, Y1):\n",
    "#     x = torch.nan_to_num(x)\n",
    "#     y = torch.nan_to_num(y)\n",
    "#     result = x * y\n",
    "#     if np.isnan(result.detach().cpu().numpy()):\n",
    "#         print(x, y, result)\n",
    "#     total += result\n",
    "# print(total)"
   ]
  },
  {
   "cell_type": "code",
   "execution_count": 113,
   "id": "575ce193-1524-4810-bed6-5f7e22876e8b",
   "metadata": {},
   "outputs": [],
   "source": [
    "# X_mean_cuda = torch.tensor(X_mean, device='cuda')\n",
    "# X_std_cuda = torch.tensor(X_std, device='cuda')\n",
    "# Y_mean_cuda = torch.tensor(Y_mean, device='cuda')\n",
    "# Y_std_cuda = torch.tensor(Y_std, device='cuda')"
   ]
  },
  {
   "cell_type": "code",
   "execution_count": 114,
   "id": "1aefa50d-72bf-498f-aaf9-14e19540879d",
   "metadata": {},
   "outputs": [
    {
     "name": "stdout",
     "output_type": "stream",
     "text": [
      "9\n"
     ]
    }
   ],
   "source": [
    "num_epochs = int(np.ceil(np.log(num_params / len(ds))))\n",
    "print(num_epochs)"
   ]
  },
  {
   "cell_type": "code",
   "execution_count": 128,
   "id": "1a00a4b0-0b08-4f98-b8aa-52d9e1f47230",
   "metadata": {},
   "outputs": [
    {
     "name": "stdout",
     "output_type": "stream",
     "text": [
      "0.0; 0.0\n"
     ]
    }
   ],
   "source": [
    "model = nn.Linear(num_params, 1, bias=False)\n",
    "nn.init.zeros_(model.weight)\n",
    "abs_weight = torch.abs(model.weight)\n",
    "print(f\"{torch.max(abs_weight)}; {torch.min(abs_weight)}\")\n",
    "optimizer = optim.SGD(model.parameters(), lr=lr)\n",
    "model, optimizer = fb.setup(model, optimizer)\n",
    "model.train()\n",
    "dl = DataLoader(ds, batch_size=16, shuffle=True)\n",
    "dl = fb.setup_dataloaders(dl)\n",
    "dl_iter = iter(dl)"
   ]
  },
  {
   "cell_type": "code",
   "execution_count": 131,
   "id": "a29dacc3-1cad-4920-8e9f-47555ee25890",
   "metadata": {},
   "outputs": [
    {
     "name": "stdout",
     "output_type": "stream",
     "text": [
      "False; False\n",
      "False; False\n",
      "False; False\n",
      "False; True\n"
     ]
    }
   ],
   "source": [
    "X, Y = next(dl_iter)\n",
    "X = torch.nan_to_num(X, nan=0, posinf=10**10, neginf=-10**10)\n",
    "Y = torch.nan_to_num(Y, nan=0, posinf=10**10, neginf=-10**10)\n",
    "optimizer.zero_grad(set_to_none=True)\n",
    "print(f\"{torch.any(torch.isnan(X))}; {torch.any(torch.isinf(X))}\")\n",
    "print(f\"{torch.any(torch.isnan(Y))}; {torch.any(torch.isinf(Y))}\")\n",
    "outputs = model(X)\n",
    "print(f\"{torch.any(torch.isnan(outputs))}; {torch.any(torch.isinf(outputs))}\")\n",
    "Y = Y.view(outputs.size())\n",
    "loss = F.mse_loss(outputs, Y, reduction=\"mean\")\n",
    "fb.backward(loss)\n",
    "optimizer.step()\n",
    "print(f\"{torch.any(torch.isnan(model.weight))}; {torch.any(torch.isinf(model.weight))}\")"
   ]
  },
  {
   "cell_type": "code",
   "execution_count": 124,
   "id": "8c8df9e2-04a4-4a4b-a531-11aa49d6912c",
   "metadata": {},
   "outputs": [
    {
     "name": "stdout",
     "output_type": "stream",
     "text": [
      "False; False\n",
      "False; True\n",
      "epoch: 1; batch: 1; Loss: inf\n",
      "True; True\n",
      "False; False\n",
      "True; False\n",
      "epoch: 1; batch: 2; Loss: nan\n",
      "True; False\n",
      "False; False\n",
      "True; False\n",
      "epoch: 1; batch: 3; Loss: nan\n",
      "True; False\n",
      "False; False\n",
      "True; False\n",
      "epoch: 1; batch: 4; Loss: nan\n",
      "True; False\n",
      "False; False\n",
      "True; False\n",
      "epoch: 1; batch: 5; Loss: nan\n",
      "True; False\n",
      "False; False\n",
      "True; False\n",
      "epoch: 1; batch: 6; Loss: nan\n",
      "True; False\n",
      "False; False\n",
      "True; False\n",
      "epoch: 1; batch: 7; Loss: nan\n",
      "True; False\n",
      "False; False\n",
      "True; False\n",
      "epoch: 1; batch: 8; Loss: nan\n",
      "True; False\n",
      "False; False\n",
      "True; False\n",
      "epoch: 1; batch: 9; Loss: nan\n",
      "True; False\n",
      "False; False\n",
      "True; False\n",
      "epoch: 1; batch: 10; Loss: nan\n",
      "True; False\n",
      "False; False\n",
      "True; False\n",
      "epoch: 1; batch: 11; Loss: nan\n",
      "True; False\n",
      "False; False\n",
      "True; False\n",
      "epoch: 1; batch: 12; Loss: nan\n",
      "True; False\n",
      "False; False\n",
      "True; False\n",
      "epoch: 1; batch: 13; Loss: nan\n",
      "True; False\n",
      "epoch: 1; avg_loss: nan\n",
      "False; False\n",
      "True; False\n",
      "epoch: 2; batch: 1; Loss: nan\n",
      "True; False\n",
      "False; False\n",
      "True; False\n",
      "epoch: 2; batch: 2; Loss: nan\n",
      "True; False\n",
      "False; False\n",
      "True; False\n",
      "epoch: 2; batch: 3; Loss: nan\n",
      "True; False\n",
      "False; False\n",
      "True; False\n",
      "epoch: 2; batch: 4; Loss: nan\n",
      "True; False\n",
      "False; False\n",
      "True; False\n",
      "epoch: 2; batch: 5; Loss: nan\n",
      "True; False\n",
      "False; False\n",
      "True; False\n",
      "epoch: 2; batch: 6; Loss: nan\n",
      "True; False\n",
      "False; False\n",
      "True; False\n",
      "epoch: 2; batch: 7; Loss: nan\n",
      "True; False\n",
      "False; False\n",
      "True; False\n",
      "epoch: 2; batch: 8; Loss: nan\n",
      "True; False\n",
      "False; False\n",
      "True; False\n",
      "epoch: 2; batch: 9; Loss: nan\n",
      "True; False\n",
      "False; False\n",
      "True; False\n",
      "epoch: 2; batch: 10; Loss: nan\n",
      "True; False\n",
      "False; False\n",
      "True; False\n",
      "epoch: 2; batch: 11; Loss: nan\n",
      "True; False\n",
      "False; False\n",
      "True; False\n",
      "epoch: 2; batch: 12; Loss: nan\n",
      "True; False\n",
      "False; False\n",
      "True; False\n",
      "epoch: 2; batch: 13; Loss: nan\n",
      "True; False\n",
      "epoch: 2; avg_loss: nan\n",
      "False; False\n",
      "True; False\n",
      "epoch: 3; batch: 1; Loss: nan\n",
      "True; False\n",
      "False; False\n",
      "True; False\n",
      "epoch: 3; batch: 2; Loss: nan\n",
      "True; False\n",
      "False; False\n",
      "True; False\n",
      "epoch: 3; batch: 3; Loss: nan\n",
      "True; False\n",
      "False; False\n",
      "True; False\n",
      "epoch: 3; batch: 4; Loss: nan\n",
      "True; False\n",
      "False; False\n",
      "True; False\n",
      "epoch: 3; batch: 5; Loss: nan\n",
      "True; False\n",
      "False; False\n",
      "True; False\n",
      "epoch: 3; batch: 6; Loss: nan\n",
      "True; False\n",
      "False; False\n",
      "True; False\n",
      "epoch: 3; batch: 7; Loss: nan\n",
      "True; False\n",
      "False; False\n",
      "True; False\n",
      "epoch: 3; batch: 8; Loss: nan\n",
      "True; False\n",
      "False; False\n",
      "True; False\n",
      "epoch: 3; batch: 9; Loss: nan\n",
      "True; False\n",
      "False; False\n",
      "True; False\n",
      "epoch: 3; batch: 10; Loss: nan\n",
      "True; False\n",
      "False; False\n",
      "True; False\n",
      "epoch: 3; batch: 11; Loss: nan\n",
      "True; False\n",
      "False; False\n",
      "True; False\n",
      "epoch: 3; batch: 12; Loss: nan\n",
      "True; False\n",
      "False; False\n",
      "True; False\n",
      "epoch: 3; batch: 13; Loss: nan\n",
      "True; False\n",
      "epoch: 3; avg_loss: nan\n",
      "False; False\n",
      "True; False\n",
      "epoch: 4; batch: 1; Loss: nan\n",
      "True; False\n",
      "False; False\n",
      "True; False\n",
      "epoch: 4; batch: 2; Loss: nan\n",
      "True; False\n",
      "False; False\n",
      "True; False\n",
      "epoch: 4; batch: 3; Loss: nan\n",
      "True; False\n",
      "False; False\n",
      "True; False\n",
      "epoch: 4; batch: 4; Loss: nan\n",
      "True; False\n",
      "False; False\n",
      "True; False\n",
      "epoch: 4; batch: 5; Loss: nan\n",
      "True; False\n",
      "False; False\n",
      "True; False\n",
      "epoch: 4; batch: 6; Loss: nan\n",
      "True; False\n",
      "False; False\n",
      "True; False\n",
      "epoch: 4; batch: 7; Loss: nan\n",
      "True; False\n",
      "False; False\n",
      "True; False\n",
      "epoch: 4; batch: 8; Loss: nan\n",
      "True; False\n",
      "False; False\n",
      "True; False\n",
      "epoch: 4; batch: 9; Loss: nan\n",
      "True; False\n",
      "False; False\n",
      "True; False\n",
      "epoch: 4; batch: 10; Loss: nan\n",
      "True; False\n",
      "False; False\n",
      "True; False\n",
      "epoch: 4; batch: 11; Loss: nan\n",
      "True; False\n",
      "False; False\n",
      "True; False\n",
      "epoch: 4; batch: 12; Loss: nan\n",
      "True; False\n",
      "False; False\n",
      "True; False\n",
      "epoch: 4; batch: 13; Loss: nan\n",
      "True; False\n",
      "epoch: 4; avg_loss: nan\n",
      "False; False\n",
      "True; False\n",
      "epoch: 5; batch: 1; Loss: nan\n",
      "True; False\n",
      "False; False\n",
      "True; False\n",
      "epoch: 5; batch: 2; Loss: nan\n",
      "True; False\n",
      "False; False\n",
      "True; False\n",
      "epoch: 5; batch: 3; Loss: nan\n",
      "True; False\n",
      "False; False\n",
      "True; False\n",
      "epoch: 5; batch: 4; Loss: nan\n",
      "True; False\n",
      "False; False\n",
      "True; False\n",
      "epoch: 5; batch: 5; Loss: nan\n",
      "True; False\n",
      "False; False\n",
      "True; False\n",
      "epoch: 5; batch: 6; Loss: nan\n",
      "True; False\n",
      "False; False\n",
      "True; False\n",
      "epoch: 5; batch: 7; Loss: nan\n",
      "True; False\n",
      "False; False\n",
      "True; False\n",
      "epoch: 5; batch: 8; Loss: nan\n",
      "True; False\n",
      "False; False\n",
      "True; False\n",
      "epoch: 5; batch: 9; Loss: nan\n",
      "True; False\n",
      "False; False\n",
      "True; False\n",
      "epoch: 5; batch: 10; Loss: nan\n",
      "True; False\n",
      "False; False\n",
      "True; False\n",
      "epoch: 5; batch: 11; Loss: nan\n",
      "True; False\n",
      "False; False\n",
      "True; False\n",
      "epoch: 5; batch: 12; Loss: nan\n",
      "True; False\n",
      "False; False\n",
      "True; False\n",
      "epoch: 5; batch: 13; Loss: nan\n",
      "True; False\n",
      "epoch: 5; avg_loss: nan\n",
      "False; False\n",
      "True; False\n",
      "epoch: 6; batch: 1; Loss: nan\n",
      "True; False\n",
      "False; False\n",
      "True; False\n",
      "epoch: 6; batch: 2; Loss: nan\n",
      "True; False\n",
      "False; False\n",
      "True; False\n",
      "epoch: 6; batch: 3; Loss: nan\n",
      "True; False\n",
      "False; False\n",
      "True; False\n",
      "epoch: 6; batch: 4; Loss: nan\n",
      "True; False\n",
      "False; False\n",
      "True; False\n",
      "epoch: 6; batch: 5; Loss: nan\n",
      "True; False\n",
      "False; False\n",
      "True; False\n",
      "epoch: 6; batch: 6; Loss: nan\n",
      "True; False\n",
      "False; False\n",
      "True; False\n",
      "epoch: 6; batch: 7; Loss: nan\n",
      "True; False\n",
      "False; False\n",
      "True; False\n",
      "epoch: 6; batch: 8; Loss: nan\n",
      "True; False\n",
      "False; False\n",
      "True; False\n",
      "epoch: 6; batch: 9; Loss: nan\n",
      "True; False\n",
      "False; False\n",
      "True; False\n",
      "epoch: 6; batch: 10; Loss: nan\n",
      "True; False\n",
      "False; False\n",
      "True; False\n",
      "epoch: 6; batch: 11; Loss: nan\n",
      "True; False\n",
      "False; False\n",
      "True; False\n",
      "epoch: 6; batch: 12; Loss: nan\n",
      "True; False\n",
      "False; False\n",
      "True; False\n",
      "epoch: 6; batch: 13; Loss: nan\n",
      "True; False\n",
      "epoch: 6; avg_loss: nan\n",
      "False; False\n",
      "True; False\n",
      "epoch: 7; batch: 1; Loss: nan\n",
      "True; False\n",
      "False; False\n",
      "True; False\n",
      "epoch: 7; batch: 2; Loss: nan\n",
      "True; False\n",
      "False; False\n",
      "True; False\n",
      "epoch: 7; batch: 3; Loss: nan\n",
      "True; False\n",
      "False; False\n",
      "True; False\n",
      "epoch: 7; batch: 4; Loss: nan\n",
      "True; False\n",
      "False; False\n",
      "True; False\n",
      "epoch: 7; batch: 5; Loss: nan\n",
      "True; False\n",
      "False; False\n",
      "True; False\n",
      "epoch: 7; batch: 6; Loss: nan\n",
      "True; False\n",
      "False; False\n",
      "True; False\n",
      "epoch: 7; batch: 7; Loss: nan\n",
      "True; False\n",
      "False; False\n",
      "True; False\n",
      "epoch: 7; batch: 8; Loss: nan\n",
      "True; False\n",
      "False; False\n",
      "True; False\n",
      "epoch: 7; batch: 9; Loss: nan\n",
      "True; False\n",
      "False; False\n",
      "True; False\n",
      "epoch: 7; batch: 10; Loss: nan\n",
      "True; False\n",
      "False; False\n",
      "True; False\n",
      "epoch: 7; batch: 11; Loss: nan\n",
      "True; False\n",
      "False; False\n",
      "True; False\n",
      "epoch: 7; batch: 12; Loss: nan\n",
      "True; False\n",
      "False; False\n",
      "True; False\n",
      "epoch: 7; batch: 13; Loss: nan\n",
      "True; False\n",
      "epoch: 7; avg_loss: nan\n",
      "False; False\n",
      "True; False\n",
      "epoch: 8; batch: 1; Loss: nan\n",
      "True; False\n",
      "False; False\n",
      "True; False\n",
      "epoch: 8; batch: 2; Loss: nan\n",
      "True; False\n",
      "False; False\n",
      "True; False\n",
      "epoch: 8; batch: 3; Loss: nan\n",
      "True; False\n",
      "False; False\n",
      "True; False\n",
      "epoch: 8; batch: 4; Loss: nan\n",
      "True; False\n",
      "False; False\n",
      "True; False\n",
      "epoch: 8; batch: 5; Loss: nan\n",
      "True; False\n",
      "False; False\n",
      "True; False\n",
      "epoch: 8; batch: 6; Loss: nan\n",
      "True; False\n",
      "False; False\n",
      "True; False\n",
      "epoch: 8; batch: 7; Loss: nan\n",
      "True; False\n",
      "False; False\n",
      "True; False\n",
      "epoch: 8; batch: 8; Loss: nan\n",
      "True; False\n",
      "False; False\n",
      "True; False\n",
      "epoch: 8; batch: 9; Loss: nan\n",
      "True; False\n",
      "False; False\n",
      "True; False\n",
      "epoch: 8; batch: 10; Loss: nan\n",
      "True; False\n",
      "False; False\n",
      "True; False\n",
      "epoch: 8; batch: 11; Loss: nan\n",
      "True; False\n",
      "False; False\n",
      "True; False\n",
      "epoch: 8; batch: 12; Loss: nan\n",
      "True; False\n",
      "False; False\n",
      "True; False\n",
      "epoch: 8; batch: 13; Loss: nan\n",
      "True; False\n",
      "epoch: 8; avg_loss: nan\n",
      "False; False\n",
      "True; False\n",
      "epoch: 9; batch: 1; Loss: nan\n",
      "True; False\n",
      "False; False\n",
      "True; False\n",
      "epoch: 9; batch: 2; Loss: nan\n",
      "True; False\n",
      "False; False\n",
      "True; False\n",
      "epoch: 9; batch: 3; Loss: nan\n",
      "True; False\n",
      "False; False\n",
      "True; False\n",
      "epoch: 9; batch: 4; Loss: nan\n",
      "True; False\n",
      "False; False\n",
      "True; False\n",
      "epoch: 9; batch: 5; Loss: nan\n",
      "True; False\n",
      "False; False\n",
      "True; False\n",
      "epoch: 9; batch: 6; Loss: nan\n",
      "True; False\n",
      "False; False\n",
      "True; False\n",
      "epoch: 9; batch: 7; Loss: nan\n",
      "True; False\n",
      "False; False\n",
      "True; False\n",
      "epoch: 9; batch: 8; Loss: nan\n",
      "True; False\n",
      "False; False\n",
      "True; False\n",
      "epoch: 9; batch: 9; Loss: nan\n",
      "True; False\n",
      "False; False\n",
      "True; False\n",
      "epoch: 9; batch: 10; Loss: nan\n",
      "True; False\n",
      "False; False\n",
      "True; False\n",
      "epoch: 9; batch: 11; Loss: nan\n",
      "True; False\n",
      "False; False\n",
      "True; False\n",
      "epoch: 9; batch: 12; Loss: nan\n",
      "True; False\n",
      "False; False\n",
      "True; False\n",
      "epoch: 9; batch: 13; Loss: nan\n",
      "True; False\n",
      "epoch: 9; avg_loss: nan\n"
     ]
    }
   ],
   "source": [
    "model.train()\n",
    "for epoch in range(num_epochs):\n",
    "    total_loss = 0\n",
    "    num_batches = 0\n",
    "    for idx, (X, Y) in enumerate(dl):\n",
    "        optimizer.zero_grad(set_to_none=True)\n",
    "        X, Y = torch.nan_to_num(X), torch.nan_to_num(Y)\n",
    "        print(f\"{torch.any(torch.isnan(X))}; {torch.any(torch.isinf(X))}\")\n",
    "        outputs = model(X)\n",
    "        print(f\"{torch.any(torch.isnan(outputs))}; {torch.any(torch.isinf(outputs))}\")\n",
    "        Y = Y.view(outputs.size())\n",
    "        loss = F.mse_loss(outputs, Y, reduction=\"mean\")\n",
    "        total_loss += loss.item()\n",
    "        num_batches += 1\n",
    "        print(f\"epoch: {epoch + 1}; batch: {idx + 1}; Loss: {loss.item()}\")\n",
    "        fb.backward(loss)\n",
    "        optimizer.step()\n",
    "        print(f\"{torch.any(torch.isnan(model.weight))}; {torch.any(torch.isinf(model.weight))}\")\n",
    "    avg_loss = total_loss / num_batches\n",
    "    print(f\"epoch: {epoch + 1}; avg_loss: {avg_loss}\")"
   ]
  },
  {
   "cell_type": "code",
   "execution_count": null,
   "id": "8e5a9a9a-7184-4b91-9397-c09619b2b212",
   "metadata": {},
   "outputs": [],
   "source": []
  },
  {
   "cell_type": "code",
   "execution_count": null,
   "id": "83668149-59fa-45bf-ae37-d236369c6261",
   "metadata": {},
   "outputs": [],
   "source": [
    "model.weight"
   ]
  },
  {
   "cell_type": "code",
   "execution_count": 158,
   "id": "d38fd6e3-9093-4b96-abb9-b41593ee2919",
   "metadata": {},
   "outputs": [
    {
     "data": {
      "text/plain": [
       "tensor(0.0525, device='cuda:0', grad_fn=<MaxBackward1>)"
      ]
     },
     "execution_count": 158,
     "metadata": {},
     "output_type": "execute_result"
    }
   ],
   "source": [
    "torch.max(torch.abs(model.weight))"
   ]
  },
  {
   "cell_type": "code",
   "execution_count": 159,
   "id": "2b94cbb7-0b8f-4be3-9e38-5953f30d81f5",
   "metadata": {},
   "outputs": [
    {
     "data": {
      "text/plain": [
       "tensor(1.4300e-09, device='cuda:0', grad_fn=<MinBackward1>)"
      ]
     },
     "execution_count": 159,
     "metadata": {},
     "output_type": "execute_result"
    }
   ],
   "source": [
    "torch.min(torch.abs(model.weight))"
   ]
  },
  {
   "cell_type": "code",
   "execution_count": 203,
   "id": "6234f097-adc6-4c7a-a2c0-46581d848ca9",
   "metadata": {},
   "outputs": [],
   "source": [
    "a = torch.div(0, 0)"
   ]
  },
  {
   "cell_type": "code",
   "execution_count": 204,
   "id": "b6bd8d07-d14d-44cc-a659-639b4e88e1d4",
   "metadata": {},
   "outputs": [],
   "source": [
    "a[torch.isnan(a)] = 0"
   ]
  },
  {
   "cell_type": "code",
   "execution_count": 205,
   "id": "8b57d1d9-368d-4eac-8d87-bd031ef5051f",
   "metadata": {},
   "outputs": [
    {
     "data": {
      "text/plain": [
       "tensor(0.)"
      ]
     },
     "execution_count": 205,
     "metadata": {},
     "output_type": "execute_result"
    }
   ],
   "source": [
    "a"
   ]
  },
  {
   "cell_type": "code",
   "execution_count": null,
   "id": "bbb17274-6258-4ce9-949c-8e3dd97aac51",
   "metadata": {},
   "outputs": [],
   "source": []
  }
 ],
 "metadata": {
  "kernelspec": {
   "display_name": "Python 3 (ipykernel)",
   "language": "python",
   "name": "python3"
  },
  "language_info": {
   "codemirror_mode": {
    "name": "ipython",
    "version": 3
   },
   "file_extension": ".py",
   "mimetype": "text/x-python",
   "name": "python",
   "nbconvert_exporter": "python",
   "pygments_lexer": "ipython3",
   "version": "3.12.9"
  }
 },
 "nbformat": 4,
 "nbformat_minor": 5
}
