{
 "cells": [
  {
   "cell_type": "code",
   "execution_count": 1,
   "id": "f3463975-07a3-4299-8eb7-0f56601c34f1",
   "metadata": {},
   "outputs": [],
   "source": [
    "from lightning import Fabric\n",
    "import numpy as np\n",
    "from sklearn.linear_model import SGDRegressor\n",
    "import torch\n",
    "import torch.nn as nn\n",
    "import torch.nn.functional as F\n",
    "import torch.optim as optim\n",
    "from torch.utils.data import DataLoader\n",
    "from tqdm.auto import tqdm, trange\n",
    "\n",
    "from causalpruner.sgd_pruner import ParamDataset\n",
    "\n",
    "torch.set_float32_matmul_precision('medium')"
   ]
  },
  {
   "cell_type": "code",
   "execution_count": 2,
   "id": "7ef8473d-cad4-46c6-b567-2d8ba6507373",
   "metadata": {},
   "outputs": [],
   "source": [
    "fb = Fabric()\n",
    "fb.launch()"
   ]
  },
  {
   "cell_type": "code",
   "execution_count": 3,
   "id": "b34ab6fa-cd01-4831-aba1-802766898399",
   "metadata": {},
   "outputs": [
    {
     "name": "stdout",
     "output_type": "stream",
     "text": [
      "2.8429925514467103e-12; 1.6184477369396433e-11\n",
      "-8.992925722850487e-05; 3.0292972951428965e-05\n"
     ]
    }
   ],
   "source": [
    "ds = ParamDataset(\"./checkpoints/mlpnet_mnist_causalpruner_1_10_5_0_0.98/weights/0\",\n",
    "                  \"./checkpoints/mlpnet_mnist_causalpruner_1_10_5_0_0.98/loss/0\",\n",
    "                  True)\n",
    "dl = DataLoader(ds, batch_size=len(ds))\n",
    "dl = fb.setup_dataloaders(dl)"
   ]
  },
  {
   "cell_type": "code",
   "execution_count": 4,
   "id": "2ed28622-4dae-4d4e-838d-8fbf9ce905a6",
   "metadata": {},
   "outputs": [],
   "source": [
    "X, Y = next(iter(dl))"
   ]
  },
  {
   "cell_type": "code",
   "execution_count": 7,
   "id": "3b178e4a-b04f-402f-bff1-093f0dd400ff",
   "metadata": {},
   "outputs": [
    {
     "name": "stdout",
     "output_type": "stream",
     "text": [
      "torch.return_types.topk(\n",
      "values=tensor([30.3825], device='cuda:0'),\n",
      "indices=tensor([31554], device='cuda:0'))\n"
     ]
    }
   ],
   "source": [
    "topk = torch.topk(torch.mean(X, dim=0), k=1, largest=True)\n",
    "print(topk)"
   ]
  },
  {
   "cell_type": "code",
   "execution_count": 8,
   "id": "5702fed8-448a-4208-817d-971dbec837e1",
   "metadata": {},
   "outputs": [
    {
     "data": {
      "text/plain": [
       "tensor([ 3.2132, 18.6051, 25.2001,  ...,  8.6268, 10.5456, 22.4080],\n",
       "       device='cuda:0')"
      ]
     },
     "execution_count": 8,
     "metadata": {},
     "output_type": "execute_result"
    }
   ],
   "source": [
    "X[:,topk.indices[0]]"
   ]
  },
  {
   "cell_type": "code",
   "execution_count": 9,
   "id": "d5d79a07-8bbd-4392-8166-2de31688fba4",
   "metadata": {},
   "outputs": [
    {
     "data": {
      "text/plain": [
       "tensor([1.0002, 1.2474, 0.8577,  ..., 0.9133, 1.0585, 1.8976], device='cuda:0')"
      ]
     },
     "execution_count": 9,
     "metadata": {},
     "output_type": "execute_result"
    }
   ],
   "source": [
    "Y"
   ]
  },
  {
   "cell_type": "code",
   "execution_count": 10,
   "id": "650d8c31-03af-42b0-bcdf-9e55f0c698b6",
   "metadata": {},
   "outputs": [
    {
     "name": "stdout",
     "output_type": "stream",
     "text": [
      "526.0156860351562; 2.666211912583094e-06\n",
      "2.7532496452331543; 0.2631295323371887\n"
     ]
    }
   ],
   "source": [
    "X_abs = torch.abs(X)\n",
    "Y_abs = torch.abs(Y)\n",
    "\n",
    "print(f\"{torch.max(X_abs)}; {torch.min(X_abs)}\")\n",
    "print(f\"{torch.max(Y_abs)}; {torch.min(Y_abs)}\")"
   ]
  },
  {
   "cell_type": "code",
   "execution_count": 11,
   "id": "f83c4c64-a59b-41cc-a82e-00171d51ed1d",
   "metadata": {},
   "outputs": [],
   "source": [
    "dl = DataLoader(ds, batch_size=16, shuffle=True)\n",
    "dl = fb.setup_dataloaders(dl)"
   ]
  },
  {
   "cell_type": "code",
   "execution_count": 12,
   "id": "209835e0-1747-4e48-b8c2-39e85d624f09",
   "metadata": {},
   "outputs": [],
   "source": [
    "num_params = ds.weights_zstats.num_params\n",
    "l1_regularization_coeff = 0\n",
    "lr = 1e-3"
   ]
  },
  {
   "cell_type": "code",
   "execution_count": 13,
   "id": "57e91c2e-4a73-4482-b22d-ee35abfae557",
   "metadata": {},
   "outputs": [
    {
     "data": {
      "text/plain": [
       "ZStats(num_params=32360, mean=tensor([4.0807e-13, 4.0808e-13, 4.0808e-13,  ..., 1.5538e-11, 7.5351e-13,\n",
       "        4.9722e-12]), std=tensor([6.3572e-13, 6.3571e-13, 6.3571e-13,  ..., 3.3823e-11, 4.1001e-12,\n",
       "        9.4806e-12]), global_mean=tensor(2.8430e-12), global_std=tensor(1.6184e-11))"
      ]
     },
     "execution_count": 13,
     "metadata": {},
     "output_type": "execute_result"
    }
   ],
   "source": [
    "ds.weights_zstats"
   ]
  },
  {
   "cell_type": "code",
   "execution_count": 14,
   "id": "024930b1-ff46-4e46-bbff-2d441f322bc0",
   "metadata": {},
   "outputs": [
    {
     "data": {
      "text/plain": [
       "ZStats(num_params=1, mean=tensor(-8.9929e-05), std=tensor(3.0293e-05), global_mean=tensor(-8.9929e-05), global_std=tensor(3.0293e-05))"
      ]
     },
     "execution_count": 14,
     "metadata": {},
     "output_type": "execute_result"
    }
   ],
   "source": [
    "ds.loss_zstats"
   ]
  },
  {
   "cell_type": "code",
   "execution_count": 15,
   "id": "1aefa50d-72bf-498f-aaf9-14e19540879d",
   "metadata": {},
   "outputs": [
    {
     "name": "stdout",
     "output_type": "stream",
     "text": [
      "4\n"
     ]
    }
   ],
   "source": [
    "num_epochs = int(np.ceil(np.log(num_params / len(ds))))\n",
    "print(num_epochs)\n",
    "num_epochs=20"
   ]
  },
  {
   "cell_type": "code",
   "execution_count": 16,
   "id": "1a00a4b0-0b08-4f98-b8aa-52d9e1f47230",
   "metadata": {},
   "outputs": [
    {
     "name": "stdout",
     "output_type": "stream",
     "text": [
      "0.0; 0.0\n"
     ]
    }
   ],
   "source": [
    "model = nn.Linear(num_params, 1, bias=False)\n",
    "nn.init.zeros_(model.weight)\n",
    "abs_weight = torch.abs(model.weight)\n",
    "print(f\"{torch.max(abs_weight)}; {torch.min(abs_weight)}\")\n",
    "optimizer = optim.SGD(model.parameters(), lr=lr)\n",
    "model, optimizer = fb.setup(model, optimizer)\n",
    "model.train()\n",
    "dl = DataLoader(ds, batch_size=16, shuffle=True)\n",
    "dl = fb.setup_dataloaders(dl)\n",
    "dl_iter = iter(dl)"
   ]
  },
  {
   "cell_type": "code",
   "execution_count": null,
   "id": "8c8df9e2-04a4-4a4b-a531-11aa49d6912c",
   "metadata": {},
   "outputs": [
    {
     "data": {
      "application/vnd.jupyter.widget-view+json": {
       "model_id": "50ad889017fb48e5b9eb52990d468b8c",
       "version_major": 2,
       "version_minor": 0
      },
      "text/plain": [
       "  0%|          | 0/100 [00:00<?, ?it/s]"
      ]
     },
     "metadata": {},
     "output_type": "display_data"
    },
    {
     "data": {
      "application/vnd.jupyter.widget-view+json": {
       "model_id": "3e0490abf87a4e69a80f0d31d140dd1f",
       "version_major": 2,
       "version_minor": 0
      },
      "text/plain": [
       "  0%|          | 0/74 [00:00<?, ?it/s]"
      ]
     },
     "metadata": {},
     "output_type": "display_data"
    },
    {
     "name": "stdout",
     "output_type": "stream",
     "text": [
      "epoch: 1; batch: 1; Loss: 0.9917110800743103\n",
      "epoch: 1; batch: 2; Loss: 263.8990783691406\n",
      "epoch: 1; batch: 3; Loss: 112447.390625\n",
      "epoch: 1; batch: 4; Loss: 34414484.0\n",
      "epoch: 1; batch: 5; Loss: 7719519232.0\n",
      "epoch: 1; batch: 6; Loss: 1601117880320.0\n",
      "epoch: 1; batch: 7; Loss: 438176455852032.0\n",
      "epoch: 1; batch: 8; Loss: 6.725357003813683e+16\n",
      "epoch: 1; batch: 9; Loss: 1.3028591565075907e+19\n",
      "epoch: 1; batch: 10; Loss: 4.4868980281523925e+21\n",
      "epoch: 1; batch: 11; Loss: 1.0956368702681989e+24\n",
      "epoch: 1; batch: 12; Loss: 1.9223794721070493e+26\n",
      "epoch: 1; batch: 13; Loss: 4.0755991973988395e+28\n",
      "epoch: 1; batch: 14; Loss: 1.7680411965727073e+31\n",
      "epoch: 1; batch: 15; Loss: 8.937979696092115e+33\n",
      "epoch: 1; batch: 16; Loss: 3.001955077665476e+36\n",
      "epoch: 1; batch: 17; Loss: inf\n",
      "epoch: 1; batch: 18; Loss: inf\n",
      "epoch: 1; batch: 19; Loss: inf\n",
      "epoch: 1; batch: 20; Loss: inf\n",
      "epoch: 1; batch: 21; Loss: inf\n",
      "epoch: 1; batch: 22; Loss: inf\n",
      "epoch: 1; batch: 23; Loss: inf\n",
      "epoch: 1; batch: 24; Loss: inf\n",
      "epoch: 1; batch: 25; Loss: inf\n",
      "epoch: 1; batch: 26; Loss: inf\n",
      "epoch: 1; batch: 27; Loss: inf\n",
      "epoch: 1; batch: 28; Loss: inf\n",
      "epoch: 1; batch: 29; Loss: inf\n",
      "epoch: 1; batch: 30; Loss: inf\n",
      "epoch: 1; batch: 31; Loss: inf\n",
      "epoch: 1; batch: 32; Loss: nan\n",
      "epoch: 1; batch: 33; Loss: nan\n",
      "epoch: 1; batch: 34; Loss: nan\n",
      "epoch: 1; batch: 35; Loss: nan\n",
      "epoch: 1; batch: 36; Loss: nan\n",
      "epoch: 1; batch: 37; Loss: nan\n",
      "epoch: 1; batch: 38; Loss: nan\n",
      "epoch: 1; batch: 39; Loss: nan\n",
      "epoch: 1; batch: 40; Loss: nan\n",
      "epoch: 1; batch: 41; Loss: nan\n",
      "epoch: 1; batch: 42; Loss: nan\n",
      "epoch: 1; batch: 43; Loss: nan\n",
      "epoch: 1; batch: 44; Loss: nan\n",
      "epoch: 1; batch: 45; Loss: nan\n",
      "epoch: 1; batch: 46; Loss: nan\n",
      "epoch: 1; batch: 47; Loss: nan\n",
      "epoch: 1; batch: 48; Loss: nan\n",
      "epoch: 1; batch: 49; Loss: nan\n",
      "epoch: 1; batch: 50; Loss: nan\n",
      "epoch: 1; batch: 51; Loss: nan\n",
      "epoch: 1; batch: 52; Loss: nan\n",
      "epoch: 1; batch: 53; Loss: nan\n",
      "epoch: 1; batch: 54; Loss: nan\n",
      "epoch: 1; batch: 55; Loss: nan\n",
      "epoch: 1; batch: 56; Loss: nan\n",
      "epoch: 1; batch: 57; Loss: nan\n",
      "epoch: 1; batch: 58; Loss: nan\n",
      "epoch: 1; batch: 59; Loss: nan\n",
      "epoch: 1; batch: 60; Loss: nan\n",
      "epoch: 1; batch: 61; Loss: nan\n",
      "epoch: 1; batch: 62; Loss: nan\n",
      "epoch: 1; batch: 63; Loss: nan\n",
      "epoch: 1; batch: 64; Loss: nan\n",
      "epoch: 1; batch: 65; Loss: nan\n",
      "epoch: 1; batch: 66; Loss: nan\n",
      "epoch: 1; batch: 67; Loss: nan\n",
      "epoch: 1; batch: 68; Loss: nan\n",
      "epoch: 1; batch: 69; Loss: nan\n",
      "epoch: 1; batch: 70; Loss: nan\n",
      "epoch: 1; batch: 71; Loss: nan\n",
      "epoch: 1; batch: 72; Loss: nan\n",
      "epoch: 1; batch: 73; Loss: nan\n",
      "epoch: 1; batch: 74; Loss: nan\n",
      "epoch: 1; avg_loss: nan\n"
     ]
    },
    {
     "data": {
      "application/vnd.jupyter.widget-view+json": {
       "model_id": "a55633a3aadc4c07abeebcdc6cb80711",
       "version_major": 2,
       "version_minor": 0
      },
      "text/plain": [
       "  0%|          | 0/74 [00:00<?, ?it/s]"
      ]
     },
     "metadata": {},
     "output_type": "display_data"
    },
    {
     "name": "stdout",
     "output_type": "stream",
     "text": [
      "epoch: 2; batch: 1; Loss: nan\n",
      "epoch: 2; batch: 2; Loss: nan\n",
      "epoch: 2; batch: 3; Loss: nan\n",
      "epoch: 2; batch: 4; Loss: nan\n",
      "epoch: 2; batch: 5; Loss: nan\n",
      "epoch: 2; batch: 6; Loss: nan\n",
      "epoch: 2; batch: 7; Loss: nan\n",
      "epoch: 2; batch: 8; Loss: nan\n",
      "epoch: 2; batch: 9; Loss: nan\n",
      "epoch: 2; batch: 10; Loss: nan\n",
      "epoch: 2; batch: 11; Loss: nan\n",
      "epoch: 2; batch: 12; Loss: nan\n",
      "epoch: 2; batch: 13; Loss: nan\n",
      "epoch: 2; batch: 14; Loss: nan\n",
      "epoch: 2; batch: 15; Loss: nan\n",
      "epoch: 2; batch: 16; Loss: nan\n",
      "epoch: 2; batch: 17; Loss: nan\n",
      "epoch: 2; batch: 18; Loss: nan\n",
      "epoch: 2; batch: 19; Loss: nan\n",
      "epoch: 2; batch: 20; Loss: nan\n",
      "epoch: 2; batch: 21; Loss: nan\n",
      "epoch: 2; batch: 22; Loss: nan\n",
      "epoch: 2; batch: 23; Loss: nan\n",
      "epoch: 2; batch: 24; Loss: nan\n",
      "epoch: 2; batch: 25; Loss: nan\n",
      "epoch: 2; batch: 26; Loss: nan\n",
      "epoch: 2; batch: 27; Loss: nan\n",
      "epoch: 2; batch: 28; Loss: nan\n",
      "epoch: 2; batch: 29; Loss: nan\n",
      "epoch: 2; batch: 30; Loss: nan\n",
      "epoch: 2; batch: 31; Loss: nan\n",
      "epoch: 2; batch: 32; Loss: nan\n",
      "epoch: 2; batch: 33; Loss: nan\n",
      "epoch: 2; batch: 34; Loss: nan\n",
      "epoch: 2; batch: 35; Loss: nan\n",
      "epoch: 2; batch: 36; Loss: nan\n",
      "epoch: 2; batch: 37; Loss: nan\n",
      "epoch: 2; batch: 38; Loss: nan\n",
      "epoch: 2; batch: 39; Loss: nan\n",
      "epoch: 2; batch: 40; Loss: nan\n",
      "epoch: 2; batch: 41; Loss: nan\n",
      "epoch: 2; batch: 42; Loss: nan\n",
      "epoch: 2; batch: 43; Loss: nan\n",
      "epoch: 2; batch: 44; Loss: nan\n",
      "epoch: 2; batch: 45; Loss: nan\n",
      "epoch: 2; batch: 46; Loss: nan\n",
      "epoch: 2; batch: 47; Loss: nan\n",
      "epoch: 2; batch: 48; Loss: nan\n",
      "epoch: 2; batch: 49; Loss: nan\n",
      "epoch: 2; batch: 50; Loss: nan\n",
      "epoch: 2; batch: 51; Loss: nan\n",
      "epoch: 2; batch: 52; Loss: nan\n",
      "epoch: 2; batch: 53; Loss: nan\n",
      "epoch: 2; batch: 54; Loss: nan\n",
      "epoch: 2; batch: 55; Loss: nan\n",
      "epoch: 2; batch: 56; Loss: nan\n",
      "epoch: 2; batch: 57; Loss: nan\n",
      "epoch: 2; batch: 58; Loss: nan\n",
      "epoch: 2; batch: 59; Loss: nan\n",
      "epoch: 2; batch: 60; Loss: nan\n",
      "epoch: 2; batch: 61; Loss: nan\n",
      "epoch: 2; batch: 62; Loss: nan\n",
      "epoch: 2; batch: 63; Loss: nan\n",
      "epoch: 2; batch: 64; Loss: nan\n",
      "epoch: 2; batch: 65; Loss: nan\n",
      "epoch: 2; batch: 66; Loss: nan\n",
      "epoch: 2; batch: 67; Loss: nan\n",
      "epoch: 2; batch: 68; Loss: nan\n",
      "epoch: 2; batch: 69; Loss: nan\n",
      "epoch: 2; batch: 70; Loss: nan\n",
      "epoch: 2; batch: 71; Loss: nan\n",
      "epoch: 2; batch: 72; Loss: nan\n",
      "epoch: 2; batch: 73; Loss: nan\n",
      "epoch: 2; batch: 74; Loss: nan\n",
      "epoch: 2; avg_loss: nan\n"
     ]
    },
    {
     "data": {
      "application/vnd.jupyter.widget-view+json": {
       "model_id": "38be423f9a4b41d2b60f11a29e9ce7a0",
       "version_major": 2,
       "version_minor": 0
      },
      "text/plain": [
       "  0%|          | 0/74 [00:00<?, ?it/s]"
      ]
     },
     "metadata": {},
     "output_type": "display_data"
    },
    {
     "name": "stdout",
     "output_type": "stream",
     "text": [
      "epoch: 3; batch: 1; Loss: nan\n",
      "epoch: 3; batch: 2; Loss: nan\n",
      "epoch: 3; batch: 3; Loss: nan\n",
      "epoch: 3; batch: 4; Loss: nan\n",
      "epoch: 3; batch: 5; Loss: nan\n",
      "epoch: 3; batch: 6; Loss: nan\n",
      "epoch: 3; batch: 7; Loss: nan\n",
      "epoch: 3; batch: 8; Loss: nan\n",
      "epoch: 3; batch: 9; Loss: nan\n",
      "epoch: 3; batch: 10; Loss: nan\n",
      "epoch: 3; batch: 11; Loss: nan\n",
      "epoch: 3; batch: 12; Loss: nan\n",
      "epoch: 3; batch: 13; Loss: nan\n",
      "epoch: 3; batch: 14; Loss: nan\n",
      "epoch: 3; batch: 15; Loss: nan\n",
      "epoch: 3; batch: 16; Loss: nan\n",
      "epoch: 3; batch: 17; Loss: nan\n",
      "epoch: 3; batch: 18; Loss: nan\n",
      "epoch: 3; batch: 19; Loss: nan\n",
      "epoch: 3; batch: 20; Loss: nan\n",
      "epoch: 3; batch: 21; Loss: nan\n",
      "epoch: 3; batch: 22; Loss: nan\n",
      "epoch: 3; batch: 23; Loss: nan\n",
      "epoch: 3; batch: 24; Loss: nan\n",
      "epoch: 3; batch: 25; Loss: nan\n",
      "epoch: 3; batch: 26; Loss: nan\n",
      "epoch: 3; batch: 27; Loss: nan\n",
      "epoch: 3; batch: 28; Loss: nan\n",
      "epoch: 3; batch: 29; Loss: nan\n",
      "epoch: 3; batch: 30; Loss: nan\n",
      "epoch: 3; batch: 31; Loss: nan\n",
      "epoch: 3; batch: 32; Loss: nan\n",
      "epoch: 3; batch: 33; Loss: nan\n",
      "epoch: 3; batch: 34; Loss: nan\n",
      "epoch: 3; batch: 35; Loss: nan\n",
      "epoch: 3; batch: 36; Loss: nan\n",
      "epoch: 3; batch: 37; Loss: nan\n",
      "epoch: 3; batch: 38; Loss: nan\n",
      "epoch: 3; batch: 39; Loss: nan\n",
      "epoch: 3; batch: 40; Loss: nan\n",
      "epoch: 3; batch: 41; Loss: nan\n",
      "epoch: 3; batch: 42; Loss: nan\n",
      "epoch: 3; batch: 43; Loss: nan\n",
      "epoch: 3; batch: 44; Loss: nan\n",
      "epoch: 3; batch: 45; Loss: nan\n",
      "epoch: 3; batch: 46; Loss: nan\n",
      "epoch: 3; batch: 47; Loss: nan\n",
      "epoch: 3; batch: 48; Loss: nan\n",
      "epoch: 3; batch: 49; Loss: nan\n",
      "epoch: 3; batch: 50; Loss: nan\n",
      "epoch: 3; batch: 51; Loss: nan\n",
      "epoch: 3; batch: 52; Loss: nan\n",
      "epoch: 3; batch: 53; Loss: nan\n",
      "epoch: 3; batch: 54; Loss: nan\n",
      "epoch: 3; batch: 55; Loss: nan\n",
      "epoch: 3; batch: 56; Loss: nan\n",
      "epoch: 3; batch: 57; Loss: nan\n",
      "epoch: 3; batch: 58; Loss: nan\n",
      "epoch: 3; batch: 59; Loss: nan\n",
      "epoch: 3; batch: 60; Loss: nan\n",
      "epoch: 3; batch: 61; Loss: nan\n",
      "epoch: 3; batch: 62; Loss: nan\n",
      "epoch: 3; batch: 63; Loss: nan\n",
      "epoch: 3; batch: 64; Loss: nan\n",
      "epoch: 3; batch: 65; Loss: nan\n",
      "epoch: 3; batch: 66; Loss: nan\n",
      "epoch: 3; batch: 67; Loss: nan\n",
      "epoch: 3; batch: 68; Loss: nan\n",
      "epoch: 3; batch: 69; Loss: nan\n",
      "epoch: 3; batch: 70; Loss: nan\n",
      "epoch: 3; batch: 71; Loss: nan\n",
      "epoch: 3; batch: 72; Loss: nan\n",
      "epoch: 3; batch: 73; Loss: nan\n",
      "epoch: 3; batch: 74; Loss: nan\n",
      "epoch: 3; avg_loss: nan\n"
     ]
    },
    {
     "data": {
      "application/vnd.jupyter.widget-view+json": {
       "model_id": "ec534dac28884a24bff516efbce90c5d",
       "version_major": 2,
       "version_minor": 0
      },
      "text/plain": [
       "  0%|          | 0/74 [00:00<?, ?it/s]"
      ]
     },
     "metadata": {},
     "output_type": "display_data"
    },
    {
     "name": "stdout",
     "output_type": "stream",
     "text": [
      "epoch: 4; batch: 1; Loss: nan\n",
      "epoch: 4; batch: 2; Loss: nan\n",
      "epoch: 4; batch: 3; Loss: nan\n",
      "epoch: 4; batch: 4; Loss: nan\n",
      "epoch: 4; batch: 5; Loss: nan\n",
      "epoch: 4; batch: 6; Loss: nan\n",
      "epoch: 4; batch: 7; Loss: nan\n",
      "epoch: 4; batch: 8; Loss: nan\n",
      "epoch: 4; batch: 9; Loss: nan\n",
      "epoch: 4; batch: 10; Loss: nan\n",
      "epoch: 4; batch: 11; Loss: nan\n",
      "epoch: 4; batch: 12; Loss: nan\n",
      "epoch: 4; batch: 13; Loss: nan\n",
      "epoch: 4; batch: 14; Loss: nan\n",
      "epoch: 4; batch: 15; Loss: nan\n",
      "epoch: 4; batch: 16; Loss: nan\n",
      "epoch: 4; batch: 17; Loss: nan\n",
      "epoch: 4; batch: 18; Loss: nan\n",
      "epoch: 4; batch: 19; Loss: nan\n",
      "epoch: 4; batch: 20; Loss: nan\n",
      "epoch: 4; batch: 21; Loss: nan\n",
      "epoch: 4; batch: 22; Loss: nan\n",
      "epoch: 4; batch: 23; Loss: nan\n",
      "epoch: 4; batch: 24; Loss: nan\n",
      "epoch: 4; batch: 25; Loss: nan\n",
      "epoch: 4; batch: 26; Loss: nan\n",
      "epoch: 4; batch: 27; Loss: nan\n",
      "epoch: 4; batch: 28; Loss: nan\n",
      "epoch: 4; batch: 29; Loss: nan\n",
      "epoch: 4; batch: 30; Loss: nan\n",
      "epoch: 4; batch: 31; Loss: nan\n",
      "epoch: 4; batch: 32; Loss: nan\n",
      "epoch: 4; batch: 33; Loss: nan\n",
      "epoch: 4; batch: 34; Loss: nan\n",
      "epoch: 4; batch: 35; Loss: nan\n",
      "epoch: 4; batch: 36; Loss: nan\n",
      "epoch: 4; batch: 37; Loss: nan\n",
      "epoch: 4; batch: 38; Loss: nan\n",
      "epoch: 4; batch: 39; Loss: nan\n",
      "epoch: 4; batch: 40; Loss: nan\n",
      "epoch: 4; batch: 41; Loss: nan\n",
      "epoch: 4; batch: 42; Loss: nan\n",
      "epoch: 4; batch: 43; Loss: nan\n",
      "epoch: 4; batch: 44; Loss: nan\n",
      "epoch: 4; batch: 45; Loss: nan\n",
      "epoch: 4; batch: 46; Loss: nan\n",
      "epoch: 4; batch: 47; Loss: nan\n",
      "epoch: 4; batch: 48; Loss: nan\n",
      "epoch: 4; batch: 49; Loss: nan\n",
      "epoch: 4; batch: 50; Loss: nan\n",
      "epoch: 4; batch: 51; Loss: nan\n",
      "epoch: 4; batch: 52; Loss: nan\n",
      "epoch: 4; batch: 53; Loss: nan\n",
      "epoch: 4; batch: 54; Loss: nan\n",
      "epoch: 4; batch: 55; Loss: nan\n",
      "epoch: 4; batch: 56; Loss: nan\n",
      "epoch: 4; batch: 57; Loss: nan\n",
      "epoch: 4; batch: 58; Loss: nan\n",
      "epoch: 4; batch: 59; Loss: nan\n",
      "epoch: 4; batch: 60; Loss: nan\n",
      "epoch: 4; batch: 61; Loss: nan\n",
      "epoch: 4; batch: 62; Loss: nan\n",
      "epoch: 4; batch: 63; Loss: nan\n",
      "epoch: 4; batch: 64; Loss: nan\n",
      "epoch: 4; batch: 65; Loss: nan\n",
      "epoch: 4; batch: 66; Loss: nan\n",
      "epoch: 4; batch: 67; Loss: nan\n",
      "epoch: 4; batch: 68; Loss: nan\n",
      "epoch: 4; batch: 69; Loss: nan\n",
      "epoch: 4; batch: 70; Loss: nan\n",
      "epoch: 4; batch: 71; Loss: nan\n",
      "epoch: 4; batch: 72; Loss: nan\n",
      "epoch: 4; batch: 73; Loss: nan\n",
      "epoch: 4; batch: 74; Loss: nan\n",
      "epoch: 4; avg_loss: nan\n"
     ]
    },
    {
     "data": {
      "application/vnd.jupyter.widget-view+json": {
       "model_id": "8c52755eac774fe4bfc3e49407339333",
       "version_major": 2,
       "version_minor": 0
      },
      "text/plain": [
       "  0%|          | 0/74 [00:00<?, ?it/s]"
      ]
     },
     "metadata": {},
     "output_type": "display_data"
    },
    {
     "name": "stdout",
     "output_type": "stream",
     "text": [
      "epoch: 5; batch: 1; Loss: nan\n",
      "epoch: 5; batch: 2; Loss: nan\n",
      "epoch: 5; batch: 3; Loss: nan\n",
      "epoch: 5; batch: 4; Loss: nan\n",
      "epoch: 5; batch: 5; Loss: nan\n",
      "epoch: 5; batch: 6; Loss: nan\n",
      "epoch: 5; batch: 7; Loss: nan\n",
      "epoch: 5; batch: 8; Loss: nan\n",
      "epoch: 5; batch: 9; Loss: nan\n",
      "epoch: 5; batch: 10; Loss: nan\n",
      "epoch: 5; batch: 11; Loss: nan\n",
      "epoch: 5; batch: 12; Loss: nan\n",
      "epoch: 5; batch: 13; Loss: nan\n",
      "epoch: 5; batch: 14; Loss: nan\n",
      "epoch: 5; batch: 15; Loss: nan\n",
      "epoch: 5; batch: 16; Loss: nan\n",
      "epoch: 5; batch: 17; Loss: nan\n",
      "epoch: 5; batch: 18; Loss: nan\n",
      "epoch: 5; batch: 19; Loss: nan\n",
      "epoch: 5; batch: 20; Loss: nan\n",
      "epoch: 5; batch: 21; Loss: nan\n",
      "epoch: 5; batch: 22; Loss: nan\n",
      "epoch: 5; batch: 23; Loss: nan\n",
      "epoch: 5; batch: 24; Loss: nan\n",
      "epoch: 5; batch: 25; Loss: nan\n",
      "epoch: 5; batch: 26; Loss: nan\n",
      "epoch: 5; batch: 27; Loss: nan\n",
      "epoch: 5; batch: 28; Loss: nan\n",
      "epoch: 5; batch: 29; Loss: nan\n",
      "epoch: 5; batch: 30; Loss: nan\n",
      "epoch: 5; batch: 31; Loss: nan\n",
      "epoch: 5; batch: 32; Loss: nan\n",
      "epoch: 5; batch: 33; Loss: nan\n",
      "epoch: 5; batch: 34; Loss: nan\n",
      "epoch: 5; batch: 35; Loss: nan\n",
      "epoch: 5; batch: 36; Loss: nan\n",
      "epoch: 5; batch: 37; Loss: nan\n",
      "epoch: 5; batch: 38; Loss: nan\n",
      "epoch: 5; batch: 39; Loss: nan\n",
      "epoch: 5; batch: 40; Loss: nan\n",
      "epoch: 5; batch: 41; Loss: nan\n",
      "epoch: 5; batch: 42; Loss: nan\n",
      "epoch: 5; batch: 43; Loss: nan\n",
      "epoch: 5; batch: 44; Loss: nan\n",
      "epoch: 5; batch: 45; Loss: nan\n",
      "epoch: 5; batch: 46; Loss: nan\n",
      "epoch: 5; batch: 47; Loss: nan\n",
      "epoch: 5; batch: 48; Loss: nan\n",
      "epoch: 5; batch: 49; Loss: nan\n",
      "epoch: 5; batch: 50; Loss: nan\n",
      "epoch: 5; batch: 51; Loss: nan\n",
      "epoch: 5; batch: 52; Loss: nan\n",
      "epoch: 5; batch: 53; Loss: nan\n",
      "epoch: 5; batch: 54; Loss: nan\n",
      "epoch: 5; batch: 55; Loss: nan\n",
      "epoch: 5; batch: 56; Loss: nan\n",
      "epoch: 5; batch: 57; Loss: nan\n",
      "epoch: 5; batch: 58; Loss: nan\n",
      "epoch: 5; batch: 59; Loss: nan\n",
      "epoch: 5; batch: 60; Loss: nan\n",
      "epoch: 5; batch: 61; Loss: nan\n",
      "epoch: 5; batch: 62; Loss: nan\n",
      "epoch: 5; batch: 63; Loss: nan\n",
      "epoch: 5; batch: 64; Loss: nan\n",
      "epoch: 5; batch: 65; Loss: nan\n",
      "epoch: 5; batch: 66; Loss: nan\n",
      "epoch: 5; batch: 67; Loss: nan\n",
      "epoch: 5; batch: 68; Loss: nan\n",
      "epoch: 5; batch: 69; Loss: nan\n",
      "epoch: 5; batch: 70; Loss: nan\n",
      "epoch: 5; batch: 71; Loss: nan\n",
      "epoch: 5; batch: 72; Loss: nan\n",
      "epoch: 5; batch: 73; Loss: nan\n",
      "epoch: 5; batch: 74; Loss: nan\n",
      "epoch: 5; avg_loss: nan\n"
     ]
    },
    {
     "data": {
      "application/vnd.jupyter.widget-view+json": {
       "model_id": "fc1e41de59e0422682bbc16d7550dc70",
       "version_major": 2,
       "version_minor": 0
      },
      "text/plain": [
       "  0%|          | 0/74 [00:00<?, ?it/s]"
      ]
     },
     "metadata": {},
     "output_type": "display_data"
    },
    {
     "name": "stdout",
     "output_type": "stream",
     "text": [
      "epoch: 6; batch: 1; Loss: nan\n",
      "epoch: 6; batch: 2; Loss: nan\n",
      "epoch: 6; batch: 3; Loss: nan\n",
      "epoch: 6; batch: 4; Loss: nan\n",
      "epoch: 6; batch: 5; Loss: nan\n",
      "epoch: 6; batch: 6; Loss: nan\n",
      "epoch: 6; batch: 7; Loss: nan\n",
      "epoch: 6; batch: 8; Loss: nan\n",
      "epoch: 6; batch: 9; Loss: nan\n",
      "epoch: 6; batch: 10; Loss: nan\n",
      "epoch: 6; batch: 11; Loss: nan\n",
      "epoch: 6; batch: 12; Loss: nan\n",
      "epoch: 6; batch: 13; Loss: nan\n",
      "epoch: 6; batch: 14; Loss: nan\n",
      "epoch: 6; batch: 15; Loss: nan\n",
      "epoch: 6; batch: 16; Loss: nan\n",
      "epoch: 6; batch: 17; Loss: nan\n",
      "epoch: 6; batch: 18; Loss: nan\n",
      "epoch: 6; batch: 19; Loss: nan\n",
      "epoch: 6; batch: 20; Loss: nan\n",
      "epoch: 6; batch: 21; Loss: nan\n",
      "epoch: 6; batch: 22; Loss: nan\n",
      "epoch: 6; batch: 23; Loss: nan\n",
      "epoch: 6; batch: 24; Loss: nan\n",
      "epoch: 6; batch: 25; Loss: nan\n",
      "epoch: 6; batch: 26; Loss: nan\n",
      "epoch: 6; batch: 27; Loss: nan\n",
      "epoch: 6; batch: 28; Loss: nan\n",
      "epoch: 6; batch: 29; Loss: nan\n",
      "epoch: 6; batch: 30; Loss: nan\n",
      "epoch: 6; batch: 31; Loss: nan\n",
      "epoch: 6; batch: 32; Loss: nan\n",
      "epoch: 6; batch: 33; Loss: nan\n",
      "epoch: 6; batch: 34; Loss: nan\n",
      "epoch: 6; batch: 35; Loss: nan\n",
      "epoch: 6; batch: 36; Loss: nan\n",
      "epoch: 6; batch: 37; Loss: nan\n",
      "epoch: 6; batch: 38; Loss: nan\n",
      "epoch: 6; batch: 39; Loss: nan\n",
      "epoch: 6; batch: 40; Loss: nan\n",
      "epoch: 6; batch: 41; Loss: nan\n",
      "epoch: 6; batch: 42; Loss: nan\n",
      "epoch: 6; batch: 43; Loss: nan\n"
     ]
    }
   ],
   "source": [
    "model.train()\n",
    "for epoch in trange(100):\n",
    "    total_loss = 0\n",
    "    num_batches = 0\n",
    "    for idx, (X, Y) in enumerate(tqdm(dl)):\n",
    "        optimizer.zero_grad(set_to_none=True)\n",
    "        outputs = model(X)\n",
    "        Y = Y.view(outputs.size())\n",
    "        loss = F.mse_loss(outputs, Y, reduction=\"mean\")\n",
    "        total_loss += loss.item()\n",
    "        num_batches += 1\n",
    "        tqdm.write(f\"epoch: {epoch + 1}; batch: {idx + 1}; Loss: {loss.item()}\")\n",
    "        fb.backward(loss)\n",
    "        optimizer.step()\n",
    "    avg_loss = total_loss / num_batches\n",
    "    tqdm.write(f\"epoch: {epoch + 1}; avg_loss: {avg_loss}\")"
   ]
  },
  {
   "cell_type": "code",
   "execution_count": 22,
   "id": "d38fd6e3-9093-4b96-abb9-b41593ee2919",
   "metadata": {},
   "outputs": [
    {
     "data": {
      "text/plain": [
       "tensor(5.0420e-09, device='cuda:0', grad_fn=<MaxBackward1>)"
      ]
     },
     "execution_count": 22,
     "metadata": {},
     "output_type": "execute_result"
    }
   ],
   "source": [
    "torch.max(torch.abs(model.weight))"
   ]
  },
  {
   "cell_type": "code",
   "execution_count": 23,
   "id": "2b94cbb7-0b8f-4be3-9e38-5953f30d81f5",
   "metadata": {},
   "outputs": [
    {
     "data": {
      "text/plain": [
       "tensor(0., device='cuda:0', grad_fn=<MinBackward1>)"
      ]
     },
     "execution_count": 23,
     "metadata": {},
     "output_type": "execute_result"
    }
   ],
   "source": [
    "torch.min(torch.abs(model.weight))"
   ]
  }
 ],
 "metadata": {
  "kernelspec": {
   "display_name": "Python 3 (ipykernel)",
   "language": "python",
   "name": "python3"
  },
  "language_info": {
   "codemirror_mode": {
    "name": "ipython",
    "version": 3
   },
   "file_extension": ".py",
   "mimetype": "text/x-python",
   "name": "python",
   "nbconvert_exporter": "python",
   "pygments_lexer": "ipython3",
   "version": "3.12.9"
  }
 },
 "nbformat": 4,
 "nbformat_minor": 5
}
