{
 "cells": [
  {
   "cell_type": "code",
   "execution_count": 1,
   "id": "f3463975-07a3-4299-8eb7-0f56601c34f1",
   "metadata": {},
   "outputs": [],
   "source": [
    "from lightning import Fabric\n",
    "import numpy as np\n",
    "from sklearn.linear_model import SGDRegressor\n",
    "import torch\n",
    "import torch.nn as nn\n",
    "import torch.nn.functional as F\n",
    "import torch.optim as optim\n",
    "from torch.utils.data import DataLoader\n",
    "from tqdm.auto import tqdm, trange\n",
    "\n",
    "from causalpruner.sgd_pruner import ParamDataset\n",
    "\n",
    "torch.set_float32_matmul_precision('medium')"
   ]
  },
  {
   "cell_type": "code",
   "execution_count": 2,
   "id": "7ef8473d-cad4-46c6-b567-2d8ba6507373",
   "metadata": {},
   "outputs": [],
   "source": [
    "fb = Fabric()\n",
    "fb.launch()"
   ]
  },
  {
   "cell_type": "code",
   "execution_count": 31,
   "id": "b34ab6fa-cd01-4831-aba1-802766898399",
   "metadata": {},
   "outputs": [],
   "source": [
    "# ds = ParamDataset(\"./checkpoints/resnet50_imagenet_causalpruner_1_10_1_0_0.9/weights/0\",\n",
    "#                   \"./checkpoints/resnet50_imagenet_causalpruner_1_10_1_0_0.9/loss/0\",\n",
    "#                   False)\n",
    "ds = ParamDataset(\"./checkpoints/lenet_cifar10_causalpruner_10_10_10_0_0.9/weights/0\",\n",
    "                  \"./checkpoints/lenet_cifar10_causalpruner_10_10_10_0_0.9/loss/0\",\n",
    "                  False)\n",
    "# dl = DataLoader(ds, batch_size=16)\n",
    "dl = DataLoader(ds, batch_size=16)\n",
    "dl = fb.setup_dataloaders(dl)"
   ]
  },
  {
   "cell_type": "code",
   "execution_count": null,
   "id": "2ed28622-4dae-4d4e-838d-8fbf9ce905a6",
   "metadata": {},
   "outputs": [],
   "source": [
    "X, Y = next(iter(dl))"
   ]
  },
  {
   "cell_type": "code",
   "execution_count": 172,
   "id": "3b178e4a-b04f-402f-bff1-093f0dd400ff",
   "metadata": {},
   "outputs": [
    {
     "data": {
      "text/plain": [
       "torch.return_types.topk(\n",
       "values=tensor([1.2987], device='cuda:0'),\n",
       "indices=tensor([651459], device='cuda:0'))"
      ]
     },
     "execution_count": 172,
     "metadata": {},
     "output_type": "execute_result"
    }
   ],
   "source": [
    "torch.topk(torch.mean(X, dim=0), k=1, largest=True)"
   ]
  },
  {
   "cell_type": "code",
   "execution_count": 173,
   "id": "5702fed8-448a-4208-817d-971dbec837e1",
   "metadata": {},
   "outputs": [
    {
     "data": {
      "text/plain": [
       "tensor([8.8818e-16, 0.0000e+00, 2.4754e-02,  ..., 2.2111e-01, 4.8597e+00,\n",
       "        6.0523e+00], device='cuda:0')"
      ]
     },
     "execution_count": 173,
     "metadata": {},
     "output_type": "execute_result"
    }
   ],
   "source": [
    "X[:,651459]"
   ]
  },
  {
   "cell_type": "code",
   "execution_count": 174,
   "id": "d5d79a07-8bbd-4392-8166-2de31688fba4",
   "metadata": {},
   "outputs": [
    {
     "data": {
      "text/plain": [
       "tensor([-0.0017, -0.0014, -0.0012,  ..., -0.0014, -0.0013, -0.0066],\n",
       "       device='cuda:0')"
      ]
     },
     "execution_count": 174,
     "metadata": {},
     "output_type": "execute_result"
    }
   ],
   "source": [
    "Y"
   ]
  },
  {
   "cell_type": "code",
   "execution_count": 121,
   "id": "2d37629f-f663-4413-a55d-05700a9869ed",
   "metadata": {},
   "outputs": [],
   "source": [
    "X_mean = ds.weights_zstats.mean.to('cuda')\n",
    "X_std = ds.loss_zstats.mean.to('cuda')\n",
    "Y_mean = ds.loss_zstats.mean.to('cuda')\n",
    "Y_std = ds.loss_zstats.std.to('cuda')"
   ]
  },
  {
   "cell_type": "code",
   "execution_count": 118,
   "id": "213fd19a-f7bb-4ff1-bf15-ce6374b9e41f",
   "metadata": {},
   "outputs": [
    {
     "name": "stdout",
     "output_type": "stream",
     "text": [
      "tensor(7.1146, device='cuda:0') tensor(0., device='cuda:0') tensor(-0.0008, device='cuda:0') tensor(-0.0031, device='cuda:0')\n"
     ]
    }
   ],
   "source": [
    "global_max_X = torch.max(X)\n",
    "global_min_X = torch.min(X)\n",
    "global_max_Y = torch.max(Y)\n",
    "global_min_Y = torch.min(Y)\n",
    "print(global_max_X, global_min_X, global_max_Y, global_min_Y)"
   ]
  },
  {
   "cell_type": "code",
   "execution_count": 116,
   "id": "3ffd669d-d891-48e6-b46d-9d84aff983a0",
   "metadata": {},
   "outputs": [],
   "source": [
    "X_new = (X - global_min_X) / (global_max_X - global_min_X)\n",
    "Y_new = (Y - global_min_Y) / (global_max_Y - global_min_Y)"
   ]
  },
  {
   "cell_type": "code",
   "execution_count": 122,
   "id": "eb2b1bd8-2cb6-4f42-a365-0fa7fd1a7a9f",
   "metadata": {},
   "outputs": [],
   "source": [
    "X_new_new = (X_new - X_mean) / X_std\n",
    "Y_new_new = (Y_new - Y_mean) / Y_std"
   ]
  },
  {
   "cell_type": "code",
   "execution_count": 123,
   "id": "3bb81ca0-af9b-4025-a50b-748af14d3992",
   "metadata": {},
   "outputs": [
    {
     "data": {
      "text/plain": [
       "tensor([[2.6247e-08, 2.2915e-08, 2.3065e-08,  ..., 3.3308e-12, 4.0490e-12,\n",
       "         2.8315e-14],\n",
       "        [2.9165e-08, 2.8779e-08, 2.9874e-08,  ..., 3.3308e-12, 4.0490e-12,\n",
       "         2.8315e-14],\n",
       "        [2.0695e-08, 2.0638e-08, 2.7549e-08,  ..., 3.3795e-12, 4.0490e-12,\n",
       "         2.8315e-14],\n",
       "        ...,\n",
       "        [2.2785e-08, 1.9386e-08, 2.0441e-08,  ..., 2.6482e-12, 4.0490e-12,\n",
       "         2.8315e-14],\n",
       "        [3.0109e-08, 3.0659e-08, 3.2408e-08,  ..., 3.3795e-12, 4.0490e-12,\n",
       "         2.8315e-14],\n",
       "        [2.4386e-08, 2.2558e-08, 2.5918e-08,  ..., 3.3795e-12, 3.6590e-12,\n",
       "         2.8315e-14]], device='cuda:0')"
      ]
     },
     "execution_count": 123,
     "metadata": {},
     "output_type": "execute_result"
    }
   ],
   "source": [
    "X_new_new"
   ]
  },
  {
   "cell_type": "code",
   "execution_count": 111,
   "id": "be3451e8-2282-47bd-a91c-ee45e2ed1c82",
   "metadata": {},
   "outputs": [
    {
     "data": {
      "text/plain": [
       "torch.return_types.topk(\n",
       "values=tensor([1.0804e-24, 2.4309e-24, 4.3216e-24, 4.3216e-24, 4.3216e-24, 1.7286e-23,\n",
       "        1.7286e-23, 1.7286e-23, 1.7286e-23, 1.7286e-23]),\n",
       "indices=tensor([266675, 372074, 585360, 367703,  98680,  16859, 292007, 285480, 367821,\n",
       "        267978]))"
      ]
     },
     "execution_count": 111,
     "metadata": {},
     "output_type": "execute_result"
    }
   ],
   "source": [
    "a = torch.abs(ds.weights_zstats.mean)\n",
    "a[a==0] = 1e10\n",
    "torch.topk(a, k=10, largest=False)"
   ]
  },
  {
   "cell_type": "code",
   "execution_count": 112,
   "id": "7cfc2b79-8bca-4bd5-add7-6c936a3910da",
   "metadata": {},
   "outputs": [
    {
     "name": "stdout",
     "output_type": "stream",
     "text": [
      "tensor(2.4309e-24)\n",
      "tensor(3.7434e-23)\n",
      "tensor([-8.0146e-05, -8.0146e-05, -8.0146e-05, -8.0146e-05, -8.0146e-05,\n",
      "        -8.0146e-05, -8.0146e-05, -8.0146e-05, -8.0146e-05, -8.0146e-05,\n",
      "        -8.0146e-05, -8.0146e-05, -8.0146e-05, -8.0146e-05, -8.0146e-05,\n",
      "        -8.0146e-05, -8.0146e-05, -8.0146e-05, -8.0146e-05, -8.0146e-05,\n",
      "        -8.0146e-05,  1.5629e-02, -8.0146e-05, -8.0146e-05, -8.0146e-05,\n",
      "        -8.0146e-05, -8.0146e-05, -8.0146e-05, -8.0146e-05, -8.0146e-05,\n",
      "        -8.0146e-05, -8.0146e-05, -8.0146e-05, -8.0146e-05, -8.0146e-05,\n",
      "        -8.0146e-05, -8.0146e-05, -8.0146e-05, -8.0146e-05, -8.0146e-05,\n",
      "        -8.0146e-05, -8.0146e-05, -8.0146e-05, -8.0146e-05, -8.0146e-05,\n",
      "        -8.0146e-05, -8.0146e-05, -8.0146e-05, -8.0146e-05, -8.0146e-05,\n",
      "        -8.0146e-05, -8.0146e-05, -8.0146e-05, -8.0146e-05, -8.0146e-05,\n",
      "        -8.0146e-05, -8.0146e-05, -8.0146e-05, -8.0146e-05, -8.0146e-05,\n",
      "        -8.0146e-05, -8.0146e-05, -8.0146e-05, -8.0146e-05, -8.0146e-05,\n",
      "        -8.0146e-05, -8.0146e-05, -8.0146e-05, -8.0146e-05, -8.0146e-05,\n",
      "        -8.0146e-05, -8.0146e-05, -8.0146e-05, -8.0146e-05, -8.0146e-05,\n",
      "        -8.0146e-05, -8.0146e-05, -8.0146e-05, -8.0146e-05, -8.0146e-05,\n",
      "        -8.0146e-05, -8.0146e-05, -8.0146e-05, -8.0146e-05, -8.0146e-05,\n",
      "        -8.0146e-05, -8.0146e-05, -8.0146e-05, -8.0146e-05, -8.0146e-05,\n",
      "        -8.0146e-05, -8.0146e-05, -8.0146e-05, -8.0146e-05, -8.0146e-05,\n",
      "        -8.0146e-05, -8.0146e-05, -8.0146e-05, -8.0146e-05, -8.0146e-05,\n",
      "        -8.0146e-05, -8.0146e-05, -8.0146e-05, -8.0146e-05, -8.0146e-05,\n",
      "        -8.0146e-05, -8.0146e-05, -8.0146e-05, -8.0146e-05, -8.0146e-05,\n",
      "        -8.0146e-05, -8.0146e-05, -8.0146e-05, -8.0146e-05, -8.0146e-05,\n",
      "        -8.0146e-05, -8.0146e-05, -8.0146e-05, -8.0146e-05, -8.0146e-05,\n",
      "        -8.0146e-05, -8.0146e-05, -8.0146e-05, -8.0146e-05, -8.0146e-05,\n",
      "        -8.0146e-05, -8.0146e-05, -8.0146e-05, -8.0146e-05, -8.0146e-05,\n",
      "        -8.0146e-05, -8.0146e-05, -8.0146e-05, -8.0146e-05, -8.0146e-05,\n",
      "        -8.0146e-05, -8.0146e-05, -8.0146e-05, -8.0146e-05, -8.0146e-05,\n",
      "        -8.0146e-05, -8.0146e-05, -8.0146e-05, -8.0146e-05, -8.0146e-05,\n",
      "        -8.0146e-05, -8.0146e-05, -8.0146e-05, -8.0146e-05, -8.0146e-05,\n",
      "        -8.0146e-05, -8.0146e-05, -8.0146e-05, -8.0146e-05, -8.0146e-05,\n",
      "        -8.0146e-05, -8.0146e-05, -8.0146e-05, -8.0146e-05, -8.0146e-05,\n",
      "        -8.0146e-05, -8.0146e-05, -8.0146e-05, -8.0146e-05, -8.0146e-05,\n",
      "        -8.0146e-05, -8.0146e-05, -8.0146e-05, -8.0146e-05, -8.0146e-05,\n",
      "        -8.0146e-05, -8.0146e-05, -8.0146e-05, -8.0146e-05, -8.0146e-05,\n",
      "        -8.0146e-05, -8.0146e-05, -8.0146e-05, -8.0146e-05, -8.0146e-05,\n",
      "        -8.0146e-05, -8.0146e-05, -8.0146e-05, -8.0146e-05, -8.0146e-05,\n",
      "        -8.0146e-05, -8.0146e-05, -8.0146e-05, -8.0146e-05, -8.0146e-05,\n",
      "        -8.0146e-05, -8.0146e-05, -8.0146e-05, -8.0146e-05, -8.0146e-05,\n",
      "        -8.0146e-05], device='cuda:0')\n"
     ]
    }
   ],
   "source": [
    "index = 372074\n",
    "print(ds.weights_zstats.mean[index])\n",
    "print(ds.weights_zstats.std[index])\n",
    "print(X[:,372074])"
   ]
  },
  {
   "cell_type": "code",
   "execution_count": 14,
   "id": "650d8c31-03af-42b0-bcdf-9e55f0c698b6",
   "metadata": {},
   "outputs": [
    {
     "name": "stdout",
     "output_type": "stream",
     "text": [
      "8.500299453735352; 0.0\n",
      "5.054473876953125e-05; 7.152557373046875e-07\n"
     ]
    }
   ],
   "source": [
    "X_abs = torch.abs(X)\n",
    "Y_abs = torch.abs(Y)\n",
    "\n",
    "print(f\"{torch.max(X_abs)}; {torch.min(X_abs)}\")\n",
    "print(f\"{torch.max(Y_abs)}; {torch.min(Y_abs)}\")"
   ]
  },
  {
   "cell_type": "code",
   "execution_count": 9,
   "id": "35b28eac-792f-457d-9792-4dcd25833d63",
   "metadata": {},
   "outputs": [],
   "source": [
    "X = X.cpu().numpy()\n",
    "Y = np.ravel(Y.cpu().numpy())"
   ]
  },
  {
   "cell_type": "code",
   "execution_count": 10,
   "id": "891bcdb5-b048-4e9a-9fcd-600a792d70db",
   "metadata": {},
   "outputs": [],
   "source": [
    "num_params = ds.weights_zstats.num_params"
   ]
  },
  {
   "cell_type": "code",
   "execution_count": 11,
   "id": "25280e2c-c236-45cb-9544-8ef3035fa3c6",
   "metadata": {},
   "outputs": [],
   "source": [
    "X_mean = np.mean(X, axis=0)\n",
    "X_std = np.std(X, axis=0)\n",
    "Y_mean = np.mean(Y)\n",
    "Y_std = np.std(Y)"
   ]
  },
  {
   "cell_type": "code",
   "execution_count": 12,
   "id": "b3beb94e-7f39-431e-98ba-2b0b01261096",
   "metadata": {},
   "outputs": [
    {
     "name": "stderr",
     "output_type": "stream",
     "text": [
      "/tmp/ipykernel_134005/1931566632.py:1: RuntimeWarning: divide by zero encountered in divide\n",
      "  X_new = (X - X_mean) / (X_std * np.sqrt(num_params))\n",
      "/tmp/ipykernel_134005/1931566632.py:1: RuntimeWarning: invalid value encountered in divide\n",
      "  X_new = (X - X_mean) / (X_std * np.sqrt(num_params))\n"
     ]
    }
   ],
   "source": [
    "X_new = (X - X_mean) / (X_std * np.sqrt(num_params))\n",
    "Y_new = (Y - Y_mean) / Y_std"
   ]
  },
  {
   "cell_type": "code",
   "execution_count": 13,
   "id": "a15b22a0-f896-4619-a0a4-f037a44f8249",
   "metadata": {},
   "outputs": [
    {
     "data": {
      "text/plain": [
       "array([[-2.17508277e-05, -1.28595575e-05,  2.30965685e-04, ...,\n",
       "        -2.54521478e-06, -2.11545514e-04, -1.78197137e-04],\n",
       "       [-3.65201326e-04, -3.20843508e-04, -3.17644415e-04, ...,\n",
       "        -1.68832659e-04, -2.11545514e-04, -1.78197137e-04],\n",
       "       [-3.30951414e-04, -2.92304467e-04, -3.17644415e-04, ...,\n",
       "        -1.68832659e-04, -2.11545514e-04, -1.78197137e-04],\n",
       "       ...,\n",
       "       [ 1.23407913e-03,  7.78623566e-04,  1.86744306e-04, ...,\n",
       "        -1.68832659e-04, -2.11545514e-04, -1.78197137e-04],\n",
       "       [-3.61395767e-04, -3.20130028e-04, -3.16193618e-04, ...,\n",
       "        -1.68832659e-04, -2.11545514e-04, -1.78197137e-04],\n",
       "       [-3.61395767e-04, -3.21081345e-04, -3.17232247e-04, ...,\n",
       "        -1.68832659e-04, -2.11545514e-04, -1.78197137e-04]], dtype=float32)"
      ]
     },
     "execution_count": 13,
     "metadata": {},
     "output_type": "execute_result"
    }
   ],
   "source": [
    "X_new"
   ]
  },
  {
   "cell_type": "code",
   "execution_count": 14,
   "id": "270f1104-9fa3-4730-aebe-daff289355b0",
   "metadata": {},
   "outputs": [],
   "source": [
    "trainer = SGDRegressor(loss=\"squared_error\", penalty=\"l1\", alpha=1e-3, fit_intercept=False, shuffle=True, verbose=True)"
   ]
  },
  {
   "cell_type": "code",
   "execution_count": null,
   "id": "9d03ae54-202d-4e1a-8ac7-d3ed967014b3",
   "metadata": {},
   "outputs": [],
   "source": [
    "trainer.fit(X_new, Y)\n",
    "print(trainer.n_iter_)"
   ]
  },
  {
   "cell_type": "code",
   "execution_count": 95,
   "id": "2da6859b-b99a-48d5-af3d-745e22b985ea",
   "metadata": {},
   "outputs": [
    {
     "data": {
      "text/plain": [
       "array([0., 0., 0., ..., 0., 0., 0.])"
      ]
     },
     "execution_count": 95,
     "metadata": {},
     "output_type": "execute_result"
    }
   ],
   "source": [
    "trainer.coef_"
   ]
  },
  {
   "cell_type": "code",
   "execution_count": 5,
   "id": "f83c4c64-a59b-41cc-a82e-00171d51ed1d",
   "metadata": {},
   "outputs": [],
   "source": [
    "dl = DataLoader(ds, batch_size=16, shuffle=True)\n",
    "dl = fb.setup_dataloaders(dl)"
   ]
  },
  {
   "cell_type": "code",
   "execution_count": 7,
   "id": "209835e0-1747-4e48-b8c2-39e85d624f09",
   "metadata": {},
   "outputs": [],
   "source": [
    "num_params = ds.weights_zstats.num_params\n",
    "l1_regularization_coeff = 0\n",
    "lr = 1e-3"
   ]
  },
  {
   "cell_type": "code",
   "execution_count": 7,
   "id": "30f06c27-7b3f-4d3f-8633-b55bac36e6a3",
   "metadata": {},
   "outputs": [
    {
     "name": "stdout",
     "output_type": "stream",
     "text": [
      "0.0; 0.0\n"
     ]
    }
   ],
   "source": [
    "model = nn.Linear(num_params, 1, bias=False)\n",
    "nn.init.zeros_(model.weight)\n",
    "abs_weight = torch.abs(model.weight)\n",
    "print(f\"{torch.max(abs_weight)}; {torch.min(abs_weight)}\")\n",
    "optimizer = optim.SGD(model.parameters(), lr=lr)\n",
    "model, optimizer = fb.setup(model, optimizer)"
   ]
  },
  {
   "cell_type": "code",
   "execution_count": 4,
   "id": "57e91c2e-4a73-4482-b22d-ee35abfae557",
   "metadata": {},
   "outputs": [
    {
     "data": {
      "text/plain": [
       "ZStats(num_params=25502912, mean=tensor([5.1708e-11, 4.7973e-11, 4.6359e-11,  ..., 4.5812e-14, 1.2386e-13,\n",
       "        3.3172e-13]), std=tensor([7.7607e-11, 7.2559e-11, 7.0380e-11,  ..., 4.2518e-13, 1.2495e-12,\n",
       "        2.0406e-12]))"
      ]
     },
     "execution_count": 4,
     "metadata": {},
     "output_type": "execute_result"
    }
   ],
   "source": [
    "ds.weights_zstats"
   ]
  },
  {
   "cell_type": "code",
   "execution_count": 5,
   "id": "024930b1-ff46-4e46-bbff-2d441f322bc0",
   "metadata": {},
   "outputs": [
    {
     "data": {
      "text/plain": [
       "ZStats(num_params=1, mean=tensor(-0.0108), std=tensor(0.0014))"
      ]
     },
     "execution_count": 5,
     "metadata": {},
     "output_type": "execute_result"
    }
   ],
   "source": [
    "ds.loss_zstats"
   ]
  },
  {
   "cell_type": "code",
   "execution_count": 8,
   "id": "1aefa50d-72bf-498f-aaf9-14e19540879d",
   "metadata": {},
   "outputs": [
    {
     "name": "stdout",
     "output_type": "stream",
     "text": [
      "9\n"
     ]
    }
   ],
   "source": [
    "num_epochs = int(np.ceil(np.log(num_params / len(ds))))\n",
    "print(num_epochs)"
   ]
  },
  {
   "cell_type": "code",
   "execution_count": 10,
   "id": "1a00a4b0-0b08-4f98-b8aa-52d9e1f47230",
   "metadata": {},
   "outputs": [
    {
     "name": "stdout",
     "output_type": "stream",
     "text": [
      "0.0; 0.0\n"
     ]
    }
   ],
   "source": [
    "model = nn.Linear(num_params, 1, bias=False)\n",
    "nn.init.zeros_(model.weight)\n",
    "abs_weight = torch.abs(model.weight)\n",
    "print(f\"{torch.max(abs_weight)}; {torch.min(abs_weight)}\")\n",
    "optimizer = optim.SGD(model.parameters(), lr=lr)\n",
    "model, optimizer = fb.setup(model, optimizer)\n",
    "model.train()\n",
    "dl = DataLoader(ds, batch_size=16, shuffle=True)\n",
    "dl = fb.setup_dataloaders(dl)\n",
    "dl_iter = iter(dl)"
   ]
  },
  {
   "cell_type": "code",
   "execution_count": null,
   "id": "8c8df9e2-04a4-4a4b-a531-11aa49d6912c",
   "metadata": {},
   "outputs": [],
   "source": [
    "model.train()\n",
    "for epoch in trange(num_epochs):\n",
    "    total_loss = 0\n",
    "    num_batches = 0\n",
    "    for idx, (X, Y) in enumerate(tqdm(dl)):\n",
    "        optimizer.zero_grad(set_to_none=True)\n",
    "        outputs = model(X)\n",
    "        Y = Y.view(outputs.size())\n",
    "        loss = F.mse_loss(outputs, Y, reduction=\"mean\")\n",
    "        total_loss += loss.item()\n",
    "        num_batches += 1\n",
    "        tqdm.write(f\"epoch: {epoch + 1}; batch: {idx + 1}; Loss: {loss.item()}\")\n",
    "        fb.backward(loss)\n",
    "        optimizer.step()\n",
    "    avg_loss = total_loss / num_batches\n",
    "    tqdm.write(f\"epoch: {epoch + 1}; avg_loss: {avg_loss}\")"
   ]
  },
  {
   "cell_type": "code",
   "execution_count": 12,
   "id": "d38fd6e3-9093-4b96-abb9-b41593ee2919",
   "metadata": {},
   "outputs": [
    {
     "data": {
      "text/plain": [
       "tensor(1.6422e-13, device='cuda:0', grad_fn=<MaxBackward1>)"
      ]
     },
     "execution_count": 12,
     "metadata": {},
     "output_type": "execute_result"
    }
   ],
   "source": [
    "torch.max(torch.abs(model.weight))"
   ]
  },
  {
   "cell_type": "code",
   "execution_count": 13,
   "id": "2b94cbb7-0b8f-4be3-9e38-5953f30d81f5",
   "metadata": {},
   "outputs": [
    {
     "data": {
      "text/plain": [
       "tensor(0., device='cuda:0', grad_fn=<MinBackward1>)"
      ]
     },
     "execution_count": 13,
     "metadata": {},
     "output_type": "execute_result"
    }
   ],
   "source": [
    "torch.min(torch.abs(model.weight))"
   ]
  },
  {
   "cell_type": "code",
   "execution_count": 15,
   "id": "37b151d9-0565-4613-9dc4-e7bd942fca72",
   "metadata": {},
   "outputs": [
    {
     "data": {
      "text/plain": [
       "tensor([-1.2169e-17, -5.2730e-17, -6.9182e-17,  ..., -1.5129e-17,\n",
       "        -5.6211e-17, -8.1764e-17], device='cuda:0', grad_fn=<SliceBackward0>)"
      ]
     },
     "execution_count": 15,
     "metadata": {},
     "output_type": "execute_result"
    }
   ],
   "source": [
    "last_layer_num_params = 2048000\n",
    "last_layer_start = num_params - last_layer_num_params\n",
    "model.weight[0, last_layer_start:]"
   ]
  },
  {
   "cell_type": "code",
   "execution_count": 16,
   "id": "c27d6a8f-0cf5-4f1d-bfac-0b66e2e6c06b",
   "metadata": {},
   "outputs": [
    {
     "data": {
      "text/plain": [
       "tensor([-2.0681e-14, -1.9123e-14, -1.8859e-14, -1.9659e-14, -2.0971e-14,\n",
       "        -2.0334e-14, -2.1363e-14, -1.8792e-14, -1.7077e-14, -1.6719e-14,\n",
       "        -1.6679e-14, -1.7886e-14, -1.8264e-14, -1.9038e-14, -1.8170e-14,\n",
       "        -1.5651e-14, -1.4909e-14, -1.5020e-14, -1.5414e-14, -1.6501e-14,\n",
       "        -1.6782e-14, -1.8724e-14, -1.6246e-14, -1.4884e-14, -1.4541e-14,\n",
       "        -1.4242e-14, -1.5773e-14, -1.5926e-14, -1.9396e-14, -1.7806e-14,\n",
       "        -1.5509e-14, -1.4270e-14, -1.4282e-14, -1.4743e-14, -1.5674e-14,\n",
       "        -1.9984e-14, -1.7581e-14, -1.5993e-14, -1.5042e-14, -1.5233e-14,\n",
       "        -1.5711e-14, -1.6868e-14, -2.0246e-14, -1.8906e-14, -1.7864e-14,\n",
       "        -1.7230e-14, -1.6191e-14, -1.6810e-14, -1.7744e-14, -1.3945e-14,\n",
       "        -1.2679e-14, -1.2212e-14, -1.2214e-14, -1.3270e-14, -1.3417e-14,\n",
       "        -1.4047e-14, -1.1975e-14, -1.0136e-14, -9.6365e-15, -9.3358e-15,\n",
       "        -1.1114e-14, -1.1149e-14, -1.1714e-14, -1.1557e-14, -8.9648e-15,\n",
       "        -8.5017e-15, -8.1683e-15, -9.0271e-15, -9.6564e-15, -1.0362e-14,\n",
       "        -1.2366e-14, -9.9460e-15, -8.9420e-15, -7.8970e-15, -7.8573e-15,\n",
       "        -9.0188e-15, -1.0680e-14, -1.2267e-14, -1.0657e-14, -9.3313e-15,\n",
       "        -7.9157e-15, -7.6649e-15, -8.5744e-15, -1.0365e-14, -1.2838e-14,\n",
       "        -1.0915e-14, -9.7849e-15, -9.0764e-15, -8.9928e-15, -8.8904e-15,\n",
       "        -1.0221e-14, -1.3947e-14, -1.2194e-14, -1.1050e-14, -1.1435e-14,\n",
       "        -1.0143e-14, -1.0399e-14, -1.1152e-14, -2.0234e-14, -1.8870e-14],\n",
       "       device='cuda:0', grad_fn=<SliceBackward0>)"
      ]
     },
     "execution_count": 16,
     "metadata": {},
     "output_type": "execute_result"
    }
   ],
   "source": [
    "model.weight[0, :100]"
   ]
  },
  {
   "cell_type": "code",
   "execution_count": 32,
   "id": "f1cd452f-c567-4a33-bbab-4b6e9a9c8784",
   "metadata": {},
   "outputs": [],
   "source": [
    "X, Y = next(iter(dl))"
   ]
  },
  {
   "cell_type": "code",
   "execution_count": 33,
   "id": "68589b27-09a0-4cec-9a4c-ba400d3d874d",
   "metadata": {},
   "outputs": [
    {
     "data": {
      "text/plain": [
       "tensor(5.5467e-10, device='cuda:0')"
      ]
     },
     "execution_count": 33,
     "metadata": {},
     "output_type": "execute_result"
    }
   ],
   "source": [
    "torch.mean(X[:, :100])"
   ]
  },
  {
   "cell_type": "code",
   "execution_count": 34,
   "id": "b501aa4a-da34-4006-9b23-749c6ff0606d",
   "metadata": {},
   "outputs": [
    {
     "data": {
      "text/plain": [
       "tensor(0.0078, device='cuda:0')"
      ]
     },
     "execution_count": 34,
     "metadata": {},
     "output_type": "execute_result"
    }
   ],
   "source": [
    "torch.mean(X[:, -10000:-1000])"
   ]
  }
 ],
 "metadata": {
  "kernelspec": {
   "display_name": "Python 3 (ipykernel)",
   "language": "python",
   "name": "python3"
  },
  "language_info": {
   "codemirror_mode": {
    "name": "ipython",
    "version": 3
   },
   "file_extension": ".py",
   "mimetype": "text/x-python",
   "name": "python",
   "nbconvert_exporter": "python",
   "pygments_lexer": "ipython3",
   "version": "3.12.9"
  }
 },
 "nbformat": 4,
 "nbformat_minor": 5
}
