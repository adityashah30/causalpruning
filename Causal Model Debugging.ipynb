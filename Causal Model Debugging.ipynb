{
 "cells": [
  {
   "cell_type": "code",
   "execution_count": 1,
   "id": "f3463975-07a3-4299-8eb7-0f56601c34f1",
   "metadata": {},
   "outputs": [],
   "source": [
    "from lightning import Fabric\n",
    "import numpy as np\n",
    "from sklearn.linear_model import SGDRegressor\n",
    "import torch\n",
    "import torch.nn as nn\n",
    "import torch.nn.functional as F\n",
    "import torch.optim as optim\n",
    "from torch.utils.data import DataLoader\n",
    "from tqdm.auto import tqdm, trange\n",
    "\n",
    "from causalpruner.sgd_pruner import ParamDataset\n",
    "\n",
    "torch.set_float32_matmul_precision('medium')"
   ]
  },
  {
   "cell_type": "code",
   "execution_count": 2,
   "id": "7ef8473d-cad4-46c6-b567-2d8ba6507373",
   "metadata": {},
   "outputs": [],
   "source": [
    "fb = Fabric()\n",
    "fb.launch()"
   ]
  },
  {
   "cell_type": "code",
   "execution_count": 3,
   "id": "b34ab6fa-cd01-4831-aba1-802766898399",
   "metadata": {},
   "outputs": [],
   "source": [
    "ds = ParamDataset(\"./checkpoints/mlpnet_mnist_causalpruner_1_5_1_0.001_0.9/weights/0\",\n",
    "                  \"./checkpoints/mlpnet_mnist_causalpruner_1_5_1_0.001_0.9/loss/0\",\n",
    "                  1e-3,\n",
    "                  False)"
   ]
  },
  {
   "cell_type": "code",
   "execution_count": 73,
   "id": "75a687a9-9ba7-40f4-b882-7de27719d0b8",
   "metadata": {},
   "outputs": [],
   "source": [
    "dl = DataLoader(ds, batch_size=len(ds))\n",
    "dl = fb.setup_dataloaders(dl)"
   ]
  },
  {
   "cell_type": "code",
   "execution_count": 74,
   "id": "2ed28622-4dae-4d4e-838d-8fbf9ce905a6",
   "metadata": {},
   "outputs": [],
   "source": [
    "X, Y = next(iter(dl))"
   ]
  },
  {
   "cell_type": "code",
   "execution_count": 75,
   "id": "ac442142-9616-431c-b6b2-947c34f93e29",
   "metadata": {},
   "outputs": [
    {
     "data": {
      "text/plain": [
       "tensor([[3.1209e-10, 2.8103e-10, 3.1312e-10,  ..., 1.7826e-04, 3.0727e-05,\n",
       "         1.2710e-05],\n",
       "        [9.4209e-09, 9.3814e-09, 9.4265e-09,  ..., 1.9620e-06, 7.6819e-06,\n",
       "         4.0881e-06],\n",
       "        [6.6822e-08, 6.7033e-08, 6.6852e-08,  ..., 9.3237e-05, 3.1727e-05,\n",
       "         6.2297e-08],\n",
       "        ...,\n",
       "        [3.7989e-08, 3.8251e-08, 3.7978e-08,  ..., 8.8818e-10, 6.4171e-06,\n",
       "         3.3979e-05],\n",
       "        [9.3884e-08, 9.3314e-08, 9.3884e-08,  ..., 2.0978e-04, 1.8417e-05,\n",
       "         1.0495e-10],\n",
       "        [3.6202e-06, 3.6167e-06, 3.6202e-06,  ..., 5.3749e-05, 4.3380e-05,\n",
       "         3.0852e-06]], device='cuda:0')"
      ]
     },
     "execution_count": 75,
     "metadata": {},
     "output_type": "execute_result"
    }
   ],
   "source": [
    "X"
   ]
  },
  {
   "cell_type": "code",
   "execution_count": 76,
   "id": "a411bcfc-a2f2-4e57-96ae-d526e58a6d1d",
   "metadata": {},
   "outputs": [
    {
     "data": {
      "text/plain": [
       "tensor([1.0924, 0.7842, 1.0919, 1.0024, 1.2729, 0.8606, 1.6258, 1.0034, 0.7199,\n",
       "        0.8807, 0.7204, 0.9818, 1.0346, 1.3488, 1.5137, 0.7802, 0.6877, 0.8823,\n",
       "        0.7591, 1.0939, 0.6203, 1.6413, 0.7380, 0.9551, 0.8566, 0.7717, 1.0848,\n",
       "        1.2427, 0.7913, 0.8179, 1.6524, 1.0175, 1.0979, 1.0255, 0.7802, 1.0074,\n",
       "        1.0260, 1.1618, 0.9994, 0.8802, 0.6329, 1.0185, 1.0109, 0.6294, 1.7057,\n",
       "        1.1351, 1.0436, 0.6540, 0.8631, 0.8028, 0.7269, 0.6922, 0.7189, 1.0054,\n",
       "        1.0245, 0.8647, 0.9652, 0.8833, 0.9084, 0.5907, 1.0652, 0.9370, 0.8541,\n",
       "        0.9064, 0.7249, 0.7154, 0.6394, 0.9094, 0.6193, 0.9592, 1.4342, 1.4126,\n",
       "        0.8933, 0.8732, 0.8968, 1.0632, 1.1432, 0.8063, 1.5021, 1.4347, 0.5922,\n",
       "        0.8717, 0.5706, 0.7023, 0.9561, 1.4664, 1.3930, 0.6465, 1.1477, 0.7495,\n",
       "        0.5510, 1.3427, 0.7415, 0.8184, 0.8596, 1.1542, 1.4734, 0.7626, 1.0135,\n",
       "        0.6937, 1.1934, 0.7289, 0.8340, 1.1276, 0.8380, 0.8325, 0.5615, 1.0949,\n",
       "        0.9903, 0.8144, 1.1366, 0.7410, 1.7238, 1.5609, 0.8053, 0.8028, 0.5776,\n",
       "        0.8652, 0.7842, 0.8506, 0.6676, 0.9250, 0.9833, 0.7123, 1.4222, 1.0466,\n",
       "        0.7636, 1.1768, 0.6239, 0.6083, 0.6284, 1.2482, 0.9290, 0.4635, 2.3667,\n",
       "        0.6681, 2.2149, 0.9868, 0.7360, 1.0683, 0.8521, 1.1768, 1.1934, 1.3251,\n",
       "        0.8878, 1.6036, 0.9059, 0.8325, 1.4765, 0.6601, 0.5248, 1.1980, 0.9838,\n",
       "        0.5535, 1.4749, 1.0532, 0.6470, 0.6399, 1.2904, 1.0994, 1.3744, 1.6177,\n",
       "        0.6379, 1.2085, 1.0316, 0.7586, 1.2889, 1.2346, 1.1542, 1.1135, 1.0969,\n",
       "        1.5594, 0.4590, 0.6148, 0.9230, 1.4056, 0.6942, 0.9838, 0.9959, 1.2477,\n",
       "        1.6137, 1.3945, 0.6213, 1.0683, 1.0547, 1.0140, 1.3648, 0.9783, 1.0411,\n",
       "        0.8043, 1.1160, 0.9325, 0.5138, 1.3437, 0.9501, 0.6299, 1.3382, 1.2316,\n",
       "        1.1889, 0.8350, 0.7169, 0.9235, 1.2040, 1.0517, 0.8451, 1.1411, 1.7922,\n",
       "        1.0205, 0.8204, 1.0507, 0.6254, 1.3664, 1.5006, 0.9451, 1.2794, 1.6202,\n",
       "        0.4585, 1.1708, 0.9260, 0.5354, 0.8380, 1.1869, 0.9079, 1.2925, 0.9270,\n",
       "        1.4161, 0.7812, 0.9215, 0.6837, 0.9340, 0.6249, 1.1447, 1.1341, 1.2769,\n",
       "        1.5428], device='cuda:0')"
      ]
     },
     "execution_count": 76,
     "metadata": {},
     "output_type": "execute_result"
    }
   ],
   "source": [
    "Y"
   ]
  },
  {
   "cell_type": "code",
   "execution_count": 7,
   "id": "3b178e4a-b04f-402f-bff1-093f0dd400ff",
   "metadata": {},
   "outputs": [
    {
     "name": "stdout",
     "output_type": "stream",
     "text": [
      "torch.return_types.topk(\n",
      "values=tensor([30.3825], device='cuda:0'),\n",
      "indices=tensor([31554], device='cuda:0'))\n"
     ]
    }
   ],
   "source": [
    "topk = torch.topk(torch.mean(X, dim=0), k=1, largest=True)\n",
    "print(topk)"
   ]
  },
  {
   "cell_type": "code",
   "execution_count": 8,
   "id": "5702fed8-448a-4208-817d-971dbec837e1",
   "metadata": {},
   "outputs": [
    {
     "data": {
      "text/plain": [
       "tensor([ 3.2132, 18.6051, 25.2001,  ...,  8.6268, 10.5456, 22.4080],\n",
       "       device='cuda:0')"
      ]
     },
     "execution_count": 8,
     "metadata": {},
     "output_type": "execute_result"
    }
   ],
   "source": [
    "X[:,topk.indices[0]]"
   ]
  },
  {
   "cell_type": "code",
   "execution_count": 9,
   "id": "d5d79a07-8bbd-4392-8166-2de31688fba4",
   "metadata": {},
   "outputs": [
    {
     "data": {
      "text/plain": [
       "tensor([1.0002, 1.2474, 0.8577,  ..., 0.9133, 1.0585, 1.8976], device='cuda:0')"
      ]
     },
     "execution_count": 9,
     "metadata": {},
     "output_type": "execute_result"
    }
   ],
   "source": [
    "Y"
   ]
  },
  {
   "cell_type": "code",
   "execution_count": 10,
   "id": "650d8c31-03af-42b0-bcdf-9e55f0c698b6",
   "metadata": {},
   "outputs": [
    {
     "name": "stdout",
     "output_type": "stream",
     "text": [
      "526.0156860351562; 2.666211912583094e-06\n",
      "2.7532496452331543; 0.2631295323371887\n"
     ]
    }
   ],
   "source": [
    "X_abs = torch.abs(X)\n",
    "Y_abs = torch.abs(Y)\n",
    "\n",
    "print(f\"{torch.max(X_abs)}; {torch.min(X_abs)}\")\n",
    "print(f\"{torch.max(Y_abs)}; {torch.min(Y_abs)}\")"
   ]
  },
  {
   "cell_type": "code",
   "execution_count": 11,
   "id": "f83c4c64-a59b-41cc-a82e-00171d51ed1d",
   "metadata": {},
   "outputs": [],
   "source": [
    "dl = DataLoader(ds, batch_size=16, shuffle=True)\n",
    "dl = fb.setup_dataloaders(dl)"
   ]
  },
  {
   "cell_type": "code",
   "execution_count": 12,
   "id": "209835e0-1747-4e48-b8c2-39e85d624f09",
   "metadata": {},
   "outputs": [],
   "source": [
    "num_params = ds.weights_zstats.num_params\n",
    "l1_regularization_coeff = 0\n",
    "lr = 1e-3"
   ]
  },
  {
   "cell_type": "code",
   "execution_count": 13,
   "id": "57e91c2e-4a73-4482-b22d-ee35abfae557",
   "metadata": {},
   "outputs": [
    {
     "data": {
      "text/plain": [
       "ZStats(num_params=32360, mean=tensor([4.0807e-13, 4.0808e-13, 4.0808e-13,  ..., 1.5538e-11, 7.5351e-13,\n",
       "        4.9722e-12]), std=tensor([6.3572e-13, 6.3571e-13, 6.3571e-13,  ..., 3.3823e-11, 4.1001e-12,\n",
       "        9.4806e-12]), global_mean=tensor(2.8430e-12), global_std=tensor(1.6184e-11))"
      ]
     },
     "execution_count": 13,
     "metadata": {},
     "output_type": "execute_result"
    }
   ],
   "source": [
    "ds.weights_zstats"
   ]
  },
  {
   "cell_type": "code",
   "execution_count": 14,
   "id": "024930b1-ff46-4e46-bbff-2d441f322bc0",
   "metadata": {},
   "outputs": [
    {
     "data": {
      "text/plain": [
       "ZStats(num_params=1, mean=tensor(-8.9929e-05), std=tensor(3.0293e-05), global_mean=tensor(-8.9929e-05), global_std=tensor(3.0293e-05))"
      ]
     },
     "execution_count": 14,
     "metadata": {},
     "output_type": "execute_result"
    }
   ],
   "source": [
    "ds.loss_zstats"
   ]
  },
  {
   "cell_type": "code",
   "execution_count": 15,
   "id": "1aefa50d-72bf-498f-aaf9-14e19540879d",
   "metadata": {},
   "outputs": [
    {
     "name": "stdout",
     "output_type": "stream",
     "text": [
      "4\n"
     ]
    }
   ],
   "source": [
    "num_epochs = int(np.ceil(np.log(num_params / len(ds))))\n",
    "print(num_epochs)\n",
    "num_epochs=20"
   ]
  },
  {
   "cell_type": "code",
   "execution_count": 16,
   "id": "1a00a4b0-0b08-4f98-b8aa-52d9e1f47230",
   "metadata": {},
   "outputs": [
    {
     "name": "stdout",
     "output_type": "stream",
     "text": [
      "0.0; 0.0\n"
     ]
    }
   ],
   "source": [
    "model = nn.Linear(num_params, 1, bias=False)\n",
    "nn.init.zeros_(model.weight)\n",
    "abs_weight = torch.abs(model.weight)\n",
    "print(f\"{torch.max(abs_weight)}; {torch.min(abs_weight)}\")\n",
    "optimizer = optim.SGD(model.parameters(), lr=lr)\n",
    "model, optimizer = fb.setup(model, optimizer)\n",
    "model.train()\n",
    "dl = DataLoader(ds, batch_size=16, shuffle=True)\n",
    "dl = fb.setup_dataloaders(dl)\n",
    "dl_iter = iter(dl)"
   ]
  },
  {
   "cell_type": "code",
   "execution_count": null,
   "id": "8c8df9e2-04a4-4a4b-a531-11aa49d6912c",
   "metadata": {},
   "outputs": [],
   "source": [
    "model.train()\n",
    "for epoch in trange(100):\n",
    "    total_loss = 0\n",
    "    num_batches = 0\n",
    "    for idx, (X, Y) in enumerate(tqdm(dl)):\n",
    "        optimizer.zero_grad(set_to_none=True)\n",
    "        outputs = model(X)\n",
    "        Y = Y.view(outputs.size())\n",
    "        loss = F.mse_loss(outputs, Y, reduction=\"mean\")\n",
    "        total_loss += loss.item()\n",
    "        num_batches += 1\n",
    "        tqdm.write(f\"epoch: {epoch + 1}; batch: {idx + 1}; Loss: {loss.item()}\")\n",
    "        fb.backward(loss)\n",
    "        optimizer.step()\n",
    "    avg_loss = total_loss / num_batches\n",
    "    tqdm.write(f\"epoch: {epoch + 1}; avg_loss: {avg_loss}\")"
   ]
  },
  {
   "cell_type": "code",
   "execution_count": 22,
   "id": "d38fd6e3-9093-4b96-abb9-b41593ee2919",
   "metadata": {},
   "outputs": [
    {
     "data": {
      "text/plain": [
       "tensor(5.0420e-09, device='cuda:0', grad_fn=<MaxBackward1>)"
      ]
     },
     "execution_count": 22,
     "metadata": {},
     "output_type": "execute_result"
    }
   ],
   "source": [
    "torch.max(torch.abs(model.weight))"
   ]
  },
  {
   "cell_type": "code",
   "execution_count": 23,
   "id": "2b94cbb7-0b8f-4be3-9e38-5953f30d81f5",
   "metadata": {},
   "outputs": [
    {
     "data": {
      "text/plain": [
       "tensor(0., device='cuda:0', grad_fn=<MinBackward1>)"
      ]
     },
     "execution_count": 23,
     "metadata": {},
     "output_type": "execute_result"
    }
   ],
   "source": [
    "torch.min(torch.abs(model.weight))"
   ]
  },
  {
   "cell_type": "code",
   "execution_count": 4,
   "id": "eda704b6-1ef4-4594-927c-9addc08a0c99",
   "metadata": {},
   "outputs": [],
   "source": [
    "from causalpruner.causal_weights_trainer import CausalWeightsTrainerConfig, get_causal_weights_trainer"
   ]
  },
  {
   "cell_type": "code",
   "execution_count": 5,
   "id": "1d1df1ba-cb3c-4a05-8d70-97687417b944",
   "metadata": {},
   "outputs": [],
   "source": [
    "config = CausalWeightsTrainerConfig(\n",
    "    fabric=fb,\n",
    "    init_lr=0.1,\n",
    "    l1_regularization_coeff=1e-3,\n",
    "    initialization='zeros',\n",
    "    prune_amount=0.9,\n",
    "    max_iter=30,\n",
    "    loss_tol=1e-7,\n",
    "    num_iter_no_change=2,\n",
    "    backend='torch'\n",
    ")\n",
    "num_params = ds.weights_zstats.num_params\n",
    "trainer = get_causal_weights_trainer(\n",
    "    config, \n",
    "    num_params, \n",
    "    torch.ones(num_params),\n",
    "    1,\n",
    "    1,\n",
    "    True\n",
    ")"
   ]
  },
  {
   "cell_type": "code",
   "execution_count": 6,
   "id": "32a86e44-7b32-4b6f-a78b-77404d50f9aa",
   "metadata": {},
   "outputs": [
    {
     "data": {
      "text/plain": [
       "0.9"
      ]
     },
     "execution_count": 6,
     "metadata": {},
     "output_type": "execute_result"
    }
   ],
   "source": [
    "trainer.prune_amount_this_iteration"
   ]
  },
  {
   "cell_type": "code",
   "execution_count": 7,
   "id": "9680ffc8-fa01-4ed4-bb3b-7433d4fcf974",
   "metadata": {},
   "outputs": [
    {
     "name": "stdout",
     "output_type": "stream",
     "text": [
      "Prune amount this iteration: 0.9\n",
      "Setting learning rate to 0.1\n"
     ]
    },
    {
     "data": {
      "application/vnd.jupyter.widget-view+json": {
       "model_id": "ea5a724137014f9f9b2aeadcac49ad0b",
       "version_major": 2,
       "version_minor": 0
      },
      "text/plain": [
       "Prune weight fitting:   0%|                                                        | 0/30 [00:00<?, ?it/s]"
      ]
     },
     "metadata": {},
     "output_type": "display_data"
    },
    {
     "data": {
      "application/vnd.jupyter.widget-view+json": {
       "model_id": "70b05cda46734e8bacdde91215cb9cda",
       "version_major": 2,
       "version_minor": 0
      },
      "text/plain": [
       "  0%|                                                                              | 0/15 [00:00<?, ?it/s]"
      ]
     },
     "metadata": {},
     "output_type": "display_data"
    },
    {
     "name": "stdout",
     "output_type": "stream",
     "text": [
      "Pruning iter: 1; loss: 1.117681622505188; best_loss: inf\n"
     ]
    },
    {
     "data": {
      "application/vnd.jupyter.widget-view+json": {
       "model_id": "19d6465f610844dd806d9d1ab80917dc",
       "version_major": 2,
       "version_minor": 0
      },
      "text/plain": [
       "  0%|                                                                              | 0/15 [00:00<?, ?it/s]"
      ]
     },
     "metadata": {},
     "output_type": "display_data"
    },
    {
     "name": "stdout",
     "output_type": "stream",
     "text": [
      "Pruning iter: 2; loss: 1.1176562309265137; best_loss: 1.117681622505188\n"
     ]
    },
    {
     "data": {
      "application/vnd.jupyter.widget-view+json": {
       "model_id": "4c48d00522704ae7b0fa9e657c1c824b",
       "version_major": 2,
       "version_minor": 0
      },
      "text/plain": [
       "  0%|                                                                              | 0/15 [00:00<?, ?it/s]"
      ]
     },
     "metadata": {},
     "output_type": "display_data"
    },
    {
     "name": "stdout",
     "output_type": "stream",
     "text": [
      "Pruning iter: 3; loss: 1.1176329851150513; best_loss: 1.1176562309265137\n"
     ]
    },
    {
     "data": {
      "application/vnd.jupyter.widget-view+json": {
       "model_id": "94b32330873d4b10bb381362b4e654e6",
       "version_major": 2,
       "version_minor": 0
      },
      "text/plain": [
       "  0%|                                                                              | 0/15 [00:00<?, ?it/s]"
      ]
     },
     "metadata": {},
     "output_type": "display_data"
    },
    {
     "name": "stdout",
     "output_type": "stream",
     "text": [
      "Pruning iter: 4; loss: 1.1176104545593262; best_loss: 1.1176329851150513\n"
     ]
    },
    {
     "data": {
      "application/vnd.jupyter.widget-view+json": {
       "model_id": "44e4feab3e324ec9bc9b09cc08257c3b",
       "version_major": 2,
       "version_minor": 0
      },
      "text/plain": [
       "  0%|                                                                              | 0/15 [00:00<?, ?it/s]"
      ]
     },
     "metadata": {},
     "output_type": "display_data"
    },
    {
     "name": "stdout",
     "output_type": "stream",
     "text": [
      "Pruning iter: 5; loss: 1.1175885200500488; best_loss: 1.1176104545593262\n"
     ]
    },
    {
     "data": {
      "application/vnd.jupyter.widget-view+json": {
       "model_id": "320e55cbd3594fb595233d4512c1cc52",
       "version_major": 2,
       "version_minor": 0
      },
      "text/plain": [
       "  0%|                                                                              | 0/15 [00:00<?, ?it/s]"
      ]
     },
     "metadata": {},
     "output_type": "display_data"
    },
    {
     "name": "stdout",
     "output_type": "stream",
     "text": [
      "Pruning iter: 6; loss: 1.1175671815872192; best_loss: 1.1175885200500488\n"
     ]
    },
    {
     "data": {
      "application/vnd.jupyter.widget-view+json": {
       "model_id": "1292a121b0204c8ca388473122d93ca2",
       "version_major": 2,
       "version_minor": 0
      },
      "text/plain": [
       "  0%|                                                                              | 0/15 [00:00<?, ?it/s]"
      ]
     },
     "metadata": {},
     "output_type": "display_data"
    },
    {
     "name": "stdout",
     "output_type": "stream",
     "text": [
      "Pruning iter: 7; loss: 1.1175463199615479; best_loss: 1.1175671815872192\n"
     ]
    },
    {
     "data": {
      "application/vnd.jupyter.widget-view+json": {
       "model_id": "20e0a7a50cf14b6094433078d68feed9",
       "version_major": 2,
       "version_minor": 0
      },
      "text/plain": [
       "  0%|                                                                              | 0/15 [00:00<?, ?it/s]"
      ]
     },
     "metadata": {},
     "output_type": "display_data"
    },
    {
     "name": "stdout",
     "output_type": "stream",
     "text": [
      "Pruning iter: 8; loss: 1.117525577545166; best_loss: 1.1175463199615479\n"
     ]
    },
    {
     "data": {
      "application/vnd.jupyter.widget-view+json": {
       "model_id": "f234d293c5ce447e81b16c5be8e24657",
       "version_major": 2,
       "version_minor": 0
      },
      "text/plain": [
       "  0%|                                                                              | 0/15 [00:00<?, ?it/s]"
      ]
     },
     "metadata": {},
     "output_type": "display_data"
    },
    {
     "name": "stdout",
     "output_type": "stream",
     "text": [
      "Pruning iter: 9; loss: 1.1175053119659424; best_loss: 1.117525577545166\n"
     ]
    },
    {
     "data": {
      "application/vnd.jupyter.widget-view+json": {
       "model_id": "8264e971cb8f4dd691364ecd5c34e129",
       "version_major": 2,
       "version_minor": 0
      },
      "text/plain": [
       "  0%|                                                                              | 0/15 [00:00<?, ?it/s]"
      ]
     },
     "metadata": {},
     "output_type": "display_data"
    },
    {
     "name": "stdout",
     "output_type": "stream",
     "text": [
      "Pruning iter: 10; loss: 1.1174850463867188; best_loss: 1.1175053119659424\n"
     ]
    },
    {
     "data": {
      "application/vnd.jupyter.widget-view+json": {
       "model_id": "01b859e9936347b8a5db69f4610a33fa",
       "version_major": 2,
       "version_minor": 0
      },
      "text/plain": [
       "  0%|                                                                              | 0/15 [00:00<?, ?it/s]"
      ]
     },
     "metadata": {},
     "output_type": "display_data"
    },
    {
     "name": "stdout",
     "output_type": "stream",
     "text": [
      "Pruning iter: 11; loss: 1.1174652576446533; best_loss: 1.1174850463867188\n"
     ]
    },
    {
     "data": {
      "application/vnd.jupyter.widget-view+json": {
       "model_id": "c3347ccd37064f5898af0f8881cfaa25",
       "version_major": 2,
       "version_minor": 0
      },
      "text/plain": [
       "  0%|                                                                              | 0/15 [00:00<?, ?it/s]"
      ]
     },
     "metadata": {},
     "output_type": "display_data"
    },
    {
     "name": "stdout",
     "output_type": "stream",
     "text": [
      "Pruning iter: 12; loss: 1.1174453496932983; best_loss: 1.1174652576446533\n"
     ]
    },
    {
     "data": {
      "application/vnd.jupyter.widget-view+json": {
       "model_id": "250caf8224cb4a278db8c728d63ce605",
       "version_major": 2,
       "version_minor": 0
      },
      "text/plain": [
       "  0%|                                                                              | 0/15 [00:00<?, ?it/s]"
      ]
     },
     "metadata": {},
     "output_type": "display_data"
    },
    {
     "name": "stdout",
     "output_type": "stream",
     "text": [
      "Pruning iter: 13; loss: 1.1174259185791016; best_loss: 1.1174453496932983\n"
     ]
    },
    {
     "data": {
      "application/vnd.jupyter.widget-view+json": {
       "model_id": "a7ebfd77f59f4bb7bd772bf19394d502",
       "version_major": 2,
       "version_minor": 0
      },
      "text/plain": [
       "  0%|                                                                              | 0/15 [00:00<?, ?it/s]"
      ]
     },
     "metadata": {},
     "output_type": "display_data"
    },
    {
     "name": "stdout",
     "output_type": "stream",
     "text": [
      "Pruning iter: 14; loss: 1.1174066066741943; best_loss: 1.1174259185791016\n"
     ]
    },
    {
     "data": {
      "application/vnd.jupyter.widget-view+json": {
       "model_id": "30c56f8cfddb4a4f9731af0ba64eba8a",
       "version_major": 2,
       "version_minor": 0
      },
      "text/plain": [
       "  0%|                                                                              | 0/15 [00:00<?, ?it/s]"
      ]
     },
     "metadata": {},
     "output_type": "display_data"
    },
    {
     "name": "stdout",
     "output_type": "stream",
     "text": [
      "Pruning iter: 15; loss: 1.117387294769287; best_loss: 1.1174066066741943\n"
     ]
    },
    {
     "data": {
      "application/vnd.jupyter.widget-view+json": {
       "model_id": "aaa93f00e18440d5b4ba21f7f20a3418",
       "version_major": 2,
       "version_minor": 0
      },
      "text/plain": [
       "  0%|                                                                              | 0/15 [00:00<?, ?it/s]"
      ]
     },
     "metadata": {},
     "output_type": "display_data"
    },
    {
     "name": "stdout",
     "output_type": "stream",
     "text": [
      "Pruning iter: 16; loss: 1.117368221282959; best_loss: 1.117387294769287\n"
     ]
    },
    {
     "data": {
      "application/vnd.jupyter.widget-view+json": {
       "model_id": "26ca45374bcd4a88bea05686bbc609cd",
       "version_major": 2,
       "version_minor": 0
      },
      "text/plain": [
       "  0%|                                                                              | 0/15 [00:00<?, ?it/s]"
      ]
     },
     "metadata": {},
     "output_type": "display_data"
    },
    {
     "name": "stdout",
     "output_type": "stream",
     "text": [
      "Pruning iter: 17; loss: 1.1173491477966309; best_loss: 1.117368221282959\n"
     ]
    },
    {
     "data": {
      "application/vnd.jupyter.widget-view+json": {
       "model_id": "0ac2eae0f9164106a7ea2cfc941b557c",
       "version_major": 2,
       "version_minor": 0
      },
      "text/plain": [
       "  0%|                                                                              | 0/15 [00:00<?, ?it/s]"
      ]
     },
     "metadata": {},
     "output_type": "display_data"
    },
    {
     "name": "stdout",
     "output_type": "stream",
     "text": [
      "Pruning iter: 18; loss: 1.1173304319381714; best_loss: 1.1173491477966309\n"
     ]
    },
    {
     "data": {
      "application/vnd.jupyter.widget-view+json": {
       "model_id": "de0059563dce45b2a8409494be30039b",
       "version_major": 2,
       "version_minor": 0
      },
      "text/plain": [
       "  0%|                                                                              | 0/15 [00:00<?, ?it/s]"
      ]
     },
     "metadata": {},
     "output_type": "display_data"
    },
    {
     "name": "stdout",
     "output_type": "stream",
     "text": [
      "Pruning iter: 19; loss: 1.1173115968704224; best_loss: 1.1173304319381714\n"
     ]
    },
    {
     "data": {
      "application/vnd.jupyter.widget-view+json": {
       "model_id": "a6888266e1ab4d8cbfa9fdabc06219e6",
       "version_major": 2,
       "version_minor": 0
      },
      "text/plain": [
       "  0%|                                                                              | 0/15 [00:00<?, ?it/s]"
      ]
     },
     "metadata": {},
     "output_type": "display_data"
    },
    {
     "name": "stdout",
     "output_type": "stream",
     "text": [
      "Pruning iter: 20; loss: 1.1172927618026733; best_loss: 1.1173115968704224\n"
     ]
    },
    {
     "data": {
      "application/vnd.jupyter.widget-view+json": {
       "model_id": "af1408cb745d4954bca25ac7589ceeee",
       "version_major": 2,
       "version_minor": 0
      },
      "text/plain": [
       "  0%|                                                                              | 0/15 [00:00<?, ?it/s]"
      ]
     },
     "metadata": {},
     "output_type": "display_data"
    },
    {
     "name": "stdout",
     "output_type": "stream",
     "text": [
      "Pruning iter: 21; loss: 1.1172741651535034; best_loss: 1.1172927618026733\n"
     ]
    },
    {
     "data": {
      "application/vnd.jupyter.widget-view+json": {
       "model_id": "1f9da6f1309c40b5a6919199a4cbd985",
       "version_major": 2,
       "version_minor": 0
      },
      "text/plain": [
       "  0%|                                                                              | 0/15 [00:00<?, ?it/s]"
      ]
     },
     "metadata": {},
     "output_type": "display_data"
    },
    {
     "name": "stdout",
     "output_type": "stream",
     "text": [
      "Pruning iter: 22; loss: 1.1172558069229126; best_loss: 1.1172741651535034\n"
     ]
    },
    {
     "data": {
      "application/vnd.jupyter.widget-view+json": {
       "model_id": "9f11ee74cc6542b991a3d70e5d5a241b",
       "version_major": 2,
       "version_minor": 0
      },
      "text/plain": [
       "  0%|                                                                              | 0/15 [00:00<?, ?it/s]"
      ]
     },
     "metadata": {},
     "output_type": "display_data"
    },
    {
     "name": "stdout",
     "output_type": "stream",
     "text": [
      "Pruning iter: 23; loss: 1.1172374486923218; best_loss: 1.1172558069229126\n"
     ]
    },
    {
     "data": {
      "application/vnd.jupyter.widget-view+json": {
       "model_id": "d9523390bddf4cc3a29939822ac9aba4",
       "version_major": 2,
       "version_minor": 0
      },
      "text/plain": [
       "  0%|                                                                              | 0/15 [00:00<?, ?it/s]"
      ]
     },
     "metadata": {},
     "output_type": "display_data"
    },
    {
     "name": "stdout",
     "output_type": "stream",
     "text": [
      "Pruning iter: 24; loss: 1.1172192096710205; best_loss: 1.1172374486923218\n"
     ]
    },
    {
     "data": {
      "application/vnd.jupyter.widget-view+json": {
       "model_id": "dc9701328891482d81418f705f684d9c",
       "version_major": 2,
       "version_minor": 0
      },
      "text/plain": [
       "  0%|                                                                              | 0/15 [00:00<?, ?it/s]"
      ]
     },
     "metadata": {},
     "output_type": "display_data"
    },
    {
     "name": "stdout",
     "output_type": "stream",
     "text": [
      "Pruning iter: 25; loss: 1.1172008514404297; best_loss: 1.1172192096710205\n"
     ]
    },
    {
     "data": {
      "application/vnd.jupyter.widget-view+json": {
       "model_id": "f5a19634b2664e40832b14b2ef2351cd",
       "version_major": 2,
       "version_minor": 0
      },
      "text/plain": [
       "  0%|                                                                              | 0/15 [00:00<?, ?it/s]"
      ]
     },
     "metadata": {},
     "output_type": "display_data"
    },
    {
     "name": "stdout",
     "output_type": "stream",
     "text": [
      "Pruning iter: 26; loss: 1.1171826124191284; best_loss: 1.1172008514404297\n"
     ]
    },
    {
     "data": {
      "application/vnd.jupyter.widget-view+json": {
       "model_id": "ff98c1d45d3848dfbb33fcfcf2506ad6",
       "version_major": 2,
       "version_minor": 0
      },
      "text/plain": [
       "  0%|                                                                              | 0/15 [00:00<?, ?it/s]"
      ]
     },
     "metadata": {},
     "output_type": "display_data"
    },
    {
     "name": "stdout",
     "output_type": "stream",
     "text": [
      "Pruning iter: 27; loss: 1.1171646118164062; best_loss: 1.1171826124191284\n"
     ]
    },
    {
     "data": {
      "application/vnd.jupyter.widget-view+json": {
       "model_id": "8812ba31afa541cb9cae20ba57547d69",
       "version_major": 2,
       "version_minor": 0
      },
      "text/plain": [
       "  0%|                                                                              | 0/15 [00:00<?, ?it/s]"
      ]
     },
     "metadata": {},
     "output_type": "display_data"
    },
    {
     "name": "stdout",
     "output_type": "stream",
     "text": [
      "Pruning iter: 28; loss: 1.117146611213684; best_loss: 1.1171646118164062\n"
     ]
    },
    {
     "data": {
      "application/vnd.jupyter.widget-view+json": {
       "model_id": "da4ae9d9580846cb8d32761b8ed82077",
       "version_major": 2,
       "version_minor": 0
      },
      "text/plain": [
       "  0%|                                                                              | 0/15 [00:00<?, ?it/s]"
      ]
     },
     "metadata": {},
     "output_type": "display_data"
    },
    {
     "name": "stdout",
     "output_type": "stream",
     "text": [
      "Pruning iter: 29; loss: 1.117128610610962; best_loss: 1.117146611213684\n"
     ]
    },
    {
     "data": {
      "application/vnd.jupyter.widget-view+json": {
       "model_id": "1fbfeb391954450794d81f91b8837484",
       "version_major": 2,
       "version_minor": 0
      },
      "text/plain": [
       "  0%|                                                                              | 0/15 [00:00<?, ?it/s]"
      ]
     },
     "metadata": {},
     "output_type": "display_data"
    },
    {
     "name": "stdout",
     "output_type": "stream",
     "text": [
      "Pruning iter: 30; loss: 1.1171108484268188; best_loss: 1.117128610610962\n",
      "Before: 31556\n",
      "After: 3236\n"
     ]
    },
    {
     "data": {
      "text/plain": [
       "30"
      ]
     },
     "execution_count": 7,
     "metadata": {},
     "output_type": "execute_result"
    }
   ],
   "source": [
    "# dl = DataLoader(ds, batch_size=len(ds))\n",
    "dl = DataLoader(ds, batch_size=16)\n",
    "trainer.fit(dl)"
   ]
  },
  {
   "cell_type": "code",
   "execution_count": 8,
   "id": "9157c415-be1c-4536-886f-514d40e9f864",
   "metadata": {},
   "outputs": [
    {
     "data": {
      "text/plain": [
       "235"
      ]
     },
     "execution_count": 8,
     "metadata": {},
     "output_type": "execute_result"
    }
   ],
   "source": [
    "len(ds)"
   ]
  },
  {
   "cell_type": "code",
   "execution_count": 9,
   "id": "f88d6ea1-f393-4b0f-8ad5-25dc9cb278c3",
   "metadata": {},
   "outputs": [
    {
     "data": {
      "text/plain": [
       "tensor(3236., device='cuda:0')"
      ]
     },
     "execution_count": 9,
     "metadata": {},
     "output_type": "execute_result"
    }
   ],
   "source": [
    "torch.sum(trainer.get_non_zero_weights())"
   ]
  },
  {
   "cell_type": "code",
   "execution_count": 10,
   "id": "bdf7345f-a91b-4908-a92d-52acfc003f92",
   "metadata": {},
   "outputs": [
    {
     "data": {
      "text/plain": [
       "32360"
      ]
     },
     "execution_count": 10,
     "metadata": {},
     "output_type": "execute_result"
    }
   ],
   "source": [
    "num_params"
   ]
  },
  {
   "cell_type": "code",
   "execution_count": 11,
   "id": "73572c7a-2e80-4c81-b642-d9065c9681e2",
   "metadata": {},
   "outputs": [],
   "source": [
    "from tests.models import get_mlpnet\n",
    "\n",
    "model = get_mlpnet(\"mnist\")\n",
    "model = fb.setup(model)"
   ]
  },
  {
   "cell_type": "code",
   "execution_count": 12,
   "id": "078c5696-cb8a-4cd0-a2a3-cf64007ef9e1",
   "metadata": {},
   "outputs": [],
   "source": [
    "from causalpruner.base import Pruner"
   ]
  },
  {
   "cell_type": "code",
   "execution_count": 14,
   "id": "ea990cc9-7bcf-47e5-bbfe-72bea7a15d60",
   "metadata": {},
   "outputs": [],
   "source": [
    "modules_dict = dict()\n",
    "for name, module in model.named_modules():\n",
    "    if Pruner.is_module_supported(module):\n",
    "        modules_dict[name] = module\n",
    "\n",
    "params = []\n",
    "params_to_dims = dict()\n",
    "for name, module in modules_dict.items():\n",
    "    if hasattr(module, \"weight\"):\n",
    "        params.append(name)\n",
    "        params_to_dims[name] = torch.numel(module.weight)\n",
    "\n",
    "mask = trainer.get_non_zero_weights()\n",
    "\n",
    "masks = dict()\n",
    "start_index, end_index = 0, 0\n",
    "for param in params:\n",
    "    end_index += params_to_dims[param]\n",
    "    weight = modules_dict[param].weight\n",
    "    masks[param] = mask[start_index:end_index].reshape_as(weight).to(weight.device, non_blocking=True)\n",
    "    start_index = end_index"
   ]
  },
  {
   "cell_type": "code",
   "execution_count": 15,
   "id": "9b991c8f-9f2d-4d75-be80-d4f99818b261",
   "metadata": {},
   "outputs": [
    {
     "data": {
      "text/plain": [
       "tensor(2603., device='cuda:0')"
      ]
     },
     "execution_count": 15,
     "metadata": {},
     "output_type": "execute_result"
    }
   ],
   "source": [
    "torch.sum(masks['_forward_module.fc1'])"
   ]
  },
  {
   "cell_type": "code",
   "execution_count": 16,
   "id": "e4d760c4-7213-4ecf-ae35-355d2370ec32",
   "metadata": {},
   "outputs": [
    {
     "data": {
      "text/plain": [
       "tensor(512., device='cuda:0')"
      ]
     },
     "execution_count": 16,
     "metadata": {},
     "output_type": "execute_result"
    }
   ],
   "source": [
    "torch.sum(masks['_forward_module.fc2'])"
   ]
  },
  {
   "cell_type": "code",
   "execution_count": 17,
   "id": "e59a49b5-0b82-4e47-bb47-d6c94e73e5f3",
   "metadata": {},
   "outputs": [
    {
     "data": {
      "text/plain": [
       "tensor(121., device='cuda:0')"
      ]
     },
     "execution_count": 17,
     "metadata": {},
     "output_type": "execute_result"
    }
   ],
   "source": [
    "torch.sum(masks['_forward_module.fc3'])"
   ]
  }
 ],
 "metadata": {
  "kernelspec": {
   "display_name": "Python 3 (ipykernel)",
   "language": "python",
   "name": "python3"
  },
  "language_info": {
   "codemirror_mode": {
    "name": "ipython",
    "version": 3
   },
   "file_extension": ".py",
   "mimetype": "text/x-python",
   "name": "python",
   "nbconvert_exporter": "python",
   "pygments_lexer": "ipython3",
   "version": "3.12.9"
  }
 },
 "nbformat": 4,
 "nbformat_minor": 5
}
