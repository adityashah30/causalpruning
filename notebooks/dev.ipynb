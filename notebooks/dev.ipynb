{
 "cells": [
  {
   "cell_type": "code",
   "execution_count": 1,
   "id": "7a49375a",
   "metadata": {},
   "outputs": [],
   "source": [
    "%load_ext autoreload\n",
    "%autoreload 2\n",
    "import os\n",
    "import sys\n",
    "module_path = os.path.abspath(os.path.join('../'))\n",
    "sys.path.insert(0, module_path)"
   ]
  },
  {
   "cell_type": "code",
   "execution_count": 3,
   "id": "fffecb17-fa95-44d8-bd3b-b095d0e04fe4",
   "metadata": {},
   "outputs": [],
   "source": [
    "import torch\n",
    "import torch.nn.functional as F\n",
    "import torch.optim as optim\n",
    "from torch.utils.data import DataLoader\n",
    "from tqdm import tqdm\n",
    "\n",
    "from causalpruner import best_device, get_causal_pruner, get_sgd_pruner\n",
    "from tests.models import get_model\n",
    "from tests.datasets import get_dataset"
   ]
  },
  {
   "cell_type": "code",
   "execution_count": 4,
   "id": "42069ec3",
   "metadata": {},
   "outputs": [
    {
     "name": "stdout",
     "output_type": "stream",
     "text": [
      "Files already downloaded and verified\n",
      "Data already transformed and saved\n",
      "Files already downloaded and verified\n",
      "Data already transformed and saved\n"
     ]
    }
   ],
   "source": [
    "root = '../data/'\n",
    "train, test = get_dataset('cifar10', root)\n",
    "\n",
    "batch_size = 4096\n",
    "num_workers = 2\n",
    "\n",
    "trainloader = DataLoader(\n",
    "    train, batch_size=batch_size, shuffle=True, pin_memory=True,\n",
    "    num_workers=num_workers)\n",
    "testloader = DataLoader(\n",
    "    test, batch_size=batch_size, shuffle=False, pin_memory=True,\n",
    "    num_workers=num_workers)"
   ]
  },
  {
   "cell_type": "code",
   "execution_count": 5,
   "id": "baa234d9",
   "metadata": {},
   "outputs": [],
   "source": [
    "def get_pruned_stats(model):\n",
    "    for (name, param) in model.named_buffers():\n",
    "        name = name.rstrip('.weight_mask')\n",
    "        non_zero = torch.count_nonzero(param)\n",
    "        total = torch.count_nonzero(torch.ones_like(param))\n",
    "        pruned = total - non_zero\n",
    "        frac = 100 * pruned / total\n",
    "        print(f'Name: {name}; Total: {\n",
    "            total}; non-zero: {non_zero}; pruned: {pruned}; percent: {frac:.4f}%')"
   ]
  },
  {
   "cell_type": "code",
   "execution_count": 6,
   "id": "6b46607a",
   "metadata": {},
   "outputs": [],
   "source": [
    "def eval_model(model, device=best_device()):\n",
    "    model.eval()\n",
    "    total = 0\n",
    "    correct = 0\n",
    "    with torch.no_grad():\n",
    "        for data in testloader:\n",
    "            inputs, labels = data\n",
    "            inputs, labels = inputs.to(device), labels.to(device)\n",
    "            total += labels.size(0)\n",
    "            outputs = model(inputs)\n",
    "            _, predicted = torch.max(outputs.data, 1)\n",
    "            correct += (predicted == labels).sum().item()\n",
    "    accuracy = correct / total\n",
    "    print(f'Accuracy: {accuracy}; Correct: {correct}; Total: {total}')"
   ]
  },
  {
   "cell_type": "markdown",
   "id": "6e1bf26b",
   "metadata": {},
   "source": [
    "# SGD CausalPruner without momentum"
   ]
  },
  {
   "cell_type": "code",
   "execution_count": 9,
   "id": "a5e14387",
   "metadata": {},
   "outputs": [],
   "source": [
    "momentum = 0\n",
    "pruner_lr = 1e-3\n",
    "prune_threshold = 1e-5\n",
    "l1_regularization_coeff = 5e-3\n",
    "checkpoint_dir = '../checkpoints'\n",
    "causal_weights_batch_size = 512\n",
    "causal_weights_num_epochs = 256\n",
    "device = best_device()\n",
    "\n",
    "num_pre_prune_epochs = 10\n",
    "num_prune_iterations = 10\n",
    "num_prune_epochs = 10\n",
    "num_post_prune_epochs = 100\n",
    "total_epochs = num_pre_prune_epochs + num_prune_iterations * num_prune_epochs + num_post_prune_epochs"
   ]
  },
  {
   "cell_type": "code",
   "execution_count": 11,
   "id": "7f381eb8",
   "metadata": {},
   "outputs": [
    {
     "name": "stderr",
     "output_type": "stream",
     "text": [
      " 50%|█████     | 4/8 [00:49<00:49, 12.35s/it]\n",
      "100%|██████████| 8/8 [00:13<00:00,  1.64s/it]\n"
     ]
    }
   ],
   "source": [
    "model1 = get_model('lenet', 'cifar10').to(device=device)\n",
    "optimizer1 = optim.SGD(model1.parameters(), lr=1e-3, momentum=momentum)\n",
    "\n",
    "cp1 = get_causal_pruner(model1,\n",
    "                        optimizer1,\n",
    "                        checkpoint_dir,\n",
    "                        momentum=False,\n",
    "                        pruner_lr=pruner_lr,\n",
    "                        prune_threshold=prune_threshold,\n",
    "                        l1_regularization_coeff=l1_regularization_coeff,\n",
    "                        causal_weights_batch_size=causal_weights_batch_size,\n",
    "                        causal_weights_num_epochs=causal_weights_num_epochs,\n",
    "                        start_clean=True,\n",
    "                        device=device)\n",
    "\n",
    "\n",
    "pbar = tqdm(total=total_epochs)\n",
    "for _ in range(num_pre_prune_epochs):\n",
    "    pbar.update(1)\n",
    "    model1.train()\n",
    "    for data in trainloader:\n",
    "        inputs, labels = data\n",
    "        inputs, labels = inputs.to(device), labels.to(device)\n",
    "        optimizer1.zero_grad()\n",
    "        outputs1 = model1(inputs)\n",
    "        loss1 = F.cross_entropy(outputs1, labels)\n",
    "        loss1.backward()\n",
    "        optimizer1.step()\n",
    "cp1.start_pruning()\n",
    "for _ in range(num_prune_iterations):\n",
    "    cp1.start_iteration()\n",
    "    for _ in range(num_prune_epochs):\n",
    "        pbar.update(1)\n",
    "        model1.train()\n",
    "        for data in trainloader:\n",
    "            inputs, labels = data\n",
    "            inputs, labels = inputs.to(device), labels.to(device)\n",
    "            optimizer1.zero_grad()\n",
    "            outputs1 = model1(inputs)\n",
    "            loss1 = F.cross_entropy(outputs1, labels)\n",
    "            cp1.provide_loss(loss1)\n",
    "            loss1.backward()\n",
    "            optimizer1.step()\n",
    "    cp1.compute_masks()\n",
    "    cp1.reset_weights()\n",
    "for _ in range(num_post_prune_epochs):\n",
    "    pbar.update(1)\n",
    "    model1.train()\n",
    "    for data in trainloader:\n",
    "        inputs, labels = data\n",
    "        inputs, labels = inputs.to(device), labels.to(device)\n",
    "        optimizer1.zero_grad()\n",
    "        outputs1 = model1(inputs)\n",
    "        loss1 = F.cross_entropy(outputs1, labels)\n",
    "        loss1.backward()\n",
    "        optimizer1.step()\n",
    "\n",
    "pbar.close()"
   ]
  },
  {
   "cell_type": "code",
   "execution_count": 12,
   "id": "3cc9c38b",
   "metadata": {},
   "outputs": [
    {
     "name": "stdout",
     "output_type": "stream",
     "text": [
      "Name: conv1; Total: 1500; non-zero: 1298; pruned: 202; percent: 13.4667%\n",
      "Name: conv2; Total: 25000; non-zero: 21847; pruned: 3153; percent: 12.6120%\n",
      "Name: fc1; Total: 625000; non-zero: 533455; pruned: 91545; percent: 14.6472%\n",
      "Name: fc2; Total: 5000; non-zero: 4374; pruned: 626; percent: 12.5200%\n"
     ]
    }
   ],
   "source": [
    "get_pruned_stats(model1)"
   ]
  },
  {
   "cell_type": "code",
   "execution_count": 9,
   "id": "cb7b5cff",
   "metadata": {},
   "outputs": [
    {
     "name": "stdout",
     "output_type": "stream",
     "text": [
      "Accuracy: 0.5014; Correct: 5014; Total: 10000\n"
     ]
    }
   ],
   "source": [
    "eval_model(model1)"
   ]
  },
  {
   "cell_type": "code",
   "execution_count": 10,
   "id": "5512c999",
   "metadata": {},
   "outputs": [
    {
     "name": "stderr",
     "output_type": "stream",
     "text": [
      "100%|██████████| 610/610 [13:44<00:00,  1.35s/it]\n"
     ]
    }
   ],
   "source": [
    "model2 = get_model('lenet', 'cifar10').to(device=device)\n",
    "optimizer2 = optim.SGD(model2.parameters(), lr=1e-3, momentum=momentum)\n",
    "\n",
    "pbar = tqdm(total=total_epochs)\n",
    "for _ in range(total_epochs):\n",
    "    pbar.update(1)\n",
    "    model2.train()\n",
    "    for data in trainloader:\n",
    "        inputs, labels = data\n",
    "        inputs, labels = inputs.to(device), labels.to(device)\n",
    "        optimizer2.zero_grad()\n",
    "        outputs2 = model2(inputs)\n",
    "        loss2 = F.cross_entropy(outputs2, labels)\n",
    "        loss2.backward()\n",
    "        optimizer2.step()\n",
    "\n",
    "pbar.close()"
   ]
  },
  {
   "cell_type": "code",
   "execution_count": 11,
   "id": "1e7b574b",
   "metadata": {},
   "outputs": [
    {
     "name": "stdout",
     "output_type": "stream",
     "text": [
      "Accuracy: 0.5372; Correct: 5372; Total: 10000\n"
     ]
    }
   ],
   "source": [
    "eval_model(model2)"
   ]
  },
  {
   "cell_type": "markdown",
   "id": "bee81bc4",
   "metadata": {},
   "source": [
    "# SGD CausalPruner with momentum"
   ]
  },
  {
   "cell_type": "code",
   "execution_count": 13,
   "id": "ac4c9d88",
   "metadata": {},
   "outputs": [],
   "source": [
    "momentum = 0.9\n",
    "pruner_lr = 1e-3\n",
    "prune_threshold = 1e-5\n",
    "l1_regularization_coeff = 5e-3\n",
    "checkpoint_dir = '../checkpoints'\n",
    "causal_weights_batch_size = 512\n",
    "causal_weights_num_epochs = 256\n",
    "device = best_device()\n",
    "\n",
    "num_pre_prune_epochs = 10\n",
    "num_prune_iterations = 10\n",
    "num_prune_epochs = 10\n",
    "num_post_prune_epochs = 100\n",
    "total_epochs = num_pre_prune_epochs + num_prune_iterations * num_prune_epochs + num_post_prune_epochs"
   ]
  },
  {
   "cell_type": "code",
   "execution_count": 14,
   "id": "807bb3e4",
   "metadata": {},
   "outputs": [
    {
     "name": "stderr",
     "output_type": "stream",
     "text": [
      "100%|██████████| 8/8 [00:14<00:00,  1.83s/it]\n"
     ]
    }
   ],
   "source": [
    "model1 = get_model('lenet', 'cifar10').to(device=device)\n",
    "\n",
    "pbar = tqdm(total=total_epochs)\n",
    "optimizer1 = optim.SGD(model1.parameters(), lr=1e-3, momentum=momentum)\n",
    "for _ in range(num_pre_prune_epochs):\n",
    "    pbar.update(1)\n",
    "    model1.train()\n",
    "    for data in trainloader:\n",
    "        inputs, labels = data\n",
    "        inputs, labels = inputs.to(device), labels.to(device)\n",
    "        optimizer1.zero_grad()\n",
    "        outputs1 = model1(inputs)\n",
    "        loss1 = F.cross_entropy(outputs1, labels)\n",
    "        loss1.backward()\n",
    "        optimizer1.step()\n",
    "\n",
    "cp1 = get_causal_pruner(model1,\n",
    "                        optimizer1,\n",
    "                        checkpoint_dir,\n",
    "                        momentum=True,\n",
    "                        pruner_lr=pruner_lr,\n",
    "                        prune_threshold=prune_threshold,\n",
    "                        l1_regularization_coeff=l1_regularization_coeff,\n",
    "                        causal_weights_batch_size=causal_weights_batch_size,\n",
    "                        causal_weights_num_epochs=causal_weights_num_epochs,\n",
    "                        start_clean=True,\n",
    "                        device=device)\n",
    "cp1.start_pruning()\n",
    "\n",
    "optim_dir = os.path.join(checkpoint_dir, 'optim.pth')\n",
    "torch.save(optimizer1.state_dict(), optim_dir)\n",
    "\n",
    "for _ in range(num_prune_iterations):\n",
    "    cp1.start_iteration()\n",
    "    for _ in range(num_prune_epochs):\n",
    "        pbar.update(1)\n",
    "        model1.train()\n",
    "        for data in trainloader:\n",
    "            inputs, labels = data\n",
    "            inputs, labels = inputs.to(device), labels.to(device)\n",
    "            optimizer1.zero_grad()\n",
    "            outputs1 = model1(inputs)\n",
    "            loss1 = F.cross_entropy(outputs1, labels)\n",
    "            cp1.provide_loss(loss1)\n",
    "            loss1.backward()\n",
    "            optimizer1.step()\n",
    "    cp1.compute_masks()\n",
    "    cp1.reset_weights()\n",
    "    optimizer1.load_state_dict(torch.load(optim_dir))\n",
    "\n",
    "for _ in range(num_post_prune_epochs):\n",
    "    pbar.update(1)\n",
    "    model1.train()\n",
    "    for data in trainloader:\n",
    "        inputs, labels = data\n",
    "        inputs, labels = inputs.to(device), labels.to(device)\n",
    "        optimizer1.zero_grad()\n",
    "        outputs1 = model1(inputs)\n",
    "        loss1 = F.cross_entropy(outputs1, labels)\n",
    "        loss1.backward()\n",
    "        optimizer1.step()\n",
    "\n",
    "pbar.close()"
   ]
  },
  {
   "cell_type": "code",
   "execution_count": 15,
   "id": "d502ca84",
   "metadata": {},
   "outputs": [
    {
     "name": "stdout",
     "output_type": "stream",
     "text": [
      "Name: conv1; Total: 1500; non-zero: 1497; pruned: 3; percent: 0.2000%\n",
      "Name: conv2; Total: 25000; non-zero: 24988; pruned: 12; percent: 0.0480%\n",
      "Name: fc1; Total: 625000; non-zero: 624347; pruned: 653; percent: 0.1045%\n",
      "Name: fc2; Total: 5000; non-zero: 4999; pruned: 1; percent: 0.0200%\n"
     ]
    }
   ],
   "source": [
    "get_pruned_stats(model1)"
   ]
  },
  {
   "cell_type": "code",
   "execution_count": 16,
   "id": "94202805",
   "metadata": {},
   "outputs": [
    {
     "name": "stdout",
     "output_type": "stream",
     "text": [
      "Accuracy: 0.2885; Correct: 2885; Total: 10000\n"
     ]
    }
   ],
   "source": [
    "eval_model(model1)"
   ]
  },
  {
   "cell_type": "code",
   "execution_count": 39,
   "id": "27cb023c",
   "metadata": {},
   "outputs": [
    {
     "name": "stderr",
     "output_type": "stream",
     "text": [
      "100%|██████████| 610/610 [12:48<00:00,  1.26s/it]\n"
     ]
    }
   ],
   "source": [
    "model2 = get_model('lenet', 'cifar10').to(device=device)\n",
    "optimizer2 = optim.SGD(model2.parameters(), lr=1e-3, momentum=momentum)\n",
    "\n",
    "pbar = tqdm(total=total_epochs)\n",
    "for _ in range(total_epochs):\n",
    "    pbar.update(1)\n",
    "    model2.train()\n",
    "    for data in trainloader:\n",
    "        inputs, labels = data\n",
    "        inputs, labels = inputs.to(device), labels.to(device)\n",
    "        optimizer2.zero_grad()\n",
    "        outputs2 = model2(inputs)\n",
    "        loss2 = F.cross_entropy(outputs2, labels)\n",
    "        loss2.backward()\n",
    "        optimizer2.step()\n",
    "\n",
    "pbar.close()"
   ]
  },
  {
   "cell_type": "code",
   "execution_count": 40,
   "id": "a8c3b3c1",
   "metadata": {},
   "outputs": [
    {
     "name": "stdout",
     "output_type": "stream",
     "text": [
      "Accuracy: 0.6369; Correct: 6369; Total: 10000\n"
     ]
    }
   ],
   "source": [
    "eval_model(model2)"
   ]
  },
  {
   "cell_type": "markdown",
   "id": "7fb95596",
   "metadata": {},
   "source": [
    "# SGD Pruner without momentum used with momentum"
   ]
  },
  {
   "cell_type": "code",
   "execution_count": 47,
   "id": "793dc776",
   "metadata": {},
   "outputs": [],
   "source": [
    "momentum = 0.9\n",
    "pruner_lr = 1e-3\n",
    "prune_threshold = 1e-5\n",
    "l1_regularization_coeff = 5e-3\n",
    "checkpoint_dir = '../checkpoints'\n",
    "causal_weights_batch_size = 512\n",
    "causal_weights_num_epochs = 256\n",
    "device = best_device()\n",
    "\n",
    "num_pre_prune_epochs = 10\n",
    "num_prune_iterations = 10\n",
    "num_prune_epochs = 10\n",
    "num_post_prune_epochs = 500\n",
    "\n",
    "total_epochs = num_pre_prune_epochs + num_prune_iterations * num_prune_epochs + num_post_prune_epochs"
   ]
  },
  {
   "cell_type": "code",
   "execution_count": 48,
   "id": "d0b3be96",
   "metadata": {},
   "outputs": [
    {
     "name": "stderr",
     "output_type": "stream",
     "text": [
      "  3%|▎         | 20/610 [00:25<13:10,  1.34s/it]"
     ]
    },
    {
     "ename": "FileNotFoundError",
     "evalue": "[Errno 2] No such file or directory: '../checkpoints/optim.pth'",
     "output_type": "error",
     "traceback": [
      "\u001b[0;31m---------------------------------------------------------------------------\u001b[0m",
      "\u001b[0;31mFileNotFoundError\u001b[0m                         Traceback (most recent call last)",
      "Cell \u001b[0;32mIn[48], line 48\u001b[0m\n\u001b[1;32m     46\u001b[0m     cp1\u001b[38;5;241m.\u001b[39mcompute_masks()\n\u001b[1;32m     47\u001b[0m     cp1\u001b[38;5;241m.\u001b[39mreset_weights()\n\u001b[0;32m---> 48\u001b[0m     optimizer1\u001b[38;5;241m.\u001b[39mload_state_dict(\u001b[43mtorch\u001b[49m\u001b[38;5;241;43m.\u001b[39;49m\u001b[43mload\u001b[49m\u001b[43m(\u001b[49m\u001b[43moptim_dir\u001b[49m\u001b[43m)\u001b[49m)\n\u001b[1;32m     50\u001b[0m \u001b[38;5;28;01mfor\u001b[39;00m _ \u001b[38;5;129;01min\u001b[39;00m \u001b[38;5;28mrange\u001b[39m(num_post_prune_epochs):\n\u001b[1;32m     51\u001b[0m     pbar\u001b[38;5;241m.\u001b[39mupdate(\u001b[38;5;241m1\u001b[39m)\n",
      "File \u001b[0;32m~/miniconda3/envs/cpn/lib/python3.12/site-packages/torch/serialization.py:997\u001b[0m, in \u001b[0;36mload\u001b[0;34m(f, map_location, pickle_module, weights_only, mmap, **pickle_load_args)\u001b[0m\n\u001b[1;32m    994\u001b[0m \u001b[38;5;28;01mif\u001b[39;00m \u001b[38;5;124m'\u001b[39m\u001b[38;5;124mencoding\u001b[39m\u001b[38;5;124m'\u001b[39m \u001b[38;5;129;01mnot\u001b[39;00m \u001b[38;5;129;01min\u001b[39;00m pickle_load_args\u001b[38;5;241m.\u001b[39mkeys():\n\u001b[1;32m    995\u001b[0m     pickle_load_args[\u001b[38;5;124m'\u001b[39m\u001b[38;5;124mencoding\u001b[39m\u001b[38;5;124m'\u001b[39m] \u001b[38;5;241m=\u001b[39m \u001b[38;5;124m'\u001b[39m\u001b[38;5;124mutf-8\u001b[39m\u001b[38;5;124m'\u001b[39m\n\u001b[0;32m--> 997\u001b[0m \u001b[38;5;28;01mwith\u001b[39;00m \u001b[43m_open_file_like\u001b[49m\u001b[43m(\u001b[49m\u001b[43mf\u001b[49m\u001b[43m,\u001b[49m\u001b[43m \u001b[49m\u001b[38;5;124;43m'\u001b[39;49m\u001b[38;5;124;43mrb\u001b[39;49m\u001b[38;5;124;43m'\u001b[39;49m\u001b[43m)\u001b[49m \u001b[38;5;28;01mas\u001b[39;00m opened_file:\n\u001b[1;32m    998\u001b[0m     \u001b[38;5;28;01mif\u001b[39;00m _is_zipfile(opened_file):\n\u001b[1;32m    999\u001b[0m         \u001b[38;5;66;03m# The zipfile reader is going to advance the current file position.\u001b[39;00m\n\u001b[1;32m   1000\u001b[0m         \u001b[38;5;66;03m# If we want to actually tail call to torch.jit.load, we need to\u001b[39;00m\n\u001b[1;32m   1001\u001b[0m         \u001b[38;5;66;03m# reset back to the original position.\u001b[39;00m\n\u001b[1;32m   1002\u001b[0m         orig_position \u001b[38;5;241m=\u001b[39m opened_file\u001b[38;5;241m.\u001b[39mtell()\n",
      "File \u001b[0;32m~/miniconda3/envs/cpn/lib/python3.12/site-packages/torch/serialization.py:444\u001b[0m, in \u001b[0;36m_open_file_like\u001b[0;34m(name_or_buffer, mode)\u001b[0m\n\u001b[1;32m    442\u001b[0m \u001b[38;5;28;01mdef\u001b[39;00m \u001b[38;5;21m_open_file_like\u001b[39m(name_or_buffer, mode):\n\u001b[1;32m    443\u001b[0m     \u001b[38;5;28;01mif\u001b[39;00m _is_path(name_or_buffer):\n\u001b[0;32m--> 444\u001b[0m         \u001b[38;5;28;01mreturn\u001b[39;00m \u001b[43m_open_file\u001b[49m\u001b[43m(\u001b[49m\u001b[43mname_or_buffer\u001b[49m\u001b[43m,\u001b[49m\u001b[43m \u001b[49m\u001b[43mmode\u001b[49m\u001b[43m)\u001b[49m\n\u001b[1;32m    445\u001b[0m     \u001b[38;5;28;01melse\u001b[39;00m:\n\u001b[1;32m    446\u001b[0m         \u001b[38;5;28;01mif\u001b[39;00m \u001b[38;5;124m'\u001b[39m\u001b[38;5;124mw\u001b[39m\u001b[38;5;124m'\u001b[39m \u001b[38;5;129;01min\u001b[39;00m mode:\n",
      "File \u001b[0;32m~/miniconda3/envs/cpn/lib/python3.12/site-packages/torch/serialization.py:425\u001b[0m, in \u001b[0;36m_open_file.__init__\u001b[0;34m(self, name, mode)\u001b[0m\n\u001b[1;32m    424\u001b[0m \u001b[38;5;28;01mdef\u001b[39;00m \u001b[38;5;21m__init__\u001b[39m(\u001b[38;5;28mself\u001b[39m, name, mode):\n\u001b[0;32m--> 425\u001b[0m     \u001b[38;5;28msuper\u001b[39m()\u001b[38;5;241m.\u001b[39m\u001b[38;5;21m__init__\u001b[39m(\u001b[38;5;28;43mopen\u001b[39;49m\u001b[43m(\u001b[49m\u001b[43mname\u001b[49m\u001b[43m,\u001b[49m\u001b[43m \u001b[49m\u001b[43mmode\u001b[49m\u001b[43m)\u001b[49m)\n",
      "\u001b[0;31mFileNotFoundError\u001b[0m: [Errno 2] No such file or directory: '../checkpoints/optim.pth'"
     ]
    }
   ],
   "source": [
    "model1 = get_model('lenet', 'cifar10').to(device=device)\n",
    "optimizer1 = optim.SGD(model1.parameters(), lr=1e-3, momentum=momentum)\n",
    "\n",
    "pbar = tqdm(total=total_epochs)\n",
    "for _ in range(num_pre_prune_epochs):\n",
    "    pbar.update(1)\n",
    "    model1.train()\n",
    "    for data in trainloader:\n",
    "        inputs, labels = data\n",
    "        inputs, labels = inputs.to(device), labels.to(device)\n",
    "        optimizer1.zero_grad()\n",
    "        outputs1 = model1(inputs)\n",
    "        loss1 = F.cross_entropy(outputs1, labels)\n",
    "        loss1.backward()\n",
    "        optimizer1.step()\n",
    "\n",
    "cp1 = get_causal_pruner(model1,\n",
    "                        optimizer1,\n",
    "                        checkpoint_dir,\n",
    "                        momentum=False,\n",
    "                        pruner_lr=pruner_lr,\n",
    "                        prune_threshold=prune_threshold,\n",
    "                        l1_regularization_coeff=l1_regularization_coeff,\n",
    "                        causal_weights_batch_size=causal_weights_batch_size,\n",
    "                        causal_weights_num_epochs=causal_weights_num_epochs,\n",
    "                        start_clean=True,\n",
    "                        device=device)\n",
    "cp1.start_pruning()\n",
    "\n",
    "optim_dir = os.path.join(checkpoint_dir, 'optim.pth')\n",
    "torch.save(optimizer1.state_dict(), optim_dir)\n",
    "\n",
    "for _ in range(num_prune_iterations):\n",
    "    cp1.start_iteration()\n",
    "    for _ in range(num_prune_epochs):\n",
    "        pbar.update(1)\n",
    "        model1.train()\n",
    "        for data in trainloader:\n",
    "            inputs, labels = data\n",
    "            inputs, labels = inputs.to(device), labels.to(device)\n",
    "            optimizer1.zero_grad()\n",
    "            outputs1 = model1(inputs)\n",
    "            loss1 = F.cross_entropy(outputs1, labels)\n",
    "            cp1.provide_loss(loss1)\n",
    "            loss1.backward()\n",
    "            optimizer1.step()\n",
    "    cp1.compute_masks()\n",
    "    cp1.reset_weights()\n",
    "    optimizer1.load_state_dict(torch.load(optim_dir))\n",
    "\n",
    "for _ in range(num_post_prune_epochs):\n",
    "    pbar.update(1)\n",
    "    model1.train()\n",
    "    for data in trainloader:\n",
    "        inputs, labels = data\n",
    "        inputs, labels = inputs.to(device), labels.to(device)\n",
    "        optimizer1.zero_grad()\n",
    "        outputs1 = model1(inputs)\n",
    "        loss1 = F.cross_entropy(outputs1, labels)\n",
    "        loss1.backward()\n",
    "        optimizer1.step()\n",
    "\n",
    "pbar.close()"
   ]
  },
  {
   "cell_type": "code",
   "execution_count": null,
   "id": "40b745be",
   "metadata": {},
   "outputs": [
    {
     "name": "stdout",
     "output_type": "stream",
     "text": [
      "Name: conv1; Total: 1500; non-zero: 873; pruned: 627; percent: 41.8000%\n",
      "Name: conv2; Total: 25000; non-zero: 15118; pruned: 9882; percent: 39.5280%\n",
      "Name: fc1; Total: 625000; non-zero: 390927; pruned: 234073; percent: 37.4517%\n",
      "Name: fc2; Total: 5000; non-zero: 2957; pruned: 2043; percent: 40.8600%\n"
     ]
    }
   ],
   "source": [
    "get_pruned_stats(model1)"
   ]
  },
  {
   "cell_type": "code",
   "execution_count": null,
   "id": "ee28f751",
   "metadata": {},
   "outputs": [
    {
     "name": "stdout",
     "output_type": "stream",
     "text": [
      "Accuracy: 0.6437; Correct: 6437; Total: 10000\n"
     ]
    }
   ],
   "source": [
    "eval_model(model1)"
   ]
  },
  {
   "cell_type": "code",
   "execution_count": null,
   "id": "425a753b",
   "metadata": {},
   "outputs": [
    {
     "name": "stderr",
     "output_type": "stream",
     "text": [
      "100%|██████████| 610/610 [12:58<00:00,  1.28s/it]\n"
     ]
    }
   ],
   "source": [
    "model2 = get_model('lenet', 'cifar10').to(device=device)\n",
    "optimizer2 = optim.SGD(model2.parameters(), lr=1e-3, momentum=momentum)\n",
    "\n",
    "pbar = tqdm(total=total_epochs)\n",
    "for _ in range(total_epochs):\n",
    "    pbar.update(1)\n",
    "    model2.train()\n",
    "    for data in trainloader:\n",
    "        inputs, labels = data\n",
    "        inputs, labels = inputs.to(device), labels.to(device)\n",
    "        optimizer2.zero_grad()\n",
    "        outputs2 = model2(inputs)\n",
    "        loss2 = F.cross_entropy(outputs2, labels)\n",
    "        loss2.backward()\n",
    "        optimizer2.step()\n",
    "\n",
    "pbar.close()"
   ]
  },
  {
   "cell_type": "code",
   "execution_count": null,
   "id": "cfc09c8e",
   "metadata": {},
   "outputs": [
    {
     "name": "stdout",
     "output_type": "stream",
     "text": [
      "Accuracy: 0.6396; Correct: 6396; Total: 10000\n"
     ]
    }
   ],
   "source": [
    "eval_model(model2)"
   ]
  }
 ],
 "metadata": {
  "kernelspec": {
   "display_name": "Python 3 (ipykernel)",
   "language": "python",
   "name": "python3"
  },
  "language_info": {
   "codemirror_mode": {
    "name": "ipython",
    "version": 3
   },
   "file_extension": ".py",
   "mimetype": "text/x-python",
   "name": "python",
   "nbconvert_exporter": "python",
   "pygments_lexer": "ipython3",
   "version": "3.12.3"
  }
 },
 "nbformat": 4,
 "nbformat_minor": 5
}
