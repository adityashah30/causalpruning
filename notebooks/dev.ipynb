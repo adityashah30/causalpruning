{
 "cells": [
  {
   "cell_type": "code",
   "execution_count": 1,
   "id": "7a49375a",
   "metadata": {},
   "outputs": [],
   "source": [
    "%load_ext autoreload\n",
    "%autoreload 2\n",
    "import os\n",
    "import sys\n",
    "module_path = os.path.abspath(os.path.join('../'))\n",
    "sys.path.insert(0, module_path)"
   ]
  },
  {
   "cell_type": "code",
   "execution_count": 2,
   "id": "fffecb17-fa95-44d8-bd3b-b095d0e04fe4",
   "metadata": {},
   "outputs": [],
   "source": [
    "import torch\n",
    "import torch.nn.functional as F\n",
    "import torch.optim as optim\n",
    "from torch.utils.data import DataLoader\n",
    "from tqdm import tqdm\n",
    "\n",
    "from causalpruner import best_device, get_causal_pruner, get_sgd_pruner\n",
    "from tests.models import get_model\n",
    "from tests.datasets import get_dataset\n",
    "from tests.pruner.mag_pruner import MagPruner"
   ]
  },
  {
   "cell_type": "code",
   "execution_count": 20,
   "id": "42069ec3",
   "metadata": {},
   "outputs": [
    {
     "name": "stdout",
     "output_type": "stream",
     "text": [
      "Files already downloaded and verified\n",
      "Data already transformed and saved\n",
      "Files already downloaded and verified\n",
      "Data already transformed and saved\n"
     ]
    }
   ],
   "source": [
    "root = '../data/'\n",
    "train, test = get_dataset('cifar10', root)\n",
    "\n",
    "batch_size = 4096\n",
    "num_workers = 2\n",
    "\n",
    "trainloader = DataLoader(\n",
    "    train, batch_size=batch_size, shuffle=True, pin_memory=True,\n",
    "    num_workers=num_workers, persistent_workers=True)\n",
    "testloader = DataLoader(\n",
    "    test, batch_size=batch_size, shuffle=False, pin_memory=True,\n",
    "    num_workers=num_workers, persistent_workers=True)"
   ]
  },
  {
   "cell_type": "code",
   "execution_count": 4,
   "id": "baa234d9",
   "metadata": {},
   "outputs": [],
   "source": [
    "def get_pruned_stats(model):\n",
    "    for (name, param) in model.named_buffers():\n",
    "        name = name.rstrip('.weight_mask')\n",
    "        non_zero = torch.count_nonzero(param)\n",
    "        total = torch.count_nonzero(torch.ones_like(param))\n",
    "        pruned = total - non_zero\n",
    "        frac = 100 * pruned / total\n",
    "        print(f'Name: {name}; Total: {\n",
    "            total}; non-zero: {non_zero}; pruned: {pruned}; percent: {frac:.4f}%')"
   ]
  },
  {
   "cell_type": "code",
   "execution_count": 5,
   "id": "6b46607a",
   "metadata": {},
   "outputs": [],
   "source": [
    "def eval_model(model, device=best_device()):\n",
    "    model.eval()\n",
    "    total = 0\n",
    "    correct = 0\n",
    "    with torch.no_grad():\n",
    "        for data in testloader:\n",
    "            inputs, labels = data\n",
    "            inputs, labels = inputs.to(device), labels.to(device)\n",
    "            total += labels.size(0)\n",
    "            outputs = model(inputs)\n",
    "            _, predicted = torch.max(outputs.data, 1)\n",
    "            correct += (predicted == labels).sum().item()\n",
    "    accuracy = correct / total\n",
    "    print(f'Accuracy: {accuracy}; Correct: {correct}; Total: {total}')"
   ]
  },
  {
   "cell_type": "markdown",
   "id": "6e1bf26b",
   "metadata": {},
   "source": [
    "# SGD CausalPruner without momentum"
   ]
  },
  {
   "cell_type": "code",
   "execution_count": 7,
   "id": "a5e14387",
   "metadata": {},
   "outputs": [],
   "source": [
    "momentum = 0\n",
    "pruner_lr = 1e-3\n",
    "prune_threshold = 1e-5\n",
    "l1_regularization_coeff = 5e-3\n",
    "checkpoint_dir = '../checkpoints'\n",
    "causal_weights_batch_size = 512\n",
    "causal_weights_num_epochs = 256\n",
    "device = best_device()\n",
    "\n",
    "num_pre_prune_epochs = 10\n",
    "num_prune_iterations = 10\n",
    "num_prune_epochs = 10\n",
    "num_post_prune_epochs = 100\n",
    "total_epochs = num_pre_prune_epochs + num_prune_iterations * num_prune_epochs + num_post_prune_epochs"
   ]
  },
  {
   "cell_type": "code",
   "execution_count": 8,
   "id": "7f381eb8",
   "metadata": {},
   "outputs": [
    {
     "name": "stderr",
     "output_type": "stream",
     "text": [
      "100%|██████████| 210/210 [05:17<00:00,  1.51s/it]\n"
     ]
    }
   ],
   "source": [
    "model1 = get_model('lenet', 'cifar10').to(device=device)\n",
    "optimizer1 = optim.SGD(model1.parameters(), lr=1e-3, momentum=momentum)\n",
    "\n",
    "cp1 = get_causal_pruner(model1,\n",
    "                        optimizer1,\n",
    "                        checkpoint_dir,\n",
    "                        momentum=False,\n",
    "                        pruner_lr=pruner_lr,\n",
    "                        prune_threshold=prune_threshold,\n",
    "                        l1_regularization_coeff=l1_regularization_coeff,\n",
    "                        causal_weights_batch_size=causal_weights_batch_size,\n",
    "                        causal_weights_num_epochs=causal_weights_num_epochs,\n",
    "                        start_clean=True,\n",
    "                        device=device)\n",
    "\n",
    "\n",
    "pbar = tqdm(total=total_epochs)\n",
    "for _ in range(num_pre_prune_epochs):\n",
    "    pbar.update(1)\n",
    "    model1.train()\n",
    "    for data in trainloader:\n",
    "        inputs, labels = data\n",
    "        inputs, labels = inputs.to(device), labels.to(device)\n",
    "        optimizer1.zero_grad()\n",
    "        outputs1 = model1(inputs)\n",
    "        loss1 = F.cross_entropy(outputs1, labels)\n",
    "        loss1.backward()\n",
    "        optimizer1.step()\n",
    "cp1.start_pruning()\n",
    "for _ in range(num_prune_iterations):\n",
    "    cp1.start_iteration()\n",
    "    for _ in range(num_prune_epochs):\n",
    "        pbar.update(1)\n",
    "        model1.train()\n",
    "        for data in trainloader:\n",
    "            inputs, labels = data\n",
    "            inputs, labels = inputs.to(device), labels.to(device)\n",
    "            optimizer1.zero_grad()\n",
    "            outputs1 = model1(inputs)\n",
    "            loss1 = F.cross_entropy(outputs1, labels)\n",
    "            cp1.provide_loss(loss1)\n",
    "            loss1.backward()\n",
    "            optimizer1.step()\n",
    "    cp1.compute_masks()\n",
    "    cp1.reset_weights()\n",
    "for _ in range(num_post_prune_epochs):\n",
    "    pbar.update(1)\n",
    "    model1.train()\n",
    "    for data in trainloader:\n",
    "        inputs, labels = data\n",
    "        inputs, labels = inputs.to(device), labels.to(device)\n",
    "        optimizer1.zero_grad()\n",
    "        outputs1 = model1(inputs)\n",
    "        loss1 = F.cross_entropy(outputs1, labels)\n",
    "        loss1.backward()\n",
    "        optimizer1.step()\n",
    "\n",
    "pbar.close()"
   ]
  },
  {
   "cell_type": "code",
   "execution_count": 9,
   "id": "3cc9c38b",
   "metadata": {},
   "outputs": [
    {
     "name": "stdout",
     "output_type": "stream",
     "text": [
      "Name: conv1; Total: 1500; non-zero: 866; pruned: 634; percent: 42.2667%\n",
      "Name: conv2; Total: 25000; non-zero: 15209; pruned: 9791; percent: 39.1640%\n",
      "Name: fc1; Total: 625000; non-zero: 390858; pruned: 234142; percent: 37.4627%\n",
      "Name: fc2; Total: 5000; non-zero: 2948; pruned: 2052; percent: 41.0400%\n"
     ]
    }
   ],
   "source": [
    "get_pruned_stats(model1)"
   ]
  },
  {
   "cell_type": "code",
   "execution_count": 10,
   "id": "cb7b5cff",
   "metadata": {},
   "outputs": [
    {
     "name": "stdout",
     "output_type": "stream",
     "text": [
      "Accuracy: 0.3952; Correct: 3952; Total: 10000\n"
     ]
    }
   ],
   "source": [
    "eval_model(model1)"
   ]
  },
  {
   "cell_type": "code",
   "execution_count": 22,
   "id": "5512c999",
   "metadata": {},
   "outputs": [
    {
     "name": "stderr",
     "output_type": "stream",
     "text": [
      "  1%|          | 2/210 [00:01<02:09,  1.60it/s]Exception ignored in: Exception ignored in: <function _MultiProcessingDataLoaderIter.__del__ at 0x76fc560a6700><function _MultiProcessingDataLoaderIter.__del__ at 0x76fc560a6700>\n",
      "\n",
      "Traceback (most recent call last):\n",
      "Traceback (most recent call last):\n",
      "  File \"/home/aditya/miniconda3/envs/cpn/lib/python3.12/site-packages/torch/utils/data/dataloader.py\", line 1479, in __del__\n",
      "  File \"/home/aditya/miniconda3/envs/cpn/lib/python3.12/site-packages/torch/utils/data/dataloader.py\", line 1479, in __del__\n",
      "        self._shutdown_workers()self._shutdown_workers()\n",
      "\n",
      "  File \"/home/aditya/miniconda3/envs/cpn/lib/python3.12/site-packages/torch/utils/data/dataloader.py\", line 1462, in _shutdown_workers\n",
      "  File \"/home/aditya/miniconda3/envs/cpn/lib/python3.12/site-packages/torch/utils/data/dataloader.py\", line 1462, in _shutdown_workers\n",
      "        if w.is_alive():if w.is_alive():\n",
      "\n",
      "              ^^^^^^^^^^^^^^^^^^^^^^^^\n",
      "\n",
      "  File \"/home/aditya/miniconda3/envs/cpn/lib/python3.12/multiprocessing/process.py\", line 160, in is_alive\n",
      "  File \"/home/aditya/miniconda3/envs/cpn/lib/python3.12/multiprocessing/process.py\", line 160, in is_alive\n",
      "        assert self._parent_pid == os.getpid(), 'can only test a child process'assert self._parent_pid == os.getpid(), 'can only test a child process'\n",
      "\n",
      "                      ^^^^^^^^^^^^^^^^^^^^^^^^^^^^^^^^^^^^^^^^^^^^^^^^^^^^^^^^^^^^^^\n",
      "\n",
      "AssertionErrorAssertionError: : can only test a child processcan only test a child process\n",
      "\n",
      "100%|██████████| 210/210 [04:07<00:00,  1.18s/it]\n"
     ]
    }
   ],
   "source": [
    "model2 = get_model('lenet', 'cifar10').to(device=device)\n",
    "optimizer2 = optim.SGD(model2.parameters(), lr=1e-3, momentum=momentum)\n",
    "\n",
    "pbar = tqdm(total=total_epochs)\n",
    "for _ in range(total_epochs):\n",
    "    pbar.update(1)\n",
    "    model2.train()\n",
    "    for data in trainloader:\n",
    "        inputs, labels = data\n",
    "        inputs, labels = inputs.to(device), labels.to(device)\n",
    "        optimizer2.zero_grad()\n",
    "        outputs2 = model2(inputs)\n",
    "        loss2 = F.cross_entropy(outputs2, labels)\n",
    "        loss2.backward()\n",
    "        optimizer2.step()\n",
    "\n",
    "pbar.close()"
   ]
  },
  {
   "cell_type": "code",
   "execution_count": 23,
   "id": "1e7b574b",
   "metadata": {},
   "outputs": [
    {
     "name": "stdout",
     "output_type": "stream",
     "text": [
      "Accuracy: 0.4311; Correct: 4311; Total: 10000\n"
     ]
    }
   ],
   "source": [
    "eval_model(model2)"
   ]
  },
  {
   "cell_type": "code",
   "execution_count": 30,
   "id": "d3419e93",
   "metadata": {},
   "outputs": [],
   "source": [
    "mp1 = MagPruner(model2, amount=0.4)"
   ]
  },
  {
   "cell_type": "code",
   "execution_count": 31,
   "id": "31c90c6e",
   "metadata": {},
   "outputs": [],
   "source": [
    "mp1.compute_masks()"
   ]
  },
  {
   "cell_type": "code",
   "execution_count": 32,
   "id": "4567dd05",
   "metadata": {},
   "outputs": [
    {
     "name": "stdout",
     "output_type": "stream",
     "text": [
      "Name: conv1; Total: 1500; non-zero: 839; pruned: 661; percent: 44.0667%\n",
      "Name: conv2; Total: 25000; non-zero: 10348; pruned: 14652; percent: 58.6080%\n",
      "Name: fc1; Total: 625000; non-zero: 378021; pruned: 246979; percent: 39.5166%\n",
      "Name: fc2; Total: 5000; non-zero: 4692; pruned: 308; percent: 6.1600%\n"
     ]
    }
   ],
   "source": [
    "get_pruned_stats(model2)"
   ]
  },
  {
   "cell_type": "code",
   "execution_count": 33,
   "id": "82c7830e",
   "metadata": {},
   "outputs": [
    {
     "name": "stdout",
     "output_type": "stream",
     "text": [
      "Accuracy: 0.3198; Correct: 3198; Total: 10000\n"
     ]
    }
   ],
   "source": [
    "eval_model(model2)"
   ]
  },
  {
   "cell_type": "code",
   "execution_count": 39,
   "id": "40e9c5ed",
   "metadata": {},
   "outputs": [],
   "source": [
    "import torch.nn.utils.prune as prune\n",
    "from causalpruner import Pruner\n",
    "\n",
    "model = get_model('lenet', 'cifar10')\n",
    "\n",
    "parameters_to_prune = []\n",
    "for name, module in model.named_children():\n",
    "    if hasattr(module, 'weight'):\n",
    "        parameters_to_prune.append((module, 'weight'))"
   ]
  },
  {
   "cell_type": "code",
   "execution_count": 40,
   "id": "f04454c5",
   "metadata": {},
   "outputs": [],
   "source": [
    "prune.global_unstructured(\n",
    "    parameters_to_prune, pruning_method=prune.L1Unstructured, amount=0.4)"
   ]
  },
  {
   "cell_type": "code",
   "execution_count": 41,
   "id": "14929c19",
   "metadata": {},
   "outputs": [
    {
     "name": "stdout",
     "output_type": "stream",
     "text": [
      "Name: conv1; Total: 1500; non-zero: 891; pruned: 609; percent: 40.6000%\n",
      "Name: conv2; Total: 25000; non-zero: 10404; pruned: 14596; percent: 58.3840%\n",
      "Name: fc1; Total: 625000; non-zero: 377911; pruned: 247089; percent: 39.5342%\n",
      "Name: fc2; Total: 5000; non-zero: 4694; pruned: 306; percent: 6.1200%\n"
     ]
    }
   ],
   "source": [
    "get_pruned_stats(model)"
   ]
  },
  {
   "cell_type": "markdown",
   "id": "bee81bc4",
   "metadata": {},
   "source": [
    "# SGD CausalPruner with momentum"
   ]
  },
  {
   "cell_type": "code",
   "execution_count": 12,
   "id": "ac4c9d88",
   "metadata": {},
   "outputs": [],
   "source": [
    "momentum = 0.9\n",
    "pruner_lr = 1e-3\n",
    "prune_threshold = 1e-5\n",
    "l1_regularization_coeff = 5e-3\n",
    "checkpoint_dir = '../checkpoints'\n",
    "causal_weights_batch_size = 512\n",
    "causal_weights_num_epochs = 256\n",
    "device = best_device()\n",
    "\n",
    "num_pre_prune_epochs = 10\n",
    "num_prune_iterations = 10\n",
    "num_prune_epochs = 10\n",
    "num_post_prune_epochs = 500\n",
    "total_epochs = num_pre_prune_epochs + num_prune_iterations * num_prune_epochs + num_post_prune_epochs"
   ]
  },
  {
   "cell_type": "code",
   "execution_count": 13,
   "id": "807bb3e4",
   "metadata": {},
   "outputs": [
    {
     "name": "stderr",
     "output_type": "stream",
     "text": [
      " 78%|███████▊  | 474/610 [11:28<02:58,  1.31s/it]"
     ]
    },
    {
     "ename": "KeyboardInterrupt",
     "evalue": "",
     "output_type": "error",
     "traceback": [
      "\u001b[0;31m---------------------------------------------------------------------------\u001b[0m",
      "\u001b[0;31mKeyboardInterrupt\u001b[0m                         Traceback (most recent call last)",
      "Cell \u001b[0;32mIn[13], line 56\u001b[0m\n\u001b[1;32m     54\u001b[0m \u001b[38;5;28;01mfor\u001b[39;00m data \u001b[38;5;129;01min\u001b[39;00m trainloader:\n\u001b[1;32m     55\u001b[0m     inputs, labels \u001b[38;5;241m=\u001b[39m data\n\u001b[0;32m---> 56\u001b[0m     inputs, labels \u001b[38;5;241m=\u001b[39m \u001b[43minputs\u001b[49m\u001b[38;5;241;43m.\u001b[39;49m\u001b[43mto\u001b[49m\u001b[43m(\u001b[49m\u001b[43mdevice\u001b[49m\u001b[43m)\u001b[49m, labels\u001b[38;5;241m.\u001b[39mto(device)\n\u001b[1;32m     57\u001b[0m     optimizer1\u001b[38;5;241m.\u001b[39mzero_grad()\n\u001b[1;32m     58\u001b[0m     outputs1 \u001b[38;5;241m=\u001b[39m model1(inputs)\n",
      "\u001b[0;31mKeyboardInterrupt\u001b[0m: "
     ]
    }
   ],
   "source": [
    "model1 = get_model('lenet', 'cifar10').to(device=device)\n",
    "\n",
    "pbar = tqdm(total=total_epochs)\n",
    "optimizer1 = optim.SGD(model1.parameters(), lr=1e-3, momentum=momentum)\n",
    "for _ in range(num_pre_prune_epochs):\n",
    "    pbar.update(1)\n",
    "    model1.train()\n",
    "    for data in trainloader:\n",
    "        inputs, labels = data\n",
    "        inputs, labels = inputs.to(device), labels.to(device)\n",
    "        optimizer1.zero_grad()\n",
    "        outputs1 = model1(inputs)\n",
    "        loss1 = F.cross_entropy(outputs1, labels)\n",
    "        loss1.backward()\n",
    "        optimizer1.step()\n",
    "\n",
    "cp1 = get_causal_pruner(model1,\n",
    "                        optimizer1,\n",
    "                        checkpoint_dir,\n",
    "                        momentum=True,\n",
    "                        pruner_lr=pruner_lr,\n",
    "                        prune_threshold=prune_threshold,\n",
    "                        l1_regularization_coeff=l1_regularization_coeff,\n",
    "                        causal_weights_batch_size=causal_weights_batch_size,\n",
    "                        causal_weights_num_epochs=causal_weights_num_epochs,\n",
    "                        start_clean=True,\n",
    "                        device=device)\n",
    "cp1.start_pruning()\n",
    "\n",
    "optim_dir = os.path.join(checkpoint_dir, 'optim.pth')\n",
    "torch.save(optimizer1.state_dict(), optim_dir)\n",
    "\n",
    "for _ in range(num_prune_iterations):\n",
    "    cp1.start_iteration()\n",
    "    for _ in range(num_prune_epochs):\n",
    "        pbar.update(1)\n",
    "        model1.train()\n",
    "        for data in trainloader:\n",
    "            inputs, labels = data\n",
    "            inputs, labels = inputs.to(device), labels.to(device)\n",
    "            optimizer1.zero_grad()\n",
    "            outputs1 = model1(inputs)\n",
    "            loss1 = F.cross_entropy(outputs1, labels)\n",
    "            cp1.provide_loss(loss1)\n",
    "            loss1.backward()\n",
    "            optimizer1.step()\n",
    "    cp1.compute_masks()\n",
    "    cp1.reset_weights()\n",
    "    optimizer1.load_state_dict(torch.load(optim_dir))\n",
    "\n",
    "for _ in range(num_post_prune_epochs):\n",
    "    pbar.update(1)\n",
    "    model1.train()\n",
    "    for data in trainloader:\n",
    "        inputs, labels = data\n",
    "        inputs, labels = inputs.to(device), labels.to(device)\n",
    "        optimizer1.zero_grad()\n",
    "        outputs1 = model1(inputs)\n",
    "        loss1 = F.cross_entropy(outputs1, labels)\n",
    "        loss1.backward()\n",
    "        optimizer1.step()\n",
    "\n",
    "pbar.close()"
   ]
  },
  {
   "cell_type": "code",
   "execution_count": null,
   "id": "d502ca84",
   "metadata": {},
   "outputs": [],
   "source": [
    "get_pruned_stats(model1)"
   ]
  },
  {
   "cell_type": "code",
   "execution_count": null,
   "id": "94202805",
   "metadata": {},
   "outputs": [],
   "source": [
    "eval_model(model1)"
   ]
  },
  {
   "cell_type": "code",
   "execution_count": null,
   "id": "27cb023c",
   "metadata": {},
   "outputs": [],
   "source": [
    "model2 = get_model('lenet', 'cifar10').to(device=device)\n",
    "optimizer2 = optim.SGD(model2.parameters(), lr=1e-3, momentum=momentum)\n",
    "\n",
    "pbar = tqdm(total=total_epochs)\n",
    "for _ in range(total_epochs):\n",
    "    pbar.update(1)\n",
    "    model2.train()\n",
    "    for data in trainloader:\n",
    "        inputs, labels = data\n",
    "        inputs, labels = inputs.to(device), labels.to(device)\n",
    "        optimizer2.zero_grad()\n",
    "        outputs2 = model2(inputs)\n",
    "        loss2 = F.cross_entropy(outputs2, labels)\n",
    "        loss2.backward()\n",
    "        optimizer2.step()\n",
    "\n",
    "pbar.close()"
   ]
  },
  {
   "cell_type": "code",
   "execution_count": null,
   "id": "a8c3b3c1",
   "metadata": {},
   "outputs": [],
   "source": [
    "eval_model(model2)"
   ]
  },
  {
   "cell_type": "markdown",
   "id": "7fb95596",
   "metadata": {},
   "source": [
    "# SGD Pruner without momentum used with momentum"
   ]
  },
  {
   "cell_type": "code",
   "execution_count": null,
   "id": "793dc776",
   "metadata": {},
   "outputs": [],
   "source": [
    "momentum = 0.9\n",
    "pruner_lr = 1e-3\n",
    "prune_threshold = 1e-5\n",
    "l1_regularization_coeff = 5e-3\n",
    "checkpoint_dir = '../checkpoints'\n",
    "causal_weights_batch_size = 512\n",
    "causal_weights_num_epochs = 256\n",
    "device = best_device()\n",
    "\n",
    "num_pre_prune_epochs = 10\n",
    "num_prune_iterations = 10\n",
    "num_prune_epochs = 10\n",
    "num_post_prune_epochs = 500\n",
    "\n",
    "total_epochs = num_pre_prune_epochs + num_prune_iterations * num_prune_epochs + num_post_prune_epochs"
   ]
  },
  {
   "cell_type": "code",
   "execution_count": null,
   "id": "d0b3be96",
   "metadata": {},
   "outputs": [],
   "source": [
    "model1 = get_model('lenet', 'cifar10').to(device=device)\n",
    "optimizer1 = optim.SGD(model1.parameters(), lr=1e-3, momentum=momentum)\n",
    "\n",
    "pbar = tqdm(total=total_epochs)\n",
    "for _ in range(num_pre_prune_epochs):\n",
    "    pbar.update(1)\n",
    "    model1.train()\n",
    "    for data in trainloader:\n",
    "        inputs, labels = data\n",
    "        inputs, labels = inputs.to(device), labels.to(device)\n",
    "        optimizer1.zero_grad()\n",
    "        outputs1 = model1(inputs)\n",
    "        loss1 = F.cross_entropy(outputs1, labels)\n",
    "        loss1.backward()\n",
    "        optimizer1.step()\n",
    "\n",
    "cp1 = get_causal_pruner(model1,\n",
    "                        optimizer1,\n",
    "                        checkpoint_dir,\n",
    "                        momentum=False,\n",
    "                        pruner_lr=pruner_lr,\n",
    "                        prune_threshold=prune_threshold,\n",
    "                        l1_regularization_coeff=l1_regularization_coeff,\n",
    "                        causal_weights_batch_size=causal_weights_batch_size,\n",
    "                        causal_weights_num_epochs=causal_weights_num_epochs,\n",
    "                        start_clean=True,\n",
    "                        device=device)\n",
    "cp1.start_pruning()\n",
    "\n",
    "optim_dir = os.path.join(checkpoint_dir, 'optim.pth')\n",
    "torch.save(optimizer1.state_dict(), optim_dir)\n",
    "\n",
    "for _ in range(num_prune_iterations):\n",
    "    cp1.start_iteration()\n",
    "    for _ in range(num_prune_epochs):\n",
    "        pbar.update(1)\n",
    "        model1.train()\n",
    "        for data in trainloader:\n",
    "            inputs, labels = data\n",
    "            inputs, labels = inputs.to(device), labels.to(device)\n",
    "            optimizer1.zero_grad()\n",
    "            outputs1 = model1(inputs)\n",
    "            loss1 = F.cross_entropy(outputs1, labels)\n",
    "            cp1.provide_loss(loss1)\n",
    "            loss1.backward()\n",
    "            optimizer1.step()\n",
    "    cp1.compute_masks()\n",
    "    cp1.reset_weights()\n",
    "    optimizer1.load_state_dict(torch.load(optim_dir))\n",
    "\n",
    "for _ in range(num_post_prune_epochs):\n",
    "    pbar.update(1)\n",
    "    model1.train()\n",
    "    for data in trainloader:\n",
    "        inputs, labels = data\n",
    "        inputs, labels = inputs.to(device), labels.to(device)\n",
    "        optimizer1.zero_grad()\n",
    "        outputs1 = model1(inputs)\n",
    "        loss1 = F.cross_entropy(outputs1, labels)\n",
    "        loss1.backward()\n",
    "        optimizer1.step()\n",
    "\n",
    "pbar.close()"
   ]
  },
  {
   "cell_type": "code",
   "execution_count": null,
   "id": "40b745be",
   "metadata": {},
   "outputs": [],
   "source": [
    "get_pruned_stats(model1)"
   ]
  },
  {
   "cell_type": "code",
   "execution_count": null,
   "id": "ee28f751",
   "metadata": {},
   "outputs": [],
   "source": [
    "eval_model(model1)"
   ]
  },
  {
   "cell_type": "code",
   "execution_count": null,
   "id": "425a753b",
   "metadata": {},
   "outputs": [],
   "source": [
    "model2 = get_model('lenet', 'cifar10').to(device=device)\n",
    "optimizer2 = optim.SGD(model2.parameters(), lr=1e-3, momentum=momentum)\n",
    "\n",
    "pbar = tqdm(total=total_epochs)\n",
    "for _ in range(total_epochs):\n",
    "    pbar.update(1)\n",
    "    model2.train()\n",
    "    for data in trainloader:\n",
    "        inputs, labels = data\n",
    "        inputs, labels = inputs.to(device), labels.to(device)\n",
    "        optimizer2.zero_grad()\n",
    "        outputs2 = model2(inputs)\n",
    "        loss2 = F.cross_entropy(outputs2, labels)\n",
    "        loss2.backward()\n",
    "        optimizer2.step()\n",
    "\n",
    "pbar.close()"
   ]
  },
  {
   "cell_type": "code",
   "execution_count": null,
   "id": "cfc09c8e",
   "metadata": {},
   "outputs": [],
   "source": [
    "eval_model(model2)"
   ]
  }
 ],
 "metadata": {
  "kernelspec": {
   "display_name": "Python 3 (ipykernel)",
   "language": "python",
   "name": "python3"
  },
  "language_info": {
   "codemirror_mode": {
    "name": "ipython",
    "version": 3
   },
   "file_extension": ".py",
   "mimetype": "text/x-python",
   "name": "python",
   "nbconvert_exporter": "python",
   "pygments_lexer": "ipython3",
   "version": "3.12.3"
  }
 },
 "nbformat": 4,
 "nbformat_minor": 5
}
