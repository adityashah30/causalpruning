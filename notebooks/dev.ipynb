{
 "cells": [
  {
   "cell_type": "code",
   "execution_count": 1,
   "id": "7a49375a",
   "metadata": {},
   "outputs": [],
   "source": [
    "%load_ext autoreload\n",
    "%autoreload 2\n",
    "import os\n",
    "import sys\n",
    "module_path = os.path.abspath(os.path.join('../'))\n",
    "sys.path.insert(0, module_path)"
   ]
  },
  {
   "cell_type": "code",
   "execution_count": 2,
   "id": "fffecb17-fa95-44d8-bd3b-b095d0e04fe4",
   "metadata": {},
   "outputs": [],
   "source": [
    "import torch\n",
    "import torch.nn.functional as F\n",
    "import torch.optim as optim\n",
    "from torch.utils.data import DataLoader\n",
    "from tqdm import tqdm\n",
    "\n",
    "from causalpruner import best_device, get_causal_pruner\n",
    "from tests.models import get_model\n",
    "from tests.datasets import get_dataset"
   ]
  },
  {
   "cell_type": "code",
   "execution_count": 10,
   "id": "42069ec3",
   "metadata": {},
   "outputs": [
    {
     "name": "stdout",
     "output_type": "stream",
     "text": [
      "Files already downloaded and verified\n",
      "Data already transformed and saved\n",
      "Files already downloaded and verified\n",
      "Data already transformed and saved\n"
     ]
    }
   ],
   "source": [
    "root = '../data/'\n",
    "train, test = get_dataset('cifar10', root)\n",
    "\n",
    "batch_size = 4096\n",
    "num_workers = 2\n",
    "\n",
    "trainloader = DataLoader(\n",
    "    train, batch_size=batch_size, shuffle=True, pin_memory=True,\n",
    "    num_workers=num_workers)\n",
    "testloader = DataLoader(\n",
    "    test, batch_size=batch_size, shuffle=False, pin_memory=True,\n",
    "    num_workers=num_workers)"
   ]
  },
  {
   "cell_type": "code",
   "execution_count": 4,
   "id": "baa234d9",
   "metadata": {},
   "outputs": [],
   "source": [
    "def get_pruned_stats(model):\n",
    "    for (name, param) in model.named_buffers():\n",
    "        name = name.rstrip('.weight_mask')\n",
    "        non_zero = torch.count_nonzero(param)\n",
    "        total = torch.count_nonzero(torch.ones_like(param))\n",
    "        pruned = total - non_zero\n",
    "        frac = 100 * pruned / total\n",
    "        print(f'Name: {name}; Total: {\n",
    "            total}; non-zero: {non_zero}; pruned: {pruned}; percent: {frac:.4f}%')"
   ]
  },
  {
   "cell_type": "code",
   "execution_count": 5,
   "id": "6b46607a",
   "metadata": {},
   "outputs": [],
   "source": [
    "def eval_model(model, device=best_device()):\n",
    "    model.eval()\n",
    "    total = 0\n",
    "    correct = 0\n",
    "    with torch.no_grad():\n",
    "        for data in testloader:\n",
    "            inputs, labels = data\n",
    "            inputs, labels = inputs.to(device), labels.to(device)\n",
    "            total += labels.size(0)\n",
    "            outputs = model(inputs)\n",
    "            _, predicted = torch.max(outputs.data, 1)\n",
    "            correct += (predicted == labels).sum().item()\n",
    "    accuracy = correct / total\n",
    "    print(f'Accuracy: {accuracy}; Correct: {correct}; Total: {total}')"
   ]
  },
  {
   "cell_type": "markdown",
   "id": "6e1bf26b",
   "metadata": {},
   "source": [
    "# SGD CausalPruner without momentum"
   ]
  },
  {
   "cell_type": "code",
   "execution_count": 11,
   "id": "7f381eb8",
   "metadata": {},
   "outputs": [
    {
     "name": "stderr",
     "output_type": "stream",
     "text": [
      "100%|██████████| 610/610 [14:23<00:00,  1.42s/it]\n"
     ]
    }
   ],
   "source": [
    "momentum = 0\n",
    "pruner_lr = 1e-3\n",
    "prune_threshold = 1e-5\n",
    "l1_regularization_coeff = 5e-3\n",
    "checkpoint_dir = '../checkpoints'\n",
    "causal_weights_batch_size = 512\n",
    "causal_weights_num_epochs = 256\n",
    "device = best_device()\n",
    "\n",
    "model1 = get_model('lenet', 'cifar10').to(device=device)\n",
    "optimizer1 = optim.SGD(model1.parameters(), lr=1e-3, momentum=momentum)\n",
    "\n",
    "num_pre_prune_epochs = 10\n",
    "num_prune_iterations = 10\n",
    "num_prune_epochs = 10\n",
    "num_post_prune_epochs = 500\n",
    "\n",
    "cp1 = get_causal_pruner(model1,\n",
    "                        optimizer1,\n",
    "                        checkpoint_dir=checkpoint_dir,\n",
    "                        pruner_lr=pruner_lr,\n",
    "                        prune_threshold=prune_threshold,\n",
    "                        l1_regularization_coeff=l1_regularization_coeff,\n",
    "                        causal_weights_batch_size=causal_weights_batch_size,\n",
    "                        causal_weights_num_epochs=causal_weights_num_epochs,\n",
    "                        start_clean=True,\n",
    "                        device=device)\n",
    "\n",
    "\n",
    "pbar = tqdm(total=num_pre_prune_epochs\n",
    "            + num_prune_iterations * num_prune_epochs +\n",
    "            num_post_prune_epochs)\n",
    "for _ in range(num_pre_prune_epochs):\n",
    "    pbar.update(1)\n",
    "    model1.train()\n",
    "    for data in trainloader:\n",
    "        inputs, labels = data\n",
    "        inputs, labels = inputs.to(device), labels.to(device)\n",
    "        optimizer1.zero_grad()\n",
    "        outputs1 = model1(inputs)\n",
    "        loss1 = F.cross_entropy(outputs1, labels)\n",
    "        loss1.backward()\n",
    "        optimizer1.step()\n",
    "cp1.start_pruning()\n",
    "for _ in range(num_prune_iterations):\n",
    "    cp1.start_iteration()\n",
    "    for _ in range(num_prune_epochs):\n",
    "        pbar.update(1)\n",
    "        model1.train()\n",
    "        for data in trainloader:\n",
    "            inputs, labels = data\n",
    "            inputs, labels = inputs.to(device), labels.to(device)\n",
    "            optimizer1.zero_grad()\n",
    "            outputs1 = model1(inputs)\n",
    "            loss1 = F.cross_entropy(outputs1, labels)\n",
    "            cp1.provide_loss(loss1)\n",
    "            loss1.backward()\n",
    "            optimizer1.step()\n",
    "    cp1.compute_masks()\n",
    "    cp1.reset_weights()\n",
    "for _ in range(num_post_prune_epochs):\n",
    "    pbar.update(1)\n",
    "    model1.train()\n",
    "    for data in trainloader:\n",
    "        inputs, labels = data\n",
    "        inputs, labels = inputs.to(device), labels.to(device)\n",
    "        optimizer1.zero_grad()\n",
    "        outputs1 = model1(inputs)\n",
    "        loss1 = F.cross_entropy(outputs1, labels)\n",
    "        loss1.backward()\n",
    "        optimizer1.step()\n",
    "\n",
    "pbar.close()"
   ]
  },
  {
   "cell_type": "code",
   "execution_count": 13,
   "id": "3cc9c38b",
   "metadata": {},
   "outputs": [
    {
     "name": "stdout",
     "output_type": "stream",
     "text": [
      "Name: conv1; Total: 1500; non-zero: 869; pruned: 631; percent: 42.0667%\n",
      "Name: conv2; Total: 25000; non-zero: 15155; pruned: 9845; percent: 39.3800%\n",
      "Name: fc1; Total: 625000; non-zero: 391333; pruned: 233667; percent: 37.3867%\n",
      "Name: fc2; Total: 5000; non-zero: 2955; pruned: 2045; percent: 40.9000%\n"
     ]
    }
   ],
   "source": [
    "get_pruned_stats(model1)"
   ]
  },
  {
   "cell_type": "code",
   "execution_count": 18,
   "id": "cb7b5cff",
   "metadata": {},
   "outputs": [
    {
     "name": "stdout",
     "output_type": "stream",
     "text": [
      "Accuracy: 0.5009; Correct: 5009; Total: 10000\n"
     ]
    }
   ],
   "source": [
    "eval_model(model1)"
   ]
  },
  {
   "cell_type": "code",
   "execution_count": 19,
   "id": "5512c999",
   "metadata": {},
   "outputs": [
    {
     "name": "stderr",
     "output_type": "stream",
     "text": [
      "100%|██████████| 510/510 [11:22<00:00,  1.34s/it]\n"
     ]
    }
   ],
   "source": [
    "model2 = get_model('lenet', 'cifar10').to(device=device)\n",
    "optimizer2 = optim.SGD(model2.parameters(), lr=1e-3, momentum=momentum)\n",
    "\n",
    "num_total_epochs = num_pre_prune_epochs + num_post_prune_epochs\n",
    "\n",
    "pbar = tqdm(total=num_total_epochs)\n",
    "for _ in range(num_total_epochs):\n",
    "    pbar.update(1)\n",
    "    model2.train()\n",
    "    for data in trainloader:\n",
    "        inputs, labels = data\n",
    "        inputs, labels = inputs.to(device), labels.to(device)\n",
    "        optimizer2.zero_grad()\n",
    "        outputs2 = model2(inputs)\n",
    "        loss2 = F.cross_entropy(outputs2, labels)\n",
    "        loss2.backward()\n",
    "        optimizer2.step()\n",
    "\n",
    "pbar.close()"
   ]
  },
  {
   "cell_type": "code",
   "execution_count": 20,
   "id": "1e7b574b",
   "metadata": {},
   "outputs": [
    {
     "name": "stdout",
     "output_type": "stream",
     "text": [
      "Accuracy: 0.5169; Correct: 5169; Total: 10000\n"
     ]
    }
   ],
   "source": [
    "eval_model(model2)"
   ]
  },
  {
   "cell_type": "markdown",
   "id": "bee81bc4",
   "metadata": {},
   "source": [
    "# SGD CausalPruner with momentum"
   ]
  },
  {
   "cell_type": "code",
   "execution_count": 21,
   "id": "807bb3e4",
   "metadata": {},
   "outputs": [
    {
     "name": "stderr",
     "output_type": "stream",
     "text": [
      "100%|██████████| 610/610 [13:58<00:00,  1.38s/it]\n"
     ]
    }
   ],
   "source": [
    "momentum = 0.9\n",
    "pruner_lr = 1e-3\n",
    "prune_threshold = 1e-5\n",
    "l1_regularization_coeff = 5e-3\n",
    "checkpoint_dir = '../checkpoints'\n",
    "causal_weights_batch_size = 512\n",
    "causal_weights_num_epochs = 256\n",
    "device = best_device()\n",
    "\n",
    "model1 = get_model('lenet', 'cifar10').to(device=device)\n",
    "optimizer1 = optim.SGD(model1.parameters(), lr=1e-3, momentum=momentum)\n",
    "\n",
    "num_pre_prune_epochs = 10\n",
    "num_prune_iterations = 10\n",
    "num_prune_epochs = 10\n",
    "num_post_prune_epochs = 500\n",
    "\n",
    "cp1 = get_causal_pruner(model1,\n",
    "                        optimizer1,\n",
    "                        checkpoint_dir=checkpoint_dir,\n",
    "                        pruner_lr=pruner_lr,\n",
    "                        prune_threshold=prune_threshold,\n",
    "                        l1_regularization_coeff=l1_regularization_coeff,\n",
    "                        causal_weights_batch_size=causal_weights_batch_size,\n",
    "                        causal_weights_num_epochs=causal_weights_num_epochs,\n",
    "                        start_clean=True,\n",
    "                        device=device)\n",
    "\n",
    "\n",
    "pbar = tqdm(total=num_pre_prune_epochs\n",
    "            + num_prune_iterations * num_prune_epochs +\n",
    "            num_post_prune_epochs)\n",
    "for _ in range(num_pre_prune_epochs):\n",
    "    pbar.update(1)\n",
    "    model1.train()\n",
    "    for data in trainloader:\n",
    "        inputs, labels = data\n",
    "        inputs, labels = inputs.to(device), labels.to(device)\n",
    "        optimizer1.zero_grad()\n",
    "        outputs1 = model1(inputs)\n",
    "        loss1 = F.cross_entropy(outputs1, labels)\n",
    "        loss1.backward()\n",
    "        optimizer1.step()\n",
    "cp1.start_pruning()\n",
    "for _ in range(num_prune_iterations):\n",
    "    cp1.start_iteration()\n",
    "    for _ in range(num_prune_epochs):\n",
    "        pbar.update(1)\n",
    "        model1.train()\n",
    "        for data in trainloader:\n",
    "            inputs, labels = data\n",
    "            inputs, labels = inputs.to(device), labels.to(device)\n",
    "            optimizer1.zero_grad()\n",
    "            outputs1 = model1(inputs)\n",
    "            loss1 = F.cross_entropy(outputs1, labels)\n",
    "            cp1.provide_loss(loss1)\n",
    "            loss1.backward()\n",
    "            optimizer1.step()\n",
    "    cp1.compute_masks()\n",
    "    cp1.reset_weights()\n",
    "for _ in range(num_post_prune_epochs):\n",
    "    pbar.update(1)\n",
    "    model1.train()\n",
    "    for data in trainloader:\n",
    "        inputs, labels = data\n",
    "        inputs, labels = inputs.to(device), labels.to(device)\n",
    "        optimizer1.zero_grad()\n",
    "        outputs1 = model1(inputs)\n",
    "        loss1 = F.cross_entropy(outputs1, labels)\n",
    "        loss1.backward()\n",
    "        optimizer1.step()\n",
    "\n",
    "pbar.close()"
   ]
  },
  {
   "cell_type": "code",
   "execution_count": 22,
   "id": "d502ca84",
   "metadata": {},
   "outputs": [
    {
     "name": "stdout",
     "output_type": "stream",
     "text": [
      "Name: conv1; Total: 1500; non-zero: 1499; pruned: 1; percent: 0.0667%\n",
      "Name: conv2; Total: 25000; non-zero: 24925; pruned: 75; percent: 0.3000%\n",
      "Name: fc1; Total: 625000; non-zero: 622417; pruned: 2583; percent: 0.4133%\n",
      "Name: fc2; Total: 5000; non-zero: 4985; pruned: 15; percent: 0.3000%\n"
     ]
    }
   ],
   "source": [
    "get_pruned_stats(model1)"
   ]
  },
  {
   "cell_type": "code",
   "execution_count": 23,
   "id": "94202805",
   "metadata": {},
   "outputs": [
    {
     "name": "stdout",
     "output_type": "stream",
     "text": [
      "Accuracy: 0.6322; Correct: 6322; Total: 10000\n"
     ]
    }
   ],
   "source": [
    "eval_model(model1)"
   ]
  },
  {
   "cell_type": "code",
   "execution_count": 24,
   "id": "27cb023c",
   "metadata": {},
   "outputs": [
    {
     "name": "stderr",
     "output_type": "stream",
     "text": [
      "100%|██████████| 510/510 [10:34<00:00,  1.24s/it]\n"
     ]
    }
   ],
   "source": [
    "model2 = get_model('lenet', 'cifar10').to(device=device)\n",
    "optimizer2 = optim.SGD(model2.parameters(), lr=1e-3, momentum=momentum)\n",
    "\n",
    "num_total_epochs = num_pre_prune_epochs + num_post_prune_epochs\n",
    "\n",
    "pbar = tqdm(total=num_total_epochs)\n",
    "for _ in range(num_total_epochs):\n",
    "    pbar.update(1)\n",
    "    model2.train()\n",
    "    for data in trainloader:\n",
    "        inputs, labels = data\n",
    "        inputs, labels = inputs.to(device), labels.to(device)\n",
    "        optimizer2.zero_grad()\n",
    "        outputs2 = model2(inputs)\n",
    "        loss2 = F.cross_entropy(outputs2, labels)\n",
    "        loss2.backward()\n",
    "        optimizer2.step()\n",
    "\n",
    "pbar.close()"
   ]
  },
  {
   "cell_type": "code",
   "execution_count": 25,
   "id": "a8c3b3c1",
   "metadata": {},
   "outputs": [
    {
     "name": "stdout",
     "output_type": "stream",
     "text": [
      "Accuracy: 0.6311; Correct: 6311; Total: 10000\n"
     ]
    }
   ],
   "source": [
    "eval_model(model2)"
   ]
  }
 ],
 "metadata": {
  "kernelspec": {
   "display_name": "Python 3 (ipykernel)",
   "language": "python",
   "name": "python3"
  },
  "language_info": {
   "codemirror_mode": {
    "name": "ipython",
    "version": 3
   },
   "file_extension": ".py",
   "mimetype": "text/x-python",
   "name": "python",
   "nbconvert_exporter": "python",
   "pygments_lexer": "ipython3",
   "version": "3.12.3"
  }
 },
 "nbformat": 4,
 "nbformat_minor": 5
}
