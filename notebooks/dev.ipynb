{
 "cells": [
  {
   "cell_type": "code",
   "execution_count": 33,
   "id": "7a49375a",
   "metadata": {},
   "outputs": [
    {
     "name": "stdout",
     "output_type": "stream",
     "text": [
      "The autoreload extension is already loaded. To reload it, use:\n",
      "  %reload_ext autoreload\n"
     ]
    }
   ],
   "source": [
    "%load_ext autoreload\n",
    "%autoreload 2\n",
    "import os\n",
    "import sys\n",
    "module_path = os.path.abspath(os.path.join('../'))\n",
    "sys.path.insert(0, module_path)"
   ]
  },
  {
   "cell_type": "code",
   "execution_count": 34,
   "id": "fffecb17-fa95-44d8-bd3b-b095d0e04fe4",
   "metadata": {},
   "outputs": [],
   "source": [
    "import torch\n",
    "import torch.nn.functional as F\n",
    "import torch.optim as optim\n",
    "from torch.utils.data import DataLoader\n",
    "from tqdm import tqdm\n",
    "\n",
    "from causalpruner import best_device, get_causal_pruner\n",
    "from tests.models import get_model\n",
    "from tests.datasets import get_dataset"
   ]
  },
  {
   "cell_type": "code",
   "execution_count": 35,
   "id": "42069ec3",
   "metadata": {},
   "outputs": [
    {
     "name": "stdout",
     "output_type": "stream",
     "text": [
      "Files already downloaded and verified\n",
      "Data already transformed and saved\n",
      "Files already downloaded and verified\n",
      "Data already transformed and saved\n"
     ]
    }
   ],
   "source": [
    "root = '../data/'\n",
    "train, test = get_dataset('cifar10', root)\n",
    "\n",
    "batch_size = 4096\n",
    "num_workers = 0\n",
    "\n",
    "trainloader = DataLoader(\n",
    "    train, batch_size=batch_size, shuffle=True, pin_memory=True,\n",
    "    num_workers=num_workers)\n",
    "testloader = DataLoader(\n",
    "    test, batch_size=batch_size, shuffle=False, pin_memory=True,\n",
    "    num_workers=num_workers)"
   ]
  },
  {
   "cell_type": "markdown",
   "id": "679342b4",
   "metadata": {},
   "source": [
    "# Online CausalPruner"
   ]
  },
  {
   "cell_type": "code",
   "execution_count": 6,
   "id": "a12f546b",
   "metadata": {},
   "outputs": [],
   "source": [
    "# from torch.profiler import profile, record_function, ProfilerActivity"
   ]
  },
  {
   "cell_type": "code",
   "execution_count": 11,
   "id": "58f27ef8",
   "metadata": {},
   "outputs": [
    {
     "name": "stderr",
     "output_type": "stream",
     "text": [
      "100%|██████████| 3/3 [00:06<00:00,  2.01s/it]\n"
     ]
    }
   ],
   "source": [
    "momentum = 0\n",
    "prune_threshold = 1e-5\n",
    "l1_regularization_coeff = 1e-5\n",
    "num_epochs_batched = 16\n",
    "causal_weights_num_epochs = 10\n",
    "device = best_device()\n",
    "\n",
    "model1 = get_model('lenet', 'cifar10').to(device=device)\n",
    "optimizer1 = optim.SGD(model1.parameters(), lr=1e-3, momentum=momentum)\n",
    "model2 = get_model('lenet', 'cifar10').to(device=device)\n",
    "optimizer2 = optim.SGD(model2.parameters(), lr=1e-3, momentum=momentum)\n",
    "\n",
    "num_pre_prune_epochs = 1\n",
    "num_prune_epochs = 1\n",
    "num_post_prune_epochs = 1\n",
    "\n",
    "cp1 = get_causal_pruner(model1,\n",
    "                        optimizer1,\n",
    "                        prune_threshold=prune_threshold,\n",
    "                        l1_regularization_coeff=l1_regularization_coeff,\n",
    "                        num_epochs_batched=num_epochs_batched,\n",
    "                        causal_weights_num_epochs=causal_weights_num_epochs,\n",
    "                        device=device)\n",
    "\n",
    "\n",
    "def run():\n",
    "    pbar = tqdm(total=num_pre_prune_epochs + num_prune_epochs +\n",
    "                num_post_prune_epochs)\n",
    "    for _ in range(num_pre_prune_epochs):\n",
    "        pbar.update(1)\n",
    "        model1.train()\n",
    "        model2.train()\n",
    "        for data in trainloader:\n",
    "            inputs, labels = data\n",
    "            inputs, labels = inputs.to(device), labels.to(device)\n",
    "            optimizer1.zero_grad()\n",
    "            optimizer2.zero_grad()\n",
    "            outputs1 = model1(inputs)\n",
    "            outputs2 = model2(inputs)\n",
    "            loss1 = F.cross_entropy(outputs1, labels)\n",
    "            loss2 = F.cross_entropy(outputs2, labels)\n",
    "            loss1.backward()\n",
    "            loss2.backward()\n",
    "            optimizer1.step()\n",
    "            optimizer2.step()\n",
    "    for _ in range(num_prune_epochs):\n",
    "        pbar.update(1)\n",
    "        model1.train()\n",
    "        model2.train()\n",
    "        for data in trainloader:\n",
    "            inputs, labels = data\n",
    "            inputs, labels = inputs.to(device), labels.to(device)\n",
    "            optimizer1.zero_grad()\n",
    "            optimizer2.zero_grad()\n",
    "            outputs1 = model1(inputs)\n",
    "            outputs2 = model2(inputs)\n",
    "            loss1 = F.cross_entropy(outputs1, labels)\n",
    "            cp1.provide_loss(loss1)\n",
    "            loss2 = F.cross_entropy(outputs2, labels)\n",
    "            loss1.backward()\n",
    "            loss2.backward()\n",
    "            optimizer1.step()\n",
    "            optimizer2.step()\n",
    "    cp1.compute_masks()\n",
    "    for _ in range(num_post_prune_epochs):\n",
    "        pbar.update(1)\n",
    "        model1.train()\n",
    "        model2.train()\n",
    "        for data in trainloader:\n",
    "            inputs, labels = data\n",
    "            inputs, labels = inputs.to(device), labels.to(device)\n",
    "            optimizer1.zero_grad()\n",
    "            optimizer2.zero_grad()\n",
    "            outputs1 = model1(inputs)\n",
    "            outputs2 = model2(inputs)\n",
    "            loss1 = F.cross_entropy(outputs1, labels)\n",
    "            loss2 = F.cross_entropy(outputs2, labels)\n",
    "            loss1.backward()\n",
    "            loss2.backward()\n",
    "            optimizer1.step()\n",
    "            optimizer2.step()\n",
    "\n",
    "    pbar.close()\n",
    "\n",
    "run()\n",
    "# with profile(activities=[\n",
    "#         ProfilerActivity.CPU, ProfilerActivity.CUDA]) as prof:\n",
    "#     with record_function('cp'):\n",
    "#         run()"
   ]
  },
  {
   "cell_type": "code",
   "execution_count": 12,
   "id": "93f5f0b6",
   "metadata": {},
   "outputs": [
    {
     "name": "stdout",
     "output_type": "stream",
     "text": [
      "Name: conv1; Total: 1500; non-zero: 1498; pruned: 2; percent: 0.1333%\n",
      "Name: conv2; Total: 25000; non-zero: 24708; pruned: 292; percent: 1.1680%\n",
      "Name: fc1; Total: 625000; non-zero: 611260; pruned: 13740; percent: 2.1984%\n",
      "Name: fc2; Total: 5000; non-zero: 4969; pruned: 31; percent: 0.6200%\n"
     ]
    }
   ],
   "source": [
    "for (name, param) in model1.named_buffers():\n",
    "    name = name.rstrip('.weight_mask')\n",
    "    non_zero = torch.count_nonzero(param)\n",
    "    total = torch.count_nonzero(torch.ones_like(param))\n",
    "    pruned = total - non_zero\n",
    "    frac = 100 * pruned / total\n",
    "    print(f'Name: {name}; Total: {\n",
    "          total}; non-zero: {non_zero}; pruned: {pruned}; percent: {frac:.4f}%')"
   ]
  },
  {
   "cell_type": "code",
   "execution_count": 13,
   "id": "6f5d427c",
   "metadata": {},
   "outputs": [
    {
     "name": "stdout",
     "output_type": "stream",
     "text": [
      "Total: 10000; Pruned: 0.1792; Non-pruned: 0.1808\n"
     ]
    }
   ],
   "source": [
    "model1.eval()\n",
    "model2.eval()\n",
    "total = 0\n",
    "correct1 = 0\n",
    "correct2 = 0\n",
    "\n",
    "with torch.no_grad():\n",
    "    for data in testloader:\n",
    "        inputs, labels = data\n",
    "        inputs, labels = inputs.to(device), labels.to(device)\n",
    "        total += labels.size(0)\n",
    "        outputs1 = model1(inputs)\n",
    "        outputs2 = model2(inputs)\n",
    "        _, predicted1 = torch.max(outputs1.data, 1)\n",
    "        _, predicted2 = torch.max(outputs2.data, 1)\n",
    "        correct1 += (predicted1 == labels).sum().item()\n",
    "        correct2 += (predicted2 == labels).sum().item()\n",
    "\n",
    "pruned_accuracy = correct1 / total\n",
    "non_pruned_accuracy = correct2 / total\n",
    "print(f'Total: {total}; Pruned: {\n",
    "      pruned_accuracy}; Non-pruned: {non_pruned_accuracy}')"
   ]
  },
  {
   "cell_type": "code",
   "execution_count": 28,
   "id": "18d7970a",
   "metadata": {},
   "outputs": [],
   "source": [
    "# print(prof.key_averages().table())"
   ]
  },
  {
   "cell_type": "code",
   "execution_count": 29,
   "id": "9b7542c8",
   "metadata": {},
   "outputs": [],
   "source": [
    "# prof.export_chrome_trace('trace.json')"
   ]
  },
  {
   "cell_type": "markdown",
   "id": "6e1bf26b",
   "metadata": {},
   "source": [
    "# Checkpoint CausalPruner"
   ]
  },
  {
   "cell_type": "code",
   "execution_count": 36,
   "id": "3e025f4c",
   "metadata": {},
   "outputs": [],
   "source": [
    "from torch.profiler import profile, record_function, ProfilerActivity"
   ]
  },
  {
   "cell_type": "code",
   "execution_count": 56,
   "id": "7f381eb8",
   "metadata": {},
   "outputs": [
    {
     "name": "stderr",
     "output_type": "stream",
     "text": [
      "100%|██████████| 50/50 [02:12<00:00,  2.65s/it]\n"
     ]
    }
   ],
   "source": [
    "momentum = 0.9\n",
    "prune_threshold = 1e-5\n",
    "l1_regularization_coeff = 5e-3\n",
    "checkpoint_dir = '../checkpoints'\n",
    "causal_weights_batch_size = 512\n",
    "causal_weights_num_epochs = 256\n",
    "device = best_device()\n",
    "\n",
    "model1 = get_model('lenet', 'cifar10').to(device=device)\n",
    "optimizer1 = optim.SGD(model1.parameters(), lr=1e-3, momentum=momentum)\n",
    "model2 = get_model('lenet', 'cifar10').to(device=device)\n",
    "optimizer2 = optim.SGD(model2.parameters(), lr=1e-3, momentum=momentum)\n",
    "\n",
    "num_pre_prune_epochs = 10\n",
    "num_prune_epochs = 20\n",
    "num_post_prune_epochs = 20\n",
    "\n",
    "cp1 = get_causal_pruner(model1,\n",
    "                        optimizer1,\n",
    "                        checkpoint_dir=checkpoint_dir,\n",
    "                        prune_threshold=prune_threshold,\n",
    "                        l1_regularization_coeff=l1_regularization_coeff,\n",
    "                        causal_weights_batch_size=causal_weights_batch_size,\n",
    "                        causal_weights_num_epochs=causal_weights_num_epochs,\n",
    "                        start_clean=True,\n",
    "                        device=device)\n",
    "\n",
    "\n",
    "def run():\n",
    "    pbar = tqdm(total=num_pre_prune_epochs + num_prune_epochs +\n",
    "                num_post_prune_epochs)\n",
    "    for _ in range(num_pre_prune_epochs):\n",
    "        pbar.update(1)\n",
    "        model1.train()\n",
    "        model2.train()\n",
    "        for data in trainloader:\n",
    "            inputs, labels = data\n",
    "            inputs, labels = inputs.to(device), labels.to(device)\n",
    "            optimizer1.zero_grad()\n",
    "            optimizer2.zero_grad()\n",
    "            outputs1 = model1(inputs)\n",
    "            outputs2 = model2(inputs)\n",
    "            loss1 = F.cross_entropy(outputs1, labels)\n",
    "            loss2 = F.cross_entropy(outputs2, labels)\n",
    "            loss1.backward()\n",
    "            loss2.backward()\n",
    "            optimizer1.step()\n",
    "            optimizer2.step()\n",
    "    for _ in range(num_prune_epochs):\n",
    "        pbar.update(1)\n",
    "        model1.train()\n",
    "        model2.train()\n",
    "        for data in trainloader:\n",
    "            inputs, labels = data\n",
    "            inputs, labels = inputs.to(device), labels.to(device)\n",
    "            optimizer1.zero_grad()\n",
    "            optimizer2.zero_grad()\n",
    "            outputs1 = model1(inputs)\n",
    "            outputs2 = model2(inputs)\n",
    "            loss1 = F.cross_entropy(outputs1, labels)\n",
    "            cp1.provide_loss(loss1)\n",
    "            loss2 = F.cross_entropy(outputs2, labels)\n",
    "            loss1.backward()\n",
    "            loss2.backward()\n",
    "            optimizer1.step()\n",
    "            optimizer2.step()\n",
    "    cp1.compute_masks()\n",
    "    for _ in range(num_post_prune_epochs):\n",
    "        pbar.update(1)\n",
    "        model1.train()\n",
    "        model2.train()\n",
    "        for data in trainloader:\n",
    "            inputs, labels = data\n",
    "            inputs, labels = inputs.to(device), labels.to(device)\n",
    "            optimizer1.zero_grad()\n",
    "            optimizer2.zero_grad()\n",
    "            outputs1 = model1(inputs)\n",
    "            outputs2 = model2(inputs)\n",
    "            loss1 = F.cross_entropy(outputs1, labels)\n",
    "            loss2 = F.cross_entropy(outputs2, labels)\n",
    "            loss1.backward()\n",
    "            loss2.backward()\n",
    "            optimizer1.step()\n",
    "            optimizer2.step()\n",
    "\n",
    "    pbar.close()\n",
    "\n",
    "run()\n",
    "# with profile(activities=[\n",
    "#         ProfilerActivity.CPU, ProfilerActivity.CUDA]) as prof:\n",
    "#     with record_function('cp'):\n",
    "#         run()"
   ]
  },
  {
   "cell_type": "code",
   "execution_count": 58,
   "id": "dfe59606",
   "metadata": {},
   "outputs": [
    {
     "name": "stdout",
     "output_type": "stream",
     "text": [
      "Name: conv1; Total: 1500; non-zero: 1396; pruned: 104; percent: 6.9333%\n",
      "Name: conv2; Total: 25000; non-zero: 23348; pruned: 1652; percent: 6.6080%\n",
      "Name: fc1; Total: 625000; non-zero: 571803; pruned: 53197; percent: 8.5115%\n",
      "Name: fc2; Total: 5000; non-zero: 4662; pruned: 338; percent: 6.7600%\n"
     ]
    }
   ],
   "source": [
    "for (name, param) in model1.named_buffers():\n",
    "    name = name.rstrip('.weight_mask')\n",
    "    non_zero = torch.count_nonzero(param)\n",
    "    total = torch.count_nonzero(torch.ones_like(param))\n",
    "    pruned = total - non_zero\n",
    "    frac = 100 * pruned / total\n",
    "    print(f'Name: {name}; Total: {\n",
    "          total}; non-zero: {non_zero}; pruned: {pruned}; percent: {frac:.4f}%')"
   ]
  },
  {
   "cell_type": "code",
   "execution_count": 59,
   "id": "cb7b5cff",
   "metadata": {},
   "outputs": [
    {
     "name": "stdout",
     "output_type": "stream",
     "text": [
      "Total: 10000; Pruned: 0.4574; Non-pruned: 0.4661\n"
     ]
    }
   ],
   "source": [
    "model1.eval()\n",
    "model2.eval()\n",
    "total = 0\n",
    "correct1 = 0\n",
    "correct2 = 0\n",
    "\n",
    "with torch.no_grad():\n",
    "    for data in testloader:\n",
    "        inputs, labels = data\n",
    "        inputs, labels = inputs.to(device), labels.to(device)\n",
    "        total += labels.size(0)\n",
    "        outputs1 = model1(inputs)\n",
    "        outputs2 = model2(inputs)\n",
    "        _, predicted1 = torch.max(outputs1.data, 1)\n",
    "        _, predicted2 = torch.max(outputs2.data, 1)\n",
    "        correct1 += (predicted1 == labels).sum().item()\n",
    "        correct2 += (predicted2 == labels).sum().item()\n",
    "\n",
    "pruned_accuracy = correct1 / total\n",
    "non_pruned_accuracy = correct2 / total\n",
    "print(f'Total: {total}; Pruned: {\n",
    "      pruned_accuracy}; Non-pruned: {non_pruned_accuracy}')"
   ]
  },
  {
   "cell_type": "code",
   "execution_count": 47,
   "id": "bea1ac52",
   "metadata": {},
   "outputs": [],
   "source": [
    "# print(prof.key_averages().table())"
   ]
  },
  {
   "cell_type": "code",
   "execution_count": 46,
   "id": "3e8af7f1",
   "metadata": {},
   "outputs": [],
   "source": [
    "# prof.export_chrome_trace('trace.json')"
   ]
  }
 ],
 "metadata": {
  "kernelspec": {
   "display_name": "Python 3 (ipykernel)",
   "language": "python",
   "name": "python3"
  },
  "language_info": {
   "codemirror_mode": {
    "name": "ipython",
    "version": 3
   },
   "file_extension": ".py",
   "mimetype": "text/x-python",
   "name": "python",
   "nbconvert_exporter": "python",
   "pygments_lexer": "ipython3",
   "version": "3.12.3"
  }
 },
 "nbformat": 4,
 "nbformat_minor": 5
}
